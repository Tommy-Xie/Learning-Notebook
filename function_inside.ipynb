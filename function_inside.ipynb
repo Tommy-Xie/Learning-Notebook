{
 "cells": [
  {
   "cell_type": "markdown",
   "id": "8402fc9d-f88b-40d3-a117-3bf866a477ac",
   "metadata": {},
   "source": [
    "# __getitem__"
   ]
  },
  {
   "cell_type": "markdown",
   "id": "9ceca3cb-b4c0-46ba-9d7a-8265634690dc",
   "metadata": {},
   "source": [
    "凡是在类中定义了这个__getitem__ 方法，那么它的实例对象（假定为p），可以像这样p[key] 取值，当实例对象做p[key] 运算时，会调用类中的方法__getitem__。\n",
    "\n",
    "一般如果想使用索引访问元素时，就可以在类中定义这个方法（__getitem__(self, key) ）。当实例对象通过[] 运算符取值时，会调用它的方法__getitem__。"
   ]
  },
  {
   "cell_type": "code",
   "execution_count": 1,
   "id": "b17d223c-7de3-4ee6-8ce0-0fdd5c2a6dde",
   "metadata": {},
   "outputs": [
    {
     "name": "stdout",
     "output_type": "stream",
     "text": [
      "default\n",
      "1\n",
      "192.168.1.1\n"
     ]
    }
   ],
   "source": [
    "class DataBase:\n",
    "    '''Python 3 中的类'''\n",
    "\n",
    "    def __init__(self, id, address):\n",
    "        '''初始化方法'''\n",
    "        self.id = id\n",
    "        self.address = address\n",
    "        self.d = {self.id: 1,\n",
    "                  self.address: \"192.168.1.1\",\n",
    "                  }\n",
    "\n",
    "    def __getitem__(self, key):\n",
    "        return self.d.get(key, \"default\")\n",
    "\n",
    "\n",
    "data = DataBase(1, \"192.168.2.11\")\n",
    "print(data[\"hi\"])\n",
    "print(data[data.id])\n",
    "print(data[data.address])"
   ]
  },
  {
   "cell_type": "code",
   "execution_count": 2,
   "id": "55d65ef5-4b08-48d5-ad66-2852c1011ced",
   "metadata": {},
   "outputs": [
    {
     "name": "stdout",
     "output_type": "stream",
     "text": [
      "喜\n",
      "------------------------\n",
      "喜\n",
      "哥\n",
      "P\n",
      "Y\n",
      "T\n",
      "H\n",
      "O\n",
      "N\n"
     ]
    }
   ],
   "source": [
    "class STgetitem:\n",
    "\n",
    "    def __init__(self, text):\n",
    "        self.text = text\n",
    "\n",
    "    def __getitem__(self, index):\n",
    "        result = self.text[index].upper()\n",
    "        return result\n",
    "\n",
    "\n",
    "p = STgetitem(\"喜哥Python\")\n",
    "print(p[0])\n",
    "print(\"------------------------\")\n",
    "for char in p:\n",
    "    print(char)"
   ]
  },
  {
   "cell_type": "code",
   "execution_count": 3,
   "id": "5c366baa-cc4f-43fc-95c1-8a62955a24b6",
   "metadata": {},
   "outputs": [
    {
     "name": "stdout",
     "output_type": "stream",
     "text": [
      "100\n",
      "1\n",
      "192.168.2.11\n"
     ]
    }
   ],
   "source": [
    "class DataBase:\n",
    "    '''Python 3 中的类'''\n",
    "\n",
    "    def __init__(self, id, address):\n",
    "        '''初始化方法'''\n",
    "        self.id = id\n",
    "        self.address = address\n",
    "\n",
    "    def __getitem__(self, key):\n",
    "        return self.__dict__.get(key, \"100\")\n",
    "\n",
    "\n",
    "data = DataBase(1, \"192.168.2.11\")\n",
    "print(data[\"hi\"])\n",
    "print(data[\"id\"])\n",
    "print(data[\"address\"])"
   ]
  },
  {
   "cell_type": "markdown",
   "id": "322a2d12-341a-4361-bd3e-0f82fffbe1f1",
   "metadata": {},
   "source": [
    "# staticmethod"
   ]
  },
  {
   "cell_type": "markdown",
   "id": "a8ebe785-6820-4d89-bd17-cacfe9dfb46b",
   "metadata": {},
   "source": [
    "staticmethod 返回函数的静态方法。\n",
    "\n",
    "该方法不强制要求传递参数"
   ]
  },
  {
   "cell_type": "code",
   "execution_count": 4,
   "id": "3f8b1658-210e-49b4-b313-ea132d1808e2",
   "metadata": {},
   "outputs": [
    {
     "name": "stdout",
     "output_type": "stream",
     "text": [
      "runoob\n",
      "runoob\n"
     ]
    }
   ],
   "source": [
    "class C():\n",
    "    def __init__(self):\n",
    "        self.f()  # 静态方法无需实例化   \n",
    "    @staticmethod\n",
    "    def f():\n",
    "        print('runoob');\n",
    "\n",
    "cobj = C()\n",
    "cobj.f()  # 也可以实例化后调用       "
   ]
  },
  {
   "cell_type": "markdown",
   "id": "6633481b-c787-4222-8c33-75f9a91fb0a3",
   "metadata": {},
   "source": [
    "# call"
   ]
  },
  {
   "cell_type": "markdown",
   "id": "b5ae0133-b9f3-41f0-9091-519b3687fb3b",
   "metadata": {},
   "source": [
    "对于可调用对象，实际上“名称()”可以理解为是“名称__call__( )”的简写。"
   ]
  },
  {
   "cell_type": "code",
   "execution_count": 5,
   "id": "fe0c191e-5f1e-47d9-97f8-0a600ce88839",
   "metadata": {},
   "outputs": [
    {
     "name": "stdout",
     "output_type": "stream",
     "text": [
      "__call__ with （1, 2）\n"
     ]
    }
   ],
   "source": [
    "class X(object):\n",
    "    def __init__(self, a, b, range):\n",
    "        self.a = a\n",
    "        self.b = b\n",
    "        self.range = range\n",
    "    def __call__(self, a, b):\n",
    "        self.a = a\n",
    "        self.b = b\n",
    "        print('__call__ with （{}, {}）'.format(self.a, self.b))\n",
    "\n",
    "xInstance = X(1, 2, 3)  #创建实例\n",
    "xInstance(1,2)          #实例可以像函数那样执行，并传入a b值，修改对象的a b"
   ]
  },
  {
   "cell_type": "markdown",
   "id": "bcf3e05b-2720-4f47-9b5d-548217028d0d",
   "metadata": {},
   "source": [
    "# vars"
   ]
  },
  {
   "cell_type": "markdown",
   "id": "457e5d9d-9df9-41cc-9be6-26ea71a3fc5e",
   "metadata": {},
   "source": [
    "vars() 函数返回对象的__dic__ 属性。__dict__属性是包含对象的可变属性的字典。\n",
    "\n",
    "注释：不带参数调用 vars() 函数将返回包含局部符号表的字典。"
   ]
  },
  {
   "cell_type": "code",
   "execution_count": 6,
   "id": "cc80effb-2053-4498-8fe1-579aba602673",
   "metadata": {},
   "outputs": [
    {
     "name": "stdout",
     "output_type": "stream",
     "text": [
      "{'__module__': '__main__', 'name': 'Bill', 'age': 63, 'country': 'USA', '__dict__': <attribute '__dict__' of 'Person' objects>, '__weakref__': <attribute '__weakref__' of 'Person' objects>, '__doc__': None}\n"
     ]
    }
   ],
   "source": [
    "class Person:\n",
    "    name = \"Bill\"\n",
    "    age = 63\n",
    "    country = \"USA\"\n",
    "\n",
    "x = vars(Person)\n",
    "print(x)"
   ]
  },
  {
   "cell_type": "markdown",
   "id": "3c447a39-a3ed-47b1-b3f8-1628849669c9",
   "metadata": {},
   "source": [
    "# future"
   ]
  },
  {
   "cell_type": "markdown",
   "id": "c5926889-8dc6-4d73-a74d-470a35570558",
   "metadata": {},
   "source": [
    "导入__future__支持的语言特征division(精确除法)，当我们没有在程序中导入该特征时，\"/\"操作符执行的是截断除法(Truncating Division),当我们导入精确除法之后，\"/\"执行的是精确除法.此导入方法使用于Python 2.x。而Python 3.x，此方法是自带的。"
   ]
  },
  {
   "cell_type": "code",
   "execution_count": 7,
   "id": "40864334-a6b1-485b-a750-a5113697d438",
   "metadata": {},
   "outputs": [
    {
     "name": "stdout",
     "output_type": "stream",
     "text": [
      "1.3333333333333333\n"
     ]
    }
   ],
   "source": [
    "from __future__ import division\n",
    "\n",
    "print(4/3)"
   ]
  },
  {
   "cell_type": "markdown",
   "id": "bfb8b9ab-247b-4076-b585-0024d2ccacf8",
   "metadata": {},
   "source": [
    "# eval"
   ]
  },
  {
   "cell_type": "markdown",
   "id": "c281cf33-79f8-40fb-a767-cb5f90f96282",
   "metadata": {},
   "source": [
    "返回传入字符串的表达式的结果。即将字符串当成有效的表达式来进行求值并返回计算结果。"
   ]
  },
  {
   "cell_type": "markdown",
   "id": "2560bca3-e531-42cc-90ce-f028242a3dbe",
   "metadata": {},
   "source": [
    "eval函数就是实现list,dict,tuple与str之间的转化，同样str函数把list,dict,tuple转为字符串。"
   ]
  },
  {
   "cell_type": "markdown",
   "id": "6a95c6c1-083b-4b09-baeb-f390e182c66d",
   "metadata": {},
   "source": [
    "eval(expression[, globals[, locals]])\n",
    "\n",
    "expression:表达式\n",
    "\n",
    "globals:（可选参数）变量作用域，全局命名空间，如果被提供，则必须为一个字典对象。\n",
    "\n",
    "locals:（可选参数）变量作用域，局部命名空间，如果被提供，可以是任何映射对象。"
   ]
  },
  {
   "cell_type": "code",
   "execution_count": 1,
   "id": "3df24aaa-5480-414a-9b12-d933267d4260",
   "metadata": {},
   "outputs": [
    {
     "name": "stdout",
     "output_type": "stream",
     "text": [
      "{'__name__': '__main__', '__doc__': 'Automatically created module for IPython interactive environment', '__package__': None, '__loader__': None, '__spec__': None, '__builtin__': <module 'builtins' (built-in)>, '__builtins__': <module 'builtins' (built-in)>, '_ih': ['', 'print(locals())'], '_oh': {}, '_dh': ['E:\\\\JupyterLab\\\\Learning-Notebook'], 'In': ['', 'print(locals())'], 'Out': {}, 'get_ipython': <bound method InteractiveShell.get_ipython of <ipykernel.zmqshell.ZMQInteractiveShell object at 0x0000018D374036A0>>, 'exit': <IPython.core.autocall.ZMQExitAutocall object at 0x0000018D37438CD0>, 'quit': <IPython.core.autocall.ZMQExitAutocall object at 0x0000018D37438CD0>, '_': '', '__': '', '___': '', '_i': '', '_ii': '', '_iii': '', '_i1': 'print(locals())'}\n"
     ]
    }
   ],
   "source": [
    "print(locals())"
   ]
  },
  {
   "cell_type": "markdown",
   "id": "0df3fbac-3f8c-4434-abbb-4fbcb39a360a",
   "metadata": {},
   "source": [
    "当locals参数为空时，globals参数不为空时，先查找globals参数中是否存在变量，并进行计算。\n",
    "当两个参数都不为空时，先查找locals参数，再查找globals参数。"
   ]
  },
  {
   "cell_type": "code",
   "execution_count": 3,
   "id": "356894f0-c142-4675-a12e-e6f55847df06",
   "metadata": {},
   "outputs": [
    {
     "name": "stdout",
     "output_type": "stream",
     "text": [
      "16\n"
     ]
    }
   ],
   "source": [
    "#1.eval 无参数实现字符串转化\n",
    "s = \"1+2+3*5-2\"\n",
    "print(eval(s))"
   ]
  },
  {
   "cell_type": "code",
   "execution_count": 4,
   "id": "678ed5dc-a88a-4a32-bfd6-a32331501664",
   "metadata": {},
   "outputs": [
    {
     "name": "stdout",
     "output_type": "stream",
     "text": [
      "3\n"
     ]
    }
   ],
   "source": [
    "#2.字符串中有变量\n",
    "x = 1\n",
    "print(eval(\"x+2\"))"
   ]
  },
  {
   "cell_type": "code",
   "execution_count": 6,
   "id": "b91a9e80-ccc4-4536-82c4-b9f5704c513a",
   "metadata": {},
   "outputs": [
    {
     "name": "stdout",
     "output_type": "stream",
     "text": [
      "{'name': 'linux', 'age': 18}\n"
     ]
    }
   ],
   "source": [
    "#3.字符串转字典\n",
    "print(eval(\"{'name':'linux','age':18}\"))"
   ]
  },
  {
   "cell_type": "code",
   "execution_count": 9,
   "id": "4f1266df-6845-48d5-801a-5a59473dbcc8",
   "metadata": {},
   "outputs": [
    {
     "name": "stdout",
     "output_type": "stream",
     "text": [
      "{'name': 'linux', 'age': 'age'}\n",
      "{'name': 'linux', 'age': 1822}\n",
      "{'name': 'linux', 'age': 1823}\n"
     ]
    }
   ],
   "source": [
    "#4.eval传递全局变量参数时，没带引号的说明是个变量。而不是字符串.\n",
    "print(eval(\"{'name':'linux','age':'age'}\"))\n",
    "print(eval(\"{'name':'linux','age':age}\",{\"age\":1822}))\n",
    "print(eval(\"{'name':'linux','age':age}\",{\"age\":1822},{\"age\":1823}))"
   ]
  },
  {
   "cell_type": "code",
   "execution_count": 12,
   "id": "c6caea3b-281b-4f00-bc60-88b4cfdd30ce",
   "metadata": {},
   "outputs": [
    {
     "name": "stdout",
     "output_type": "stream",
     "text": [
      "{'name': 'linux', 'age': 18}\n",
      "----------------------------\n",
      "{'name': 'linux', 'age': 1822}\n"
     ]
    }
   ],
   "source": [
    "#eval传递本地变量时先从local中查找\n",
    "age = 18\n",
    "print(eval(\"{'name':'linux','age':age}\",{\"age\":1822},locals()))\n",
    "print(\"----------------------------\")\n",
    "print(eval(\"{'name':'linux','age':age}\",{\"age\":1822}))"
   ]
  },
  {
   "cell_type": "markdown",
   "id": "575e4ab6-d446-42b9-813e-45677dc97bfb",
   "metadata": {},
   "source": [
    "eval虽然方便，但要注意安全性，可以将字符串转成表达式并执行，就可以利用执行系统命令，删除文件等操作。，比如用户恶意输入就会获得当前目录文件"
   ]
  },
  {
   "cell_type": "code",
   "execution_count": 13,
   "id": "cf9ab333-3ac1-4f83-b256-b37581138664",
   "metadata": {},
   "outputs": [
    {
     "data": {
      "text/plain": [
       "0"
      ]
     },
     "execution_count": 13,
     "metadata": {},
     "output_type": "execute_result"
    }
   ],
   "source": [
    "eval(\"__import__('os').system('dir')\")"
   ]
  },
  {
   "cell_type": "code",
   "execution_count": null,
   "id": "6dccdf0c-6627-4534-a7d1-ead586b35165",
   "metadata": {},
   "outputs": [],
   "source": []
  }
 ],
 "metadata": {
  "kernelspec": {
   "display_name": "Python(pytorch)",
   "language": "python",
   "name": "pytorch"
  },
  "language_info": {
   "codemirror_mode": {
    "name": "ipython",
    "version": 3
   },
   "file_extension": ".py",
   "mimetype": "text/x-python",
   "name": "python",
   "nbconvert_exporter": "python",
   "pygments_lexer": "ipython3",
   "version": "3.8.12"
  }
 },
 "nbformat": 4,
 "nbformat_minor": 5
}
