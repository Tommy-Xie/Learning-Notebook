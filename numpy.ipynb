{
 "cells": [
  {
   "cell_type": "markdown",
   "id": "4a574ad7-3fb8-4971-bf75-851259ea7194",
   "metadata": {
    "tags": []
   },
   "source": [
    "# n维数组(ndarray)"
   ]
  },
  {
   "cell_type": "markdown",
   "id": "e026588b-6479-480d-ae3b-4d55fefbcf92",
   "metadata": {},
   "source": [
    "ndarray 是一个（通常是固定大小的）多维容器，包含相同类型和大小的项目。\n",
    "\n",
    "数组中的维数和项数由其形状定义，形状是 N 个非负整数的元组，用于指定每个维度的大小。\n",
    "\n",
    "数组中的项目类型由单独的数据类型对象 (dtype) 指定，其中一个与每个 ndarray 相关联。"
   ]
  },
  {
   "cell_type": "markdown",
   "id": "e26b310e-d344-48f8-9330-ace0b683b61d",
   "metadata": {},
   "source": [
    "### numpy.ndarray(shape, dtype=float, buffer=None, offset=0, strides=None, order=None)"
   ]
  },
  {
   "cell_type": "markdown",
   "id": "6b696b5f-f17a-4b33-bafe-ee889ca91f10",
   "metadata": {},
   "source": [
    "参数：\n",
    "\n",
    "shape(整数元组):创建数组的形状"
   ]
  },
  {
   "cell_type": "code",
   "execution_count": 218,
   "id": "a1836656-676a-4b2d-9d25-a2d59f0931ad",
   "metadata": {
    "tags": []
   },
   "outputs": [
    {
     "data": {
      "text/plain": [
       "array([[1., 0.],\n",
       "       [0., 1.]])"
      ]
     },
     "execution_count": 218,
     "metadata": {},
     "output_type": "execute_result"
    }
   ],
   "source": [
    "import numpy as np\n",
    "\n",
    "np.ndarray(shape=(2,2))"
   ]
  },
  {
   "cell_type": "code",
   "execution_count": 34,
   "id": "f81f064e-b78a-405a-a603-7cddd769b5ad",
   "metadata": {},
   "outputs": [
    {
     "data": {
      "text/plain": [
       "array([0.1, 2.3])"
      ]
     },
     "execution_count": 34,
     "metadata": {},
     "output_type": "execute_result"
    }
   ],
   "source": [
    "np.ndarray(shape=2)"
   ]
  },
  {
   "cell_type": "markdown",
   "id": "9016136d-a0bf-489c-bf7a-ebba66b0118b",
   "metadata": {},
   "source": [
    "dtype(数据类型，可选):任何可以解释为numpy数据类型的对象。\n",
    "\n",
    "bool:布尔类型\n",
    "\n",
    "str :字符类型\n",
    "\n",
    "int、numpy.uint:    有符号和无符号的32位整型\n",
    "\n",
    "numpy.int8、numpy.uint8:  有符号和无符号的8位整型\n",
    "\n",
    "numpy.int16、numpy.uint16:有符号和无符号的16位整型\n",
    "\n",
    "numpy.int32、numpy.uint32:有符号和无符号的32位整型\n",
    "\n",
    "numpy.int64、numpy.uint64:有符号和无符号的64位整型\n",
    "\n",
    "float、numpy.float64:双精度浮点数\n",
    "\n",
    "numpy.float32: 单精度浮点数\n",
    "\n",
    "numpy.float16: 半精度浮点数\n",
    "\n",
    "complex、numpy.complex128: 128位复数\n",
    "\n",
    "numpy.complex64:    64位复数"
   ]
  },
  {
   "cell_type": "code",
   "execution_count": 78,
   "id": "1fe20df4-6874-4029-abec-32f3639d0e33",
   "metadata": {},
   "outputs": [
    {
     "data": {
      "text/plain": [
       "array([False, False,  True,  True])"
      ]
     },
     "execution_count": 78,
     "metadata": {},
     "output_type": "execute_result"
    }
   ],
   "source": [
    "np.ndarray(shape=4,dtype = np.bool_)"
   ]
  },
  {
   "cell_type": "markdown",
   "id": "c8ac4841-cf43-4325-bdbe-d1743867fe5b",
   "metadata": {},
   "source": [
    "buffer(对象暴露缓冲区接口,可选):用于用数据填充数组\n",
    "\n",
    "offset(整数,可选):缓冲区中数组数据的偏移量。"
   ]
  },
  {
   "cell_type": "code",
   "execution_count": 90,
   "id": "8c2500f9-6af1-43d6-adf3-83a4e678be22",
   "metadata": {},
   "outputs": [
    {
     "data": {
      "text/plain": [
       "array([2, 3, 4, 5])"
      ]
     },
     "execution_count": 90,
     "metadata": {},
     "output_type": "execute_result"
    }
   ],
   "source": [
    "np.ndarray(4, buffer=np.array([1,2,3,4,5,6,7,8,9]),offset=np.int_().itemsize,dtype=int)"
   ]
  },
  {
   "cell_type": "code",
   "execution_count": 92,
   "id": "04893424-0099-4e43-a47e-9637e2f1d21e",
   "metadata": {},
   "outputs": [
    {
     "data": {
      "text/plain": [
       "array([4, 5, 6, 7])"
      ]
     },
     "execution_count": 92,
     "metadata": {},
     "output_type": "execute_result"
    }
   ],
   "source": [
    "np.ndarray(4, buffer=np.array([1,2,3,4,5,6,7,8,9]),offset=np.int_().itemsize*3,dtype=int)"
   ]
  },
  {
   "cell_type": "markdown",
   "id": "94ab55b0-cabd-4e2c-83a0-d4dfe32e6a1b",
   "metadata": {},
   "source": [
    "stride(整数元组,可选):内存中的数据步长"
   ]
  },
  {
   "cell_type": "code",
   "execution_count": 110,
   "id": "b83459fa-e758-4e02-a908-14938ba32d04",
   "metadata": {},
   "outputs": [
    {
     "name": "stdout",
     "output_type": "stream",
     "text": [
      "[         0          0  392167424 -910970089        457]\n"
     ]
    }
   ],
   "source": [
    "b = np.ndarray(5,dtype=int,strides = 3)\n",
    "\n",
    "print(b)"
   ]
  },
  {
   "attachments": {
    "17dba77a-a472-4d43-a435-8cc0fd4ab5b7.png": {
     "image/png": "[encoded data removed]"
    }
   },
   "cell_type": "markdown",
   "id": "119744d2-b3d3-4c48-84bf-589e0f401866",
   "metadata": {},
   "source": [
    "order({“C”,\"F\"},可选):行优先(\"C\")或列优先(\"F\")顺序。即C语言格式和Fortran语言格式，并且两者在内存中的数据存储区域的方式不同。\n",
    "\n",
    "![WN@RO395T2XIZ55OA%S.png](attachment:17dba77a-a472-4d43-a435-8cc0fd4ab5b7.png)\n"
   ]
  },
  {
   "cell_type": "code",
   "execution_count": 114,
   "id": "53026fbb-ce1c-4414-984d-98863ef9a2f7",
   "metadata": {},
   "outputs": [
    {
     "data": {
      "text/plain": [
       "array([[1, 4, 7],\n",
       "       [2, 5, 8],\n",
       "       [3, 6, 9]])"
      ]
     },
     "execution_count": 114,
     "metadata": {},
     "output_type": "execute_result"
    }
   ],
   "source": [
    "np.ndarray(shape=(3,3), dtype=int, order='F')"
   ]
  },
  {
   "cell_type": "code",
   "execution_count": 116,
   "id": "6e7ffd9c-29ea-429e-934e-b9571533ed4e",
   "metadata": {},
   "outputs": [
    {
     "data": {
      "text/plain": [
       "array([[1968991536, 1647390768,  859517275],\n",
       "       [1549626675,  825241717, 1831885666],\n",
       "       [ 808482140,  828072497, 1832071995]])"
      ]
     },
     "execution_count": 116,
     "metadata": {},
     "output_type": "execute_result"
    }
   ],
   "source": [
    "np.ndarray(shape=(3,3), dtype=int, order='C')"
   ]
  },
  {
   "cell_type": "markdown",
   "id": "0c800a64-3f6f-4833-aff4-dcca67ba4829",
   "metadata": {},
   "source": [
    "### numpy.ndarray.flags"
   ]
  },
  {
   "cell_type": "markdown",
   "id": "3344e712-9b08-4427-9283-3ea9c225f6d2",
   "metadata": {},
   "source": [
    "返回ndarray对象的内存信息"
   ]
  },
  {
   "cell_type": "code",
   "execution_count": 117,
   "id": "cdbddaa4-4edd-4daf-be2c-1d03780994df",
   "metadata": {},
   "outputs": [
    {
     "name": "stdout",
     "output_type": "stream",
     "text": [
      "  C_CONTIGUOUS : True\n",
      "  F_CONTIGUOUS : True\n",
      "  OWNDATA : True\n",
      "  WRITEABLE : True\n",
      "  ALIGNED : True\n",
      "  WRITEBACKIFCOPY : False\n",
      "  UPDATEIFCOPY : False\n",
      "\n"
     ]
    }
   ],
   "source": [
    "import numpy as np\n",
    "\n",
    "x = np.array([1,2,3,4,5])\n",
    "print(x.flags)"
   ]
  },
  {
   "cell_type": "markdown",
   "id": "f9fc1c39-2367-498e-b20f-328dc619a219",
   "metadata": {},
   "source": [
    "C_CONTIGUOUS: 数据是在一个单一的C风格的连续段中\n",
    "F_CONTIGUOUS: 数据是在一个单一的Fortran风格的连续段中\n",
    "OWNDATA: 数组拥有它所使用的内存或从另一个对象中借用它\n",
    "WRITRABLE: 数组区域可以被写入，将该值设置为False,则数据为只读\n",
    "ALIGNED: 数组和所有元素都适当地对齐到硬件上\n",
    "WRITEBACKIFCOPY:这个数组是其他数组的一个副本，当这个数组被释放时，原数组的内容将被更新\n",
    "UPDATEIFCOPY:弃用"
   ]
  },
  {
   "cell_type": "markdown",
   "id": "cca52074-f867-4ca5-93fc-e06f729d2f70",
   "metadata": {},
   "source": [
    "### numpy.ndarray.shape\n",
    "\n",
    "shape 属性通常用于获取数组的当前形状，"
   ]
  },
  {
   "cell_type": "code",
   "execution_count": 118,
   "id": "dfed8f10-0788-4eab-9d15-b958d120a0f0",
   "metadata": {},
   "outputs": [
    {
     "data": {
      "text/plain": [
       "(4,)"
      ]
     },
     "execution_count": 118,
     "metadata": {},
     "output_type": "execute_result"
    }
   ],
   "source": [
    "import numpy as np\n",
    "\n",
    "x = np.array([1,2,3,4])\n",
    "x.shape"
   ]
  },
  {
   "cell_type": "code",
   "execution_count": 121,
   "id": "268d46ad-a5a3-4475-86a7-41c250fb2203",
   "metadata": {},
   "outputs": [
    {
     "data": {
      "text/plain": [
       "array([[[0., 0., 0., 0.],\n",
       "        [0., 0., 0., 0.],\n",
       "        [0., 0., 0., 0.]],\n",
       "\n",
       "       [[0., 0., 0., 0.],\n",
       "        [0., 0., 0., 0.],\n",
       "        [0., 0., 0., 0.]]])"
      ]
     },
     "execution_count": 121,
     "metadata": {},
     "output_type": "execute_result"
    }
   ],
   "source": [
    "y = np.zeros((2,3,4))\n",
    "y"
   ]
  },
  {
   "cell_type": "code",
   "execution_count": 122,
   "id": "191f87ba-ad6d-4f05-b5c9-2ad21e8c0cb0",
   "metadata": {},
   "outputs": [
    {
     "data": {
      "text/plain": [
       "(2, 3, 4)"
      ]
     },
     "execution_count": 122,
     "metadata": {},
     "output_type": "execute_result"
    }
   ],
   "source": [
    "y.shape"
   ]
  },
  {
   "cell_type": "code",
   "execution_count": 120,
   "id": "80d400cd-c55e-4ba3-99f5-d8f3137bd71b",
   "metadata": {},
   "outputs": [
    {
     "data": {
      "text/plain": [
       "array([[0., 0., 0., 0., 0., 0., 0., 0.],\n",
       "       [0., 0., 0., 0., 0., 0., 0., 0.],\n",
       "       [0., 0., 0., 0., 0., 0., 0., 0.]])"
      ]
     },
     "execution_count": 120,
     "metadata": {},
     "output_type": "execute_result"
    }
   ],
   "source": [
    "y.shape = (3, 8)\n",
    "y"
   ]
  },
  {
   "cell_type": "markdown",
   "id": "3bffb46c-489b-4c30-91f6-ea34e8763b30",
   "metadata": {},
   "source": [
    "### numpy.ndarry.strides\n",
    "\n",
    "维间距：遍历数组时要在每个维度中步进的字节元组,到达当前维下一个相邻数据需要前进的字节数。"
   ]
  },
  {
   "cell_type": "code",
   "execution_count": 123,
   "id": "aa493641-a5e1-4889-87db-24a4e6b76e8c",
   "metadata": {},
   "outputs": [
    {
     "data": {
      "text/plain": [
       "(12, 4)"
      ]
     },
     "execution_count": 123,
     "metadata": {},
     "output_type": "execute_result"
    }
   ],
   "source": [
    "import numpy as np\n",
    "\n",
    "a =np.array([(2,3,4), (5,6,7)])\n",
    "a.strides"
   ]
  },
  {
   "cell_type": "markdown",
   "id": "6785fbc5-6920-4939-8e11-36ceeb496b9a",
   "metadata": {},
   "source": [
    "### numpy.ndarray.ndim\n",
    "\n",
    "数组的维数"
   ]
  },
  {
   "cell_type": "code",
   "execution_count": 124,
   "id": "1de0be48-3ae7-436e-bbb1-12434189b83c",
   "metadata": {},
   "outputs": [
    {
     "data": {
      "text/plain": [
       "1"
      ]
     },
     "execution_count": 124,
     "metadata": {},
     "output_type": "execute_result"
    }
   ],
   "source": [
    "import numpy as np\n",
    "\n",
    "x = np.array([1,2,3])\n",
    "x.ndim"
   ]
  },
  {
   "cell_type": "code",
   "execution_count": 125,
   "id": "9ece3418-db22-486d-a768-03e31b76e6b6",
   "metadata": {},
   "outputs": [
    {
     "data": {
      "text/plain": [
       "3"
      ]
     },
     "execution_count": 125,
     "metadata": {},
     "output_type": "execute_result"
    }
   ],
   "source": [
    "y = np.zeros((2,3,4))\n",
    "y.ndim"
   ]
  },
  {
   "cell_type": "markdown",
   "id": "9fca5f7a-3e2d-4991-a818-7f3dacb431bf",
   "metadata": {},
   "source": [
    "### numpy.ndarray.data\n",
    "\n",
    "Python 缓冲区对象指向数组数据的开头地址。"
   ]
  },
  {
   "cell_type": "code",
   "execution_count": 129,
   "id": "eb872cfa-5a0f-4bbe-8c71-057f3ae0f25b",
   "metadata": {},
   "outputs": [
    {
     "data": {
      "text/plain": [
       "<memory at 0x000001C9CA991C48>"
      ]
     },
     "execution_count": 129,
     "metadata": {},
     "output_type": "execute_result"
    }
   ],
   "source": [
    "import numpy as np\n",
    "\n",
    "x = np.arange(5, dtype=np.float64)\n",
    "x.data"
   ]
  },
  {
   "cell_type": "markdown",
   "id": "6e318e96-4ecb-4558-89d4-8cd6a94e1022",
   "metadata": {},
   "source": [
    "### numpy.ndarray.size\n",
    "\n",
    "数组中的元素个数，等效于numpy.prod(x.shape)"
   ]
  },
  {
   "cell_type": "code",
   "execution_count": 130,
   "id": "9189109b-4863-48c9-917b-e1cb9b10041f",
   "metadata": {},
   "outputs": [
    {
     "data": {
      "text/plain": [
       "30"
      ]
     },
     "execution_count": 130,
     "metadata": {},
     "output_type": "execute_result"
    }
   ],
   "source": [
    "import numpy as np\n",
    "\n",
    "x = np.zeros((3, 5, 2), dtype=np.complex128)\n",
    "x.size"
   ]
  },
  {
   "cell_type": "code",
   "execution_count": 131,
   "id": "8dfd46cc-3ae9-42f3-8201-e2ea4a6ede20",
   "metadata": {},
   "outputs": [
    {
     "data": {
      "text/plain": [
       "30"
      ]
     },
     "execution_count": 131,
     "metadata": {},
     "output_type": "execute_result"
    }
   ],
   "source": [
    "np.prod(x.shape)"
   ]
  },
  {
   "cell_type": "markdown",
   "id": "8d01c81c-aa08-4f4a-853b-7193f272ec9c",
   "metadata": {},
   "source": [
    "### numpy.ndarrat.itemsize\n",
    "\n",
    "一个数组元素的长度(以字节为单位)"
   ]
  },
  {
   "cell_type": "code",
   "execution_count": 132,
   "id": "73640c43-8286-41ae-b546-2cc68367e15e",
   "metadata": {},
   "outputs": [
    {
     "data": {
      "text/plain": [
       "8"
      ]
     },
     "execution_count": 132,
     "metadata": {},
     "output_type": "execute_result"
    }
   ],
   "source": [
    "import numpy as np\n",
    "\n",
    "x = np.array([1,2,3], dtype=np.float64)\n",
    "x.itemsize"
   ]
  },
  {
   "cell_type": "code",
   "execution_count": 134,
   "id": "2c15b5d2-c940-4c92-ab66-9c1b87f3dcc8",
   "metadata": {},
   "outputs": [
    {
     "data": {
      "text/plain": [
       "16"
      ]
     },
     "execution_count": 134,
     "metadata": {},
     "output_type": "execute_result"
    }
   ],
   "source": [
    "x = np.array([1,2,3], dtype=np.complex128)\n",
    "x.itemsize"
   ]
  },
  {
   "cell_type": "markdown",
   "id": "c81e8d72-3fc4-47a7-9572-a678eae893c6",
   "metadata": {},
   "source": [
    "### numpy.ndarray.nbytes\n",
    "\n",
    "数组元素消耗的总字节数。不包括数组对象的非元素属性消耗的内存。"
   ]
  },
  {
   "cell_type": "code",
   "execution_count": 135,
   "id": "0f690fd2-bca3-4e5a-b0db-177c9e3e1dc2",
   "metadata": {},
   "outputs": [
    {
     "data": {
      "text/plain": [
       "480"
      ]
     },
     "execution_count": 135,
     "metadata": {},
     "output_type": "execute_result"
    }
   ],
   "source": [
    "import numpy as np\n",
    "\n",
    "x = np.zeros((3,5,2), dtype=np.complex128)\n",
    "x.nbytes"
   ]
  },
  {
   "cell_type": "code",
   "execution_count": 136,
   "id": "59a0b5f2-3e35-4b1d-95da-25d83f8b6fc7",
   "metadata": {},
   "outputs": [
    {
     "data": {
      "text/plain": [
       "480"
      ]
     },
     "execution_count": 136,
     "metadata": {},
     "output_type": "execute_result"
    }
   ],
   "source": [
    "np.prod(x.shape) * x.itemsize"
   ]
  },
  {
   "cell_type": "markdown",
   "id": "e96dd55b-983e-43a5-848a-b275daa590ea",
   "metadata": {},
   "source": [
    "### numpy.ndarry.base\n",
    "\n",
    "如果内存来自其他对象，则为基础对象。所得的结果为True"
   ]
  },
  {
   "cell_type": "code",
   "execution_count": 138,
   "id": "3836cb2c-389b-49ff-ac7a-35558d86f926",
   "metadata": {},
   "outputs": [
    {
     "name": "stdout",
     "output_type": "stream",
     "text": [
      "None\n"
     ]
    }
   ],
   "source": [
    "import numpy as np\n",
    "\n",
    "x = np.array([1,2,3,4])\n",
    "print(x.base)"
   ]
  },
  {
   "cell_type": "code",
   "execution_count": 141,
   "id": "cbcd31d2-a5e4-4ecf-a65d-aa48fad90bdb",
   "metadata": {},
   "outputs": [
    {
     "data": {
      "text/plain": [
       "True"
      ]
     },
     "execution_count": 141,
     "metadata": {},
     "output_type": "execute_result"
    }
   ],
   "source": [
    "y = x[2:]\n",
    "y.base is x"
   ]
  },
  {
   "cell_type": "markdown",
   "id": "b3cd55c8-f421-46d4-8b79-2cba8ea86402",
   "metadata": {},
   "source": [
    "### numpy.ndarray.dtype\n",
    "\n",
    "数组元素的数据类型。"
   ]
  },
  {
   "cell_type": "code",
   "execution_count": 144,
   "id": "f4d100b6-da00-4ad8-8de3-49126d9c1700",
   "metadata": {},
   "outputs": [
    {
     "data": {
      "text/plain": [
       "array([[1, 2],\n",
       "       [3, 4]])"
      ]
     },
     "execution_count": 144,
     "metadata": {},
     "output_type": "execute_result"
    }
   ],
   "source": [
    "import numpy as np\n",
    "\n",
    "x = np.array([[1,2],[3,4]])\n",
    "x"
   ]
  },
  {
   "cell_type": "code",
   "execution_count": 145,
   "id": "68bb6b98-24c5-42aa-b3cc-85b676468986",
   "metadata": {},
   "outputs": [
    {
     "data": {
      "text/plain": [
       "dtype('int32')"
      ]
     },
     "execution_count": 145,
     "metadata": {},
     "output_type": "execute_result"
    }
   ],
   "source": [
    "x.dtype"
   ]
  },
  {
   "cell_type": "markdown",
   "id": "65f4f517-cc64-4960-b355-ff757273f2a0",
   "metadata": {},
   "source": [
    "### numpy.ndarray.T\n",
    "\n",
    "数组的转置(和numpy.transpose一样)"
   ]
  },
  {
   "cell_type": "code",
   "execution_count": 148,
   "id": "403f5c8f-2939-4e4e-96f0-f7b226da863c",
   "metadata": {},
   "outputs": [
    {
     "data": {
      "text/plain": [
       "array([[1., 2.],\n",
       "       [3., 4.]])"
      ]
     },
     "execution_count": 148,
     "metadata": {},
     "output_type": "execute_result"
    }
   ],
   "source": [
    "import numpy as np\n",
    "\n",
    "x = np.array([[1.,2.],[3.,4.]])\n",
    "x"
   ]
  },
  {
   "cell_type": "code",
   "execution_count": 149,
   "id": "d1e2c118-53e7-4cca-8318-26b0cdeeda46",
   "metadata": {},
   "outputs": [
    {
     "data": {
      "text/plain": [
       "array([[1., 3.],\n",
       "       [2., 4.]])"
      ]
     },
     "execution_count": 149,
     "metadata": {},
     "output_type": "execute_result"
    }
   ],
   "source": [
    "x.T"
   ]
  },
  {
   "cell_type": "markdown",
   "id": "73efe8ad-8112-4381-8e13-1b3aabbeccee",
   "metadata": {},
   "source": [
    "### numpy.ndarray.real\n",
    "\n",
    "数组的实部。"
   ]
  },
  {
   "cell_type": "code",
   "execution_count": 150,
   "id": "bca94dd8-2cc7-4047-80dc-8f794080e1d3",
   "metadata": {},
   "outputs": [
    {
     "data": {
      "text/plain": [
       "array([1.        , 0.70710678])"
      ]
     },
     "execution_count": 150,
     "metadata": {},
     "output_type": "execute_result"
    }
   ],
   "source": [
    "import numpy as np\n",
    "\n",
    "x = np.sqrt([1+0j, 0+1j])\n",
    "x.real"
   ]
  },
  {
   "cell_type": "code",
   "execution_count": 151,
   "id": "6900e536-7d83-4fc7-b768-058033db5b5b",
   "metadata": {},
   "outputs": [
    {
     "data": {
      "text/plain": [
       "dtype('float64')"
      ]
     },
     "execution_count": 151,
     "metadata": {},
     "output_type": "execute_result"
    }
   ],
   "source": [
    "x.real.dtype"
   ]
  },
  {
   "cell_type": "markdown",
   "id": "21995a7a-cf56-4833-85aa-384c9a70b3aa",
   "metadata": {},
   "source": [
    "### numpy.ndarray.imag\n",
    "\n",
    "数组的虚部"
   ]
  },
  {
   "cell_type": "code",
   "execution_count": 152,
   "id": "c98269eb-f34f-4a7c-a118-d8b62b3a4577",
   "metadata": {},
   "outputs": [
    {
     "data": {
      "text/plain": [
       "array([0.        , 0.70710678])"
      ]
     },
     "execution_count": 152,
     "metadata": {},
     "output_type": "execute_result"
    }
   ],
   "source": [
    "import numpy as np\n",
    "\n",
    "x = np.sqrt([1+0j, 0+1j])\n",
    "x.imag"
   ]
  },
  {
   "cell_type": "code",
   "execution_count": 153,
   "id": "d564bcb3-b6f1-4cdb-8bf3-6010d2c99697",
   "metadata": {},
   "outputs": [
    {
     "data": {
      "text/plain": [
       "dtype('float64')"
      ]
     },
     "execution_count": 153,
     "metadata": {},
     "output_type": "execute_result"
    }
   ],
   "source": [
    "x.imag.dtype"
   ]
  },
  {
   "cell_type": "markdown",
   "id": "875ee10b-4aad-429a-a627-c36961c8c1f7",
   "metadata": {},
   "source": [
    "### numpy.ndarray.item\n",
    "\n",
    "将数组的元素复制到标准 Python 标量并返回它。"
   ]
  },
  {
   "cell_type": "code",
   "execution_count": 154,
   "id": "d7d66b75-cdf1-4d78-aa8e-74b08a5d1b35",
   "metadata": {},
   "outputs": [
    {
     "data": {
      "text/plain": [
       "array([[8, 3, 4],\n",
       "       [1, 3, 4],\n",
       "       [4, 8, 2]])"
      ]
     },
     "execution_count": 154,
     "metadata": {},
     "output_type": "execute_result"
    }
   ],
   "source": [
    "import numpy as np\n",
    "\n",
    "x = np.random.randint(9, size=(3,3))\n",
    "x"
   ]
  },
  {
   "cell_type": "code",
   "execution_count": 157,
   "id": "88e582c2-8853-41e9-856d-2b9f9a392597",
   "metadata": {},
   "outputs": [
    {
     "data": {
      "text/plain": [
       "3"
      ]
     },
     "execution_count": 157,
     "metadata": {},
     "output_type": "execute_result"
    }
   ],
   "source": [
    "x.item(4)"
   ]
  },
  {
   "cell_type": "code",
   "execution_count": 159,
   "id": "354e39d4-0c7a-425e-9e18-dc2366869c1f",
   "metadata": {},
   "outputs": [
    {
     "data": {
      "text/plain": [
       "4"
      ]
     },
     "execution_count": 159,
     "metadata": {},
     "output_type": "execute_result"
    }
   ],
   "source": [
    "x.item(1,2)"
   ]
  },
  {
   "cell_type": "markdown",
   "id": "861d9aeb-78ca-42e1-af65-ba640f448952",
   "metadata": {},
   "source": [
    "### numpy.ndarray.itemset\n",
    "\n",
    "将标量插入数组(如果可能,将标量转换为数组的 dtype)"
   ]
  },
  {
   "cell_type": "code",
   "execution_count": 161,
   "id": "528432a4-2761-4f26-b5bc-4fdc5067698c",
   "metadata": {},
   "outputs": [
    {
     "data": {
      "text/plain": [
       "array([[1, 5, 5],\n",
       "       [3, 6, 6],\n",
       "       [3, 4, 1]])"
      ]
     },
     "execution_count": 161,
     "metadata": {},
     "output_type": "execute_result"
    }
   ],
   "source": [
    "import numpy as np\n",
    "\n",
    "x = np.random.randint(9, size=(3,3))\n",
    "x"
   ]
  },
  {
   "cell_type": "code",
   "execution_count": 163,
   "id": "bce1025e-2b7d-43d6-a16e-4a31a3543d29",
   "metadata": {},
   "outputs": [
    {
     "data": {
      "text/plain": [
       "array([[1, 5, 5],\n",
       "       [3, 0, 6],\n",
       "       [3, 4, 1]])"
      ]
     },
     "execution_count": 163,
     "metadata": {},
     "output_type": "execute_result"
    }
   ],
   "source": [
    "x.itemset(4, 0)\n",
    "x"
   ]
  },
  {
   "cell_type": "code",
   "execution_count": 164,
   "id": "de19b47c-85ef-4871-bf60-62c650079d9c",
   "metadata": {},
   "outputs": [
    {
     "data": {
      "text/plain": [
       "array([[1, 5, 5],\n",
       "       [3, 0, 6],\n",
       "       [3, 4, 9]])"
      ]
     },
     "execution_count": 164,
     "metadata": {},
     "output_type": "execute_result"
    }
   ],
   "source": [
    "x.itemset((2, 2), 9)\n",
    "x"
   ]
  },
  {
   "cell_type": "markdown",
   "id": "df44777f-86b2-4d98-922f-faa41f9a822a",
   "metadata": {},
   "source": [
    "### numpy.ndarray.tobytes(order='C')\n",
    "\n",
    "构造包含数组中原始数据字节的 Python 字节。\n",
    "\n",
    "参数：\n",
    "\n",
    "order({'C','F','A'}):\n",
    "控制字节对象的内存布局。‘C’表示C语言存储顺序,‘F’表示F语言存储顺序,‘A’(Any的缩写)如果Fortran连续的则表示‘F’，否则为‘C’。"
   ]
  },
  {
   "cell_type": "code",
   "execution_count": 166,
   "id": "2bbda7a0-0a12-43dc-9110-5f70ab988b62",
   "metadata": {},
   "outputs": [
    {
     "data": {
      "text/plain": [
       "b'\\x00\\x00\\x00\\x00\\x01\\x00\\x00\\x00\\x02\\x00\\x00\\x00\\x03\\x00\\x00\\x00'"
      ]
     },
     "execution_count": 166,
     "metadata": {},
     "output_type": "execute_result"
    }
   ],
   "source": [
    "import numpy as np\n",
    "\n",
    "x = np.array([[0,1],[2,3]])\n",
    "x.tobytes()"
   ]
  },
  {
   "cell_type": "code",
   "execution_count": 167,
   "id": "78fef642-c883-403d-82c2-6082a8d47d48",
   "metadata": {},
   "outputs": [
    {
     "data": {
      "text/plain": [
       "b'\\x00\\x00\\x00\\x00\\x01\\x00\\x00\\x00\\x02\\x00\\x00\\x00\\x03\\x00\\x00\\x00'"
      ]
     },
     "execution_count": 167,
     "metadata": {},
     "output_type": "execute_result"
    }
   ],
   "source": [
    "x.tobytes(order='C')"
   ]
  },
  {
   "cell_type": "code",
   "execution_count": 168,
   "id": "f52a0c80-b850-4b71-8a4f-5c66596729ed",
   "metadata": {},
   "outputs": [
    {
     "data": {
      "text/plain": [
       "b'\\x00\\x00\\x00\\x00\\x02\\x00\\x00\\x00\\x01\\x00\\x00\\x00\\x03\\x00\\x00\\x00'"
      ]
     },
     "execution_count": 168,
     "metadata": {},
     "output_type": "execute_result"
    }
   ],
   "source": [
    "x.tobytes(order='F')"
   ]
  },
  {
   "cell_type": "code",
   "execution_count": 169,
   "id": "3ef3be49-5eeb-4da7-b2f3-594433ce0aad",
   "metadata": {},
   "outputs": [
    {
     "data": {
      "text/plain": [
       "b'\\x00\\x00\\x00\\x00\\x01\\x00\\x00\\x00\\x02\\x00\\x00\\x00\\x03\\x00\\x00\\x00'"
      ]
     },
     "execution_count": 169,
     "metadata": {},
     "output_type": "execute_result"
    }
   ],
   "source": [
    "x.tobytes(order='A')"
   ]
  },
  {
   "cell_type": "markdown",
   "id": "e886783c-d829-4ba7-a9d7-2292a44809d4",
   "metadata": {},
   "source": [
    "### numpy.ndarray.dump(file)\n",
    "\n",
    "将数组的pickle转储到指定的文件。可以使用pickle.load或numpy.load读回数组。\n",
    "\n",
    "参数：\n",
    "     file(str or path):dump格式文件名"
   ]
  },
  {
   "cell_type": "markdown",
   "id": "4d566969-1b49-473e-a180-d60620371152",
   "metadata": {},
   "source": [
    "### numpy.ndarray.dumps\n",
    "\n",
    "以字符串形式返回数组的pickle。 \n",
    "pickle.loads 或 numpy.loads 会将字符串转换回数组。"
   ]
  },
  {
   "cell_type": "markdown",
   "id": "9547e206-9508-4c7c-9aea-b08692105895",
   "metadata": {},
   "source": [
    "### numpy.ndarray.astype(dtype, order='K', casting='unsafe', subok=True, copy=True)\n",
    "\n",
    "数组的副本，强制转换为指定类型。\n",
    "\n",
    "参数:\n",
    "\n",
    "dtype(str or dtype):数组被强制转换为的类型代码或数据类型。"
   ]
  },
  {
   "cell_type": "code",
   "execution_count": 189,
   "id": "85e9ed2d-fc54-4c4f-a47d-0495dcfcce5d",
   "metadata": {},
   "outputs": [
    {
     "data": {
      "text/plain": [
       "array([[1. , 2. , 2.6],\n",
       "       [2.3, 4. , 5.1]])"
      ]
     },
     "execution_count": 189,
     "metadata": {},
     "output_type": "execute_result"
    }
   ],
   "source": [
    "import numpy as np\n",
    "\n",
    "x = np.array([[1, 2, 2.6],[2.3,4,5.1]])\n",
    "x"
   ]
  },
  {
   "cell_type": "code",
   "execution_count": 190,
   "id": "1d1bf96b-533f-42ee-8e83-fa7e28fce0c4",
   "metadata": {},
   "outputs": [
    {
     "data": {
      "text/plain": [
       "array([[1, 2, 2],\n",
       "       [2, 4, 5]])"
      ]
     },
     "execution_count": 190,
     "metadata": {},
     "output_type": "execute_result"
    }
   ],
   "source": [
    "x.astype(int)"
   ]
  },
  {
   "cell_type": "markdown",
   "id": "b98ecf05-693c-4215-9182-2c982665949b",
   "metadata": {},
   "source": [
    "order({'C','F','A','K'},可选):\n",
    "控制结果的内存布局顺序.'C'表示C顺序,'F'表示Fortran顺序，如果所有数组都是Fortran连续的，则'A'表示'F'顺序,否则为'C'顺序,'K'表示接近数组元素出现的顺序"
   ]
  },
  {
   "cell_type": "code",
   "execution_count": 178,
   "id": "cbeb0c7a-b08b-4935-becf-99dbf014c3d1",
   "metadata": {},
   "outputs": [
    {
     "data": {
      "text/plain": [
       "array([[1, 2, 2],\n",
       "       [2, 4, 5]])"
      ]
     },
     "execution_count": 178,
     "metadata": {},
     "output_type": "execute_result"
    }
   ],
   "source": [
    "x.astype(int,order='F')"
   ]
  },
  {
   "cell_type": "code",
   "execution_count": 179,
   "id": "75f98742-918d-4adc-8312-4ff807ebd8b6",
   "metadata": {},
   "outputs": [
    {
     "data": {
      "text/plain": [
       "array([[1, 2, 2],\n",
       "       [2, 4, 5]])"
      ]
     },
     "execution_count": 179,
     "metadata": {},
     "output_type": "execute_result"
    }
   ],
   "source": [
    "x.astype(int,order='C')"
   ]
  },
  {
   "cell_type": "code",
   "execution_count": 181,
   "id": "f71ef7fd-72af-4bb6-8b26-bc769aeee346",
   "metadata": {},
   "outputs": [
    {
     "data": {
      "text/plain": [
       "array([[1, 2, 2],\n",
       "       [2, 4, 5]])"
      ]
     },
     "execution_count": 181,
     "metadata": {},
     "output_type": "execute_result"
    }
   ],
   "source": [
    "x.astype(int,order='A')"
   ]
  },
  {
   "cell_type": "markdown",
   "id": "884cd90b-558b-4464-9450-c1042f899e81",
   "metadata": {},
   "source": [
    "casting:{'no','equiv','safe','same_kind','unsafe'},可选\n",
    "    控制复制时可能发生的数据类型转换。\n",
    "    'no':表示不强制转换数据类型\n",
    "    'equiv' 意味着只允许字节顺序更改\n",
    "    “safe”意味着只允许可以保留值的强制转换\n",
    "    'same_kind' 意味着只允许安全转换或类型内的转换，例如 float64 到 float32\n",
    "    “unsafe”意味着可以进行任何数据转换"
   ]
  },
  {
   "cell_type": "code",
   "execution_count": 193,
   "id": "97fae67f-0910-4de6-bbbd-ed92c52d7985",
   "metadata": {},
   "outputs": [
    {
     "data": {
      "text/plain": [
       "array([1, 2, 5])"
      ]
     },
     "execution_count": 193,
     "metadata": {},
     "output_type": "execute_result"
    }
   ],
   "source": [
    "c = np.array([1.0, 2.6, 5.2])\n",
    "\n",
    "c.astype(int,casting='unsafe')"
   ]
  },
  {
   "cell_type": "markdown",
   "id": "d7b657cc-d95e-4cae-943c-a318f9c9a632",
   "metadata": {},
   "source": [
    "subok(布尔，可选):\n",
    "    如果为True,则子类将被传递(默认),否则返回的数组将被强制为基类数组。"
   ]
  },
  {
   "cell_type": "code",
   "execution_count": 192,
   "id": "d17d706b-100f-4a72-b86f-2b6ea8eeff0e",
   "metadata": {},
   "outputs": [
    {
     "data": {
      "text/plain": [
       "array([1, 2, 5])"
      ]
     },
     "execution_count": 192,
     "metadata": {},
     "output_type": "execute_result"
    }
   ],
   "source": [
    "c = np.array([1.0, 2.6, 5.2])\n",
    "\n",
    "c.astype(int,subok=False)"
   ]
  },
  {
   "cell_type": "markdown",
   "id": "332bc82a-bac9-4b2a-b368-7f7fce888b9e",
   "metadata": {},
   "source": [
    "copy(布尔,可选):\n",
    "    默认情况下,astype总是返回一个新分配的数组。如果将其设置为false,并且满足dtype,order和subok要求,则返回输入数组而不是副本."
   ]
  },
  {
   "cell_type": "code",
   "execution_count": 196,
   "id": "9af1f3b9-ab8a-4048-903f-0e5cdc3cbe86",
   "metadata": {},
   "outputs": [
    {
     "data": {
      "text/plain": [
       "array([1, 2, 5])"
      ]
     },
     "execution_count": 196,
     "metadata": {},
     "output_type": "execute_result"
    }
   ],
   "source": [
    "c = np.array([1.0, 2.6, 5.2])\n",
    "\n",
    "c.astype(int,copy=False)"
   ]
  },
  {
   "cell_type": "markdown",
   "id": "64988726-f2e1-422e-bb86-d968b33c878e",
   "metadata": {},
   "source": [
    "### numpy.ndarray.byteswap(inplace=False)\n",
    "\n",
    "交换数组元素的字节,不交换字节字符串数组。复数的实部和虚部单独交换.(可选择就地交换)\n",
    "\n",
    "参数：\n",
    "      inplace(布尔,可选):如果为 True，就地交换字节"
   ]
  },
  {
   "cell_type": "code",
   "execution_count": 235,
   "id": "539cc598-9d0d-4748-a268-f3644bbbb702",
   "metadata": {},
   "outputs": [
    {
     "data": {
      "text/plain": [
       "['0x1', '0x100', '0x2233']"
      ]
     },
     "execution_count": 235,
     "metadata": {},
     "output_type": "execute_result"
    }
   ],
   "source": [
    "import numpy as np\n",
    "\n",
    "A = np.array([1, 256, 8755], dtype = np.int16)\n",
    "list(map(hex, A))"
   ]
  },
  {
   "cell_type": "markdown",
   "id": "22f89158-a0ec-455e-bb7b-d590378d81b7",
   "metadata": {},
   "source": [
    "不采用就地交换字节"
   ]
  },
  {
   "cell_type": "code",
   "execution_count": 236,
   "id": "9afee245-c0f3-4783-8031-6d916cc4662e",
   "metadata": {},
   "outputs": [
    {
     "data": {
      "text/plain": [
       "array([  256,     1, 13090], dtype=int16)"
      ]
     },
     "execution_count": 236,
     "metadata": {},
     "output_type": "execute_result"
    }
   ],
   "source": [
    "A.byteswap()"
   ]
  },
  {
   "cell_type": "code",
   "execution_count": 237,
   "id": "eb3605e6-565f-478b-92be-88bca7634dd0",
   "metadata": {},
   "outputs": [
    {
     "data": {
      "text/plain": [
       "['0x1', '0x100', '0x2233']"
      ]
     },
     "execution_count": 237,
     "metadata": {},
     "output_type": "execute_result"
    }
   ],
   "source": [
    "list(map(hex, A))"
   ]
  },
  {
   "cell_type": "markdown",
   "id": "a8cc6094-3813-4b5a-a259-6539ec6f615a",
   "metadata": {},
   "source": [
    "采用就地交换字节"
   ]
  },
  {
   "cell_type": "code",
   "execution_count": 238,
   "id": "b5c205cc-7dca-48cb-a787-74c01e3a2102",
   "metadata": {},
   "outputs": [
    {
     "data": {
      "text/plain": [
       "array([  256,     1, 13090], dtype=int16)"
      ]
     },
     "execution_count": 238,
     "metadata": {},
     "output_type": "execute_result"
    }
   ],
   "source": [
    "A.byteswap(inplace=True)"
   ]
  },
  {
   "cell_type": "code",
   "execution_count": 239,
   "id": "bbbde605-0d84-46bb-ba51-264969fddb67",
   "metadata": {},
   "outputs": [
    {
     "data": {
      "text/plain": [
       "['0x100', '0x1', '0x3322']"
      ]
     },
     "execution_count": 239,
     "metadata": {},
     "output_type": "execute_result"
    }
   ],
   "source": [
    "list(map(hex, A))"
   ]
  },
  {
   "cell_type": "code",
   "execution_count": null,
   "id": "fd1f54ae-9798-4cf7-9a70-204c461a17ab",
   "metadata": {},
   "outputs": [],
   "source": []
  },
  {
   "cell_type": "markdown",
   "id": "dba94ae1-ac86-4dbb-9e03-81ecdd58ec9f",
   "metadata": {},
   "source": [
    "### numpy.ndarray.copy(order='C')\n",
    "\n",
    "返回一个数组副本"
   ]
  },
  {
   "cell_type": "markdown",
   "id": "a68b7e0a-c882-4175-a1e4-67e880f0c1a7",
   "metadata": {},
   "source": [
    "参数： \n",
    "    \n",
    "    order({'C','F','A','K'},可选):控制结果的内存布局顺序.'C'表示C顺序,'F'表示Fortran顺序，如果所有数组都是Fortran连续的，则'A'表示'F'顺序,否则为'C'顺序,'K'表示接近数组元素出现的顺序"
   ]
  },
  {
   "cell_type": "code",
   "execution_count": 211,
   "id": "62afb56d-1072-401c-9607-ec59b9d77574",
   "metadata": {},
   "outputs": [
    {
     "name": "stdout",
     "output_type": "stream",
     "text": [
      "[[1 4 7]\n",
      " [2 5 8]\n",
      " [3 6 9]]\n"
     ]
    }
   ],
   "source": [
    "import numpy as np\n",
    "\n",
    "x = np.array([[1, 4, 7],[2, 5, 8],[3, 6, 9]])\n",
    "y = x.copy()\n",
    "print(y)"
   ]
  },
  {
   "cell_type": "code",
   "execution_count": 214,
   "id": "406428bb-4c21-4f76-8933-09f2e2fc3fce",
   "metadata": {},
   "outputs": [
    {
     "name": "stdout",
     "output_type": "stream",
     "text": [
      "[[1 4 7]\n",
      " [2 5 8]\n",
      " [3 6 9]]\n"
     ]
    }
   ],
   "source": [
    "z = x.copy(order='K')\n",
    "print(z)"
   ]
  },
  {
   "cell_type": "markdown",
   "id": "535dfb0c-816c-42ca-9f6d-741028ce9e3d",
   "metadata": {},
   "source": [
    "注意返回的副本与元数组所占的内存地址不同，元素是不变的，即深复制。"
   ]
  },
  {
   "cell_type": "code",
   "execution_count": 216,
   "id": "3953e9b1-17b9-4a8c-98ba-4011622c52e2",
   "metadata": {},
   "outputs": [
    {
     "data": {
      "text/plain": [
       "array([[0, 0, 0],\n",
       "       [0, 0, 0]])"
      ]
     },
     "execution_count": 216,
     "metadata": {},
     "output_type": "execute_result"
    }
   ],
   "source": [
    "x = np.array([[1,2,3],[4,5,6]], order='F')\n",
    "y = x.copy()\n",
    "x.fill(0)\n",
    "x"
   ]
  },
  {
   "cell_type": "code",
   "execution_count": 217,
   "id": "5916675d-7101-46ee-a8d5-2c47f1ab7ca4",
   "metadata": {},
   "outputs": [
    {
     "data": {
      "text/plain": [
       "array([[1, 2, 3],\n",
       "       [4, 5, 6]])"
      ]
     },
     "execution_count": 217,
     "metadata": {},
     "output_type": "execute_result"
    }
   ],
   "source": [
    "y"
   ]
  },
  {
   "cell_type": "markdown",
   "id": "bc05c1a1-f707-4acf-9649-d08822461905",
   "metadata": {},
   "source": [
    "### numpy.ndarray.view(dtype,type)"
   ]
  },
  {
   "cell_type": "markdown",
   "id": "636769e5-4c13-427e-995d-674a7d76f512",
   "metadata": {},
   "source": [
    "具有相同数据的数组的新视图。"
   ]
  },
  {
   "cell_type": "code",
   "execution_count": 3,
   "id": "b9de7083-8912-43e9-8622-2198c4c8f976",
   "metadata": {},
   "outputs": [],
   "source": [
    "import numpy as np\n",
    "\n",
    "x = np.array([(1,2)],dtype=[('a',np.int8),('b',np.int8)])"
   ]
  },
  {
   "cell_type": "markdown",
   "id": "7eb5fea6-cb45-484f-8474-b4070a12e288",
   "metadata": {},
   "source": [
    "使用不同的类型和数据类型查看数组数据："
   ]
  },
  {
   "cell_type": "code",
   "execution_count": 4,
   "id": "18d280f1-d450-4c81-99b8-89d856ace127",
   "metadata": {},
   "outputs": [
    {
     "data": {
      "text/plain": [
       "matrix([[513]], dtype=int16)"
      ]
     },
     "execution_count": 4,
     "metadata": {},
     "output_type": "execute_result"
    }
   ],
   "source": [
    "y = x.view(dtype=np.int16,type=np.matrix)\n",
    "y"
   ]
  },
  {
   "cell_type": "markdown",
   "id": "05e1b367-b4b6-45a0-b1a1-52be302e4fc1",
   "metadata": {},
   "source": [
    "在结构化数组上创建视图，以便用于计算"
   ]
  },
  {
   "cell_type": "code",
   "execution_count": 5,
   "id": "dc87e30a-be2c-495b-a62f-5fc871b8165d",
   "metadata": {},
   "outputs": [
    {
     "data": {
      "text/plain": [
       "array([[1, 2],\n",
       "       [3, 4]], dtype=int8)"
      ]
     },
     "execution_count": 5,
     "metadata": {},
     "output_type": "execute_result"
    }
   ],
   "source": [
    "x = np.array([(1, 2),(3,4)], dtype=[('a', np.int8), ('b', np.int8)])\n",
    "xv = x.view(dtype=np.int8).reshape(-1,2)\n",
    "xv"
   ]
  },
  {
   "cell_type": "markdown",
   "id": "4eb58531-524d-4834-b53a-5af984154dc5",
   "metadata": {},
   "source": [
    "### numpy.ndarry.getfield(dtype,offset=0)"
   ]
  },
  {
   "cell_type": "markdown",
   "id": "a186fa43-75b7-4bdf-b910-df335fa58ed5",
   "metadata": {},
   "source": [
    "以特定类型返回给定数组的字段。"
   ]
  },
  {
   "cell_type": "code",
   "execution_count": 9,
   "id": "bdf88867-b05a-474d-a937-03f72e72ba09",
   "metadata": {},
   "outputs": [
    {
     "data": {
      "text/plain": [
       "array([[1.+1.j, 0.+0.j],\n",
       "       [0.+0.j, 2.+5.j]])"
      ]
     },
     "execution_count": 9,
     "metadata": {},
     "output_type": "execute_result"
    }
   ],
   "source": [
    "import numpy as np\n",
    "\n",
    "x = np.diag([1.+1.j]*2)\n",
    "x[1,1]=2+5.j\n",
    "x"
   ]
  },
  {
   "cell_type": "code",
   "execution_count": 10,
   "id": "93ab1150-4117-46ce-878a-4cb0db185ac6",
   "metadata": {},
   "outputs": [
    {
     "data": {
      "text/plain": [
       "array([[1., 0.],\n",
       "       [0., 2.]])"
      ]
     },
     "execution_count": 10,
     "metadata": {},
     "output_type": "execute_result"
    }
   ],
   "source": [
    "x.getfield(np.float64)"
   ]
  },
  {
   "cell_type": "markdown",
   "id": "bf5dc988-0966-4ed1-a5f7-e29d09d476a1",
   "metadata": {},
   "source": [
    "参数：\n",
    "\n",
    "     offset(int):开始元素视图之前要跳过的字节数。"
   ]
  },
  {
   "cell_type": "code",
   "execution_count": 11,
   "id": "9be1f22c-5a8b-47b5-bde9-fb42c05ab15c",
   "metadata": {},
   "outputs": [
    {
     "data": {
      "text/plain": [
       "array([[1., 0.],\n",
       "       [0., 5.]])"
      ]
     },
     "execution_count": 11,
     "metadata": {},
     "output_type": "execute_result"
    }
   ],
   "source": [
    "x.getfield(np.float64,offset=8)"
   ]
  },
  {
   "cell_type": "markdown",
   "id": "023a781e-bb31-49a6-b703-4e4d368ca3cb",
   "metadata": {},
   "source": [
    "### numpy.ndarray.setflags(write=None,align=None,uic=None)"
   ]
  },
  {
   "cell_type": "markdown",
   "id": "0c23033a-e526-40cb-afec-c7213e1467c9",
   "metadata": {},
   "source": [
    "分别设置数组标志 WRITEABLE, ALIGNED, WRITEBACKIFCOPY 和 UPDATEIFCOPY。"
   ]
  },
  {
   "cell_type": "code",
   "execution_count": 12,
   "id": "6f79de98-bdb1-424d-9d10-5241c925862e",
   "metadata": {},
   "outputs": [
    {
     "data": {
      "text/plain": [
       "  C_CONTIGUOUS : True\n",
       "  F_CONTIGUOUS : False\n",
       "  OWNDATA : True\n",
       "  WRITEABLE : True\n",
       "  ALIGNED : True\n",
       "  WRITEBACKIFCOPY : False\n",
       "  UPDATEIFCOPY : False"
      ]
     },
     "execution_count": 12,
     "metadata": {},
     "output_type": "execute_result"
    }
   ],
   "source": [
    "import numpy as np\n",
    "\n",
    "y = np.array([[3, 1, 7],\n",
    "              [2, 0, 0],\n",
    "              [8, 5, 9]])\n",
    "y.flags"
   ]
  },
  {
   "cell_type": "markdown",
   "id": "6c58c291-4cb3-4c1e-b0aa-dfc1739ec710",
   "metadata": {},
   "source": [
    "参数：\n",
    "\n",
    "    write(布尔,可选):描述是否可以输入\n",
    "    align(布尔,可选):描述是否与其类型正确对齐。\n",
    "    uic(布尔,可选):描述是否是另一个“基本”数组的副本。"
   ]
  },
  {
   "cell_type": "code",
   "execution_count": 14,
   "id": "01066170-5451-47d7-b339-430a787f638c",
   "metadata": {},
   "outputs": [
    {
     "data": {
      "text/plain": [
       "  C_CONTIGUOUS : True\n",
       "  F_CONTIGUOUS : False\n",
       "  OWNDATA : True\n",
       "  WRITEABLE : False\n",
       "  ALIGNED : False\n",
       "  WRITEBACKIFCOPY : False\n",
       "  UPDATEIFCOPY : False"
      ]
     },
     "execution_count": 14,
     "metadata": {},
     "output_type": "execute_result"
    }
   ],
   "source": [
    "y.setflags(write=0,align=0)\n",
    "y.flags"
   ]
  },
  {
   "cell_type": "markdown",
   "id": "44a3f989-c1f5-426c-af7e-f7e4c99c11df",
   "metadata": {},
   "source": [
    "### numpy.ndarray.fill(value)"
   ]
  },
  {
   "cell_type": "markdown",
   "id": "9fabef2a-c4d7-4387-8cd2-177aa1074b48",
   "metadata": {},
   "source": [
    "用标量值填充数组。"
   ]
  },
  {
   "cell_type": "code",
   "execution_count": 18,
   "id": "adc1f43c-307b-49fc-9d9b-2969d2789b40",
   "metadata": {},
   "outputs": [
    {
     "data": {
      "text/plain": [
       "array([0, 0])"
      ]
     },
     "execution_count": 18,
     "metadata": {},
     "output_type": "execute_result"
    }
   ],
   "source": [
    "import numpy as np\n",
    "\n",
    "a = np.array([1,2])\n",
    "a.fill(0)\n",
    "a"
   ]
  },
  {
   "cell_type": "markdown",
   "id": "8d9c05c1-aa9e-4d08-a71a-e52f6617ee38",
   "metadata": {},
   "source": [
    "### numpy.ndarray.reshape(shape,order='C')"
   ]
  },
  {
   "cell_type": "markdown",
   "id": "e3035d77-59f7-4bd6-829c-66a7cd3767b0",
   "metadata": {},
   "source": [
    "返回一个包含具有新形状的相同数据的数组。(参看numpy.shape)"
   ]
  },
  {
   "cell_type": "code",
   "execution_count": 19,
   "id": "e44c81fc-bcaf-4211-8df5-1c8be1ed50c4",
   "metadata": {},
   "outputs": [
    {
     "data": {
      "text/plain": [
       "array([[0, 1],\n",
       "       [2, 3],\n",
       "       [4, 5]])"
      ]
     },
     "execution_count": 19,
     "metadata": {},
     "output_type": "execute_result"
    }
   ],
   "source": [
    "import numpy as np\n",
    "\n",
    "a = np.arange(6).reshape((3,2))\n",
    "a"
   ]
  },
  {
   "cell_type": "markdown",
   "id": "2f2347a2-4600-4cf7-9709-617d9b769a33",
   "metadata": {},
   "source": [
    "### numpy.ndarray.resize(new_shape,refcheck=True)"
   ]
  },
  {
   "cell_type": "markdown",
   "id": "bf1d3890-b923-44f9-bb91-7784a6f23744",
   "metadata": {},
   "source": [
    "就地更改数组的形状和大小。"
   ]
  },
  {
   "cell_type": "code",
   "execution_count": 21,
   "id": "4a7813d5-81c4-436d-9c4d-b302c1f71581",
   "metadata": {},
   "outputs": [
    {
     "data": {
      "text/plain": [
       "array([[0],\n",
       "       [1]])"
      ]
     },
     "execution_count": 21,
     "metadata": {},
     "output_type": "execute_result"
    }
   ],
   "source": [
    "import numpy as np\n",
    "\n",
    "a = np.array([[0,1],[2,3]])\n",
    "a.resize(2,1)\n",
    "a"
   ]
  },
  {
   "cell_type": "markdown",
   "id": "30522172-0dee-428c-9f8e-719168823cd5",
   "metadata": {},
   "source": [
    "扩大数组：同上，但缺少的条目用零填充："
   ]
  },
  {
   "cell_type": "code",
   "execution_count": 23,
   "id": "27894c15-795c-48a4-ab20-d5f34ddae224",
   "metadata": {},
   "outputs": [
    {
     "data": {
      "text/plain": [
       "array([[0, 1, 2],\n",
       "       [3, 0, 0]])"
      ]
     },
     "execution_count": 23,
     "metadata": {},
     "output_type": "execute_result"
    }
   ],
   "source": [
    "a = np.array([[0,1],[2,3]])\n",
    "a.resize(2,3)\n",
    "a"
   ]
  },
  {
   "cell_type": "markdown",
   "id": "99dd3d5d-f55e-43b3-aa0c-da0e19f56eee",
   "metadata": {},
   "source": [
    "参数：\n",
    "\n",
    "    refcheck(布尔,可选):如果为 False，则不会检查引用计数。"
   ]
  },
  {
   "cell_type": "code",
   "execution_count": 24,
   "id": "4735a8dd-70f8-42a8-936c-d30f6786b1ed",
   "metadata": {},
   "outputs": [
    {
     "ename": "ValueError",
     "evalue": "cannot resize an array that references or is referenced\nby another array in this way.\nUse the np.resize function or refcheck=False",
     "output_type": "error",
     "traceback": [
      "\u001b[1;31m---------------------------------------------------------------------------\u001b[0m",
      "\u001b[1;31mValueError\u001b[0m                                Traceback (most recent call last)",
      "\u001b[1;32m~\\AppData\\Local\\Temp/ipykernel_17220/3346978305.py\u001b[0m in \u001b[0;36m<module>\u001b[1;34m\u001b[0m\n\u001b[0;32m      1\u001b[0m \u001b[0ma\u001b[0m \u001b[1;33m=\u001b[0m \u001b[0mnp\u001b[0m\u001b[1;33m.\u001b[0m\u001b[0marray\u001b[0m\u001b[1;33m(\u001b[0m\u001b[1;33m[\u001b[0m\u001b[1;33m[\u001b[0m\u001b[1;36m0\u001b[0m\u001b[1;33m,\u001b[0m\u001b[1;36m1\u001b[0m\u001b[1;33m]\u001b[0m\u001b[1;33m,\u001b[0m\u001b[1;33m[\u001b[0m\u001b[1;36m2\u001b[0m\u001b[1;33m,\u001b[0m\u001b[1;36m3\u001b[0m\u001b[1;33m]\u001b[0m\u001b[1;33m]\u001b[0m\u001b[1;33m)\u001b[0m\u001b[1;33m\u001b[0m\u001b[1;33m\u001b[0m\u001b[0m\n\u001b[0;32m      2\u001b[0m \u001b[0mc\u001b[0m \u001b[1;33m=\u001b[0m \u001b[0ma\u001b[0m\u001b[1;33m\u001b[0m\u001b[1;33m\u001b[0m\u001b[0m\n\u001b[1;32m----> 3\u001b[1;33m \u001b[0ma\u001b[0m\u001b[1;33m.\u001b[0m\u001b[0mresize\u001b[0m\u001b[1;33m(\u001b[0m\u001b[1;36m1\u001b[0m\u001b[1;33m,\u001b[0m\u001b[1;36m1\u001b[0m\u001b[1;33m)\u001b[0m\u001b[1;33m\u001b[0m\u001b[1;33m\u001b[0m\u001b[0m\n\u001b[0m",
      "\u001b[1;31mValueError\u001b[0m: cannot resize an array that references or is referenced\nby another array in this way.\nUse the np.resize function or refcheck=False"
     ]
    }
   ],
   "source": [
    "a = np.array([[0,1],[2,3]])\n",
    "c = a\n",
    "a.resize(1,1)"
   ]
  },
  {
   "cell_type": "code",
   "execution_count": 25,
   "id": "c990bc15-5e88-4d54-98a0-7a9d597869fc",
   "metadata": {},
   "outputs": [
    {
     "data": {
      "text/plain": [
       "array([[0]])"
      ]
     },
     "execution_count": 25,
     "metadata": {},
     "output_type": "execute_result"
    }
   ],
   "source": [
    "a.resize((1,1),refcheck=False)\n",
    "a"
   ]
  },
  {
   "cell_type": "markdown",
   "id": "6e1ff8b2-8603-4881-9a4e-28d31f1fdf60",
   "metadata": {},
   "source": [
    "### numpy.ndarray.transpose(axes)"
   ]
  },
  {
   "cell_type": "markdown",
   "id": "38af11fb-8bc8-406d-a846-4765e6e0e298",
   "metadata": {},
   "source": [
    "返回轴转置的数组视图。"
   ]
  },
  {
   "cell_type": "code",
   "execution_count": 26,
   "id": "db636a5e-c84c-401b-8032-c7ddd39259b1",
   "metadata": {},
   "outputs": [
    {
     "data": {
      "text/plain": [
       "array([[1, 2],\n",
       "       [3, 4]])"
      ]
     },
     "execution_count": 26,
     "metadata": {},
     "output_type": "execute_result"
    }
   ],
   "source": [
    "import numpy as np\n",
    "\n",
    "a = np.array([[1,2],[3,4]])\n",
    "a"
   ]
  },
  {
   "cell_type": "code",
   "execution_count": 27,
   "id": "668e4c62-bd3b-44bf-8212-0f6c7cf9f9a3",
   "metadata": {},
   "outputs": [
    {
     "data": {
      "text/plain": [
       "array([[1, 3],\n",
       "       [2, 4]])"
      ]
     },
     "execution_count": 27,
     "metadata": {},
     "output_type": "execute_result"
    }
   ],
   "source": [
    "a.transpose()"
   ]
  },
  {
   "cell_type": "markdown",
   "id": "05bee04e-fe89-4ad6-860a-ba29f63e4656",
   "metadata": {},
   "source": [
    "参数：\n",
    "\n",
    "       axes(None,整数组，n个整数,可选):\n",
    "       1.无或无参数：颠倒轴的顺序。\n",
    "       2.整数元组：元组中第 j 个位置的 i 表示 a 的第 i 个轴变成 a.transpose() 的第 j 个轴。\n",
    "       3.n ints：与相同整数的 n 元组相同（这种形式只是作为元组形式的“convenience”替代方案）"
   ]
  },
  {
   "cell_type": "code",
   "execution_count": 29,
   "id": "91b6e6d9-0c46-4465-8af1-39ea671ee852",
   "metadata": {},
   "outputs": [
    {
     "data": {
      "text/plain": [
       "array([[1, 3],\n",
       "       [2, 4]])"
      ]
     },
     "execution_count": 29,
     "metadata": {},
     "output_type": "execute_result"
    }
   ],
   "source": [
    "a.transpose(1,0)"
   ]
  },
  {
   "cell_type": "code",
   "execution_count": 31,
   "id": "6775a269-ed58-421f-a5ef-08870422a393",
   "metadata": {},
   "outputs": [
    {
     "data": {
      "text/plain": [
       "array([[1, 2],\n",
       "       [3, 4]])"
      ]
     },
     "execution_count": 31,
     "metadata": {},
     "output_type": "execute_result"
    }
   ],
   "source": [
    "a.transpose(0,1)"
   ]
  },
  {
   "cell_type": "markdown",
   "id": "4cf261a5-08d1-4afb-a085-b215392ac05e",
   "metadata": {},
   "source": [
    "### numpay.ndarray.swapaxes(axis1,axis2)"
   ]
  },
  {
   "cell_type": "markdown",
   "id": "e1c7ee31-c3e0-4415-95df-5f7b84a4ae77",
   "metadata": {},
   "source": [
    "返回轴 1 和轴 2 互换的数组视图。"
   ]
  },
  {
   "cell_type": "code",
   "execution_count": 32,
   "id": "0a1f728f-55df-4a40-bb3a-d2bdebf3d980",
   "metadata": {},
   "outputs": [
    {
     "data": {
      "text/plain": [
       "array([[1],\n",
       "       [2],\n",
       "       [3]])"
      ]
     },
     "execution_count": 32,
     "metadata": {},
     "output_type": "execute_result"
    }
   ],
   "source": [
    "import numpy as np\n",
    "\n",
    "x = np.array([[1,2,3]])\n",
    "np.swapaxes(x,0,1)"
   ]
  },
  {
   "cell_type": "markdown",
   "id": "79061e42-97b7-4fac-865f-4789cd9c3c99",
   "metadata": {},
   "source": [
    "### numpy.ndarray.sort(axis=-1,kind='quicksort',order=None)"
   ]
  },
  {
   "cell_type": "markdown",
   "id": "f9dbef27-06f7-4071-a183-4fa6f560f0c7",
   "metadata": {},
   "source": [
    "就地对数组进行排序。"
   ]
  },
  {
   "cell_type": "code",
   "execution_count": 35,
   "id": "84503523-6b11-40ab-be6f-73c98f65bf1e",
   "metadata": {},
   "outputs": [
    {
     "data": {
      "text/plain": [
       "array([[1, 4],\n",
       "       [1, 3]])"
      ]
     },
     "execution_count": 35,
     "metadata": {},
     "output_type": "execute_result"
    }
   ],
   "source": [
    "import numpy as np\n",
    "\n",
    "a = np.array([[1,4],[3,1]])\n",
    "a.sort()\n",
    "a"
   ]
  },
  {
   "cell_type": "markdown",
   "id": "e19f3084-75ae-41e2-ade8-7f84d010d8a4",
   "metadata": {},
   "source": [
    "参数：\n",
    "\n",
    "        axis(int,可选)；排序的轴。默认值为 -1，表示沿最后一个轴排序。"
   ]
  },
  {
   "cell_type": "code",
   "execution_count": 34,
   "id": "45357f43-6419-462c-a168-2ec7f59c93a8",
   "metadata": {},
   "outputs": [
    {
     "data": {
      "text/plain": [
       "array([[1, 3],\n",
       "       [1, 4]])"
      ]
     },
     "execution_count": 34,
     "metadata": {},
     "output_type": "execute_result"
    }
   ],
   "source": [
    "a.sort(axis=0)\n",
    "a"
   ]
  },
  {
   "cell_type": "markdown",
   "id": "2af8d358-7561-40a0-bb11-f2568be37609",
   "metadata": {},
   "source": [
    "        kind('quicksort','mergesort','heapsort','stable',可选):排序算法。\n",
    "\n",
    "    默认值为“'quicksort'”。请注意，“stable”和“mergesort”都在幕后使用 timsort，通常，实际实现会因数据类型而异。保留“mergesort”选项是为了向后兼容。"
   ]
  },
  {
   "cell_type": "markdown",
   "id": "9f7e11d8-9633-4749-be14-2795d20d58e6",
   "metadata": {},
   "source": [
    "        order(字符,可选):当 a 是定义了字段的数组时，此参数指定要比较第一个、第二个等的字段"
   ]
  },
  {
   "cell_type": "code",
   "execution_count": 36,
   "id": "e90b821e-846c-4443-9c11-8e5e28ac6b99",
   "metadata": {},
   "outputs": [
    {
     "data": {
      "text/plain": [
       "array([(b'c', 1), (b'a', 2)], dtype=[('x', 'S1'), ('y', '<i4')])"
      ]
     },
     "execution_count": 36,
     "metadata": {},
     "output_type": "execute_result"
    }
   ],
   "source": [
    "a = np.array([('a', 2), ('c', 1)], dtype=[('x', 'S1'), ('y', int)])\n",
    "a.sort(order='y')\n",
    "a"
   ]
  },
  {
   "cell_type": "markdown",
   "id": "8b94dac9-b8ee-4315-9fd2-3c33485766e6",
   "metadata": {},
   "source": [
    "### numpy.ndarray.partition(kth,axis=-1,kind='introselect',order=None)"
   ]
  },
  {
   "cell_type": "markdown",
   "id": "01365f62-453b-4058-b86a-9d4127989255",
   "metadata": {},
   "source": [
    "所有小于第 k 个元素的元素都移动到这个元素之前，所有相等或更大的元素都移动到它后面。"
   ]
  },
  {
   "cell_type": "code",
   "execution_count": 37,
   "id": "6f3b4caf-89f5-4ca8-b6ae-f635bb6d3bc7",
   "metadata": {},
   "outputs": [
    {
     "data": {
      "text/plain": [
       "array([2, 1, 3, 4])"
      ]
     },
     "execution_count": 37,
     "metadata": {},
     "output_type": "execute_result"
    }
   ],
   "source": [
    "import numpy as np\n",
    "\n",
    "a = np.array([3,4,2,1])\n",
    "a.partition(3)\n",
    "a"
   ]
  },
  {
   "cell_type": "code",
   "execution_count": 43,
   "id": "8189615b-25e4-412b-adef-acd8f8d27bbf",
   "metadata": {},
   "outputs": [
    {
     "data": {
      "text/plain": [
       "array([1, 2, 3, 4])"
      ]
     },
     "execution_count": 43,
     "metadata": {},
     "output_type": "execute_result"
    }
   ],
   "source": [
    "a = np.array([3,4,2,1])\n",
    "a.partition((1,3))\n",
    "a"
   ]
  },
  {
   "cell_type": "markdown",
   "id": "6f73119f-5dda-4272-bcf8-21fd9c7c50e9",
   "metadata": {},
   "source": [
    "### numpy.ndarray.\\_\\_lt\\_\\_()"
   ]
  },
  {
   "cell_type": "markdown",
   "id": "a669281d-a7d4-4465-87f8-76af1fc71b01",
   "metadata": {},
   "source": [
    "可以找到数组中的哪个元素小于参数中提供的值"
   ]
  },
  {
   "cell_type": "code",
   "execution_count": 49,
   "id": "317febc7-8db9-42eb-93e2-1843a2f105a0",
   "metadata": {},
   "outputs": [
    {
     "name": "stdout",
     "output_type": "stream",
     "text": [
      "[ True  True  True False False False]\n"
     ]
    }
   ],
   "source": [
    "import numpy as np\n",
    "\n",
    "gfg = np.array([1,2,3,4,5,6])\n",
    "print(gfg.__lt__(4))"
   ]
  },
  {
   "cell_type": "markdown",
   "id": "a845a604-daaf-46dd-9324-ad536e8d2f5e",
   "metadata": {},
   "source": [
    "### numpy.ndarray.\\_\\_le\\_\\_()"
   ]
  },
  {
   "cell_type": "markdown",
   "id": "4f0b8292-42dd-4921-8351-5c38cbecac45",
   "metadata": {},
   "source": [
    "可以找到数组中的元素小于等于参数提供的值"
   ]
  },
  {
   "cell_type": "code",
   "execution_count": 50,
   "id": "09863c6b-160e-4bc3-8aba-85004a980536",
   "metadata": {},
   "outputs": [
    {
     "name": "stdout",
     "output_type": "stream",
     "text": [
      "[ True  True  True  True False False]\n"
     ]
    }
   ],
   "source": [
    "import numpy as np\n",
    "\n",
    "gfg = np.array([1,2,3,4,5,6])\n",
    "print(gfg.__le__(4))"
   ]
  },
  {
   "cell_type": "markdown",
   "id": "af79fe2e-1bbd-42d0-ab8c-5bc6e852c024",
   "metadata": {},
   "source": [
    "### numpy.ndarray.\\_\\_gt\\_\\_()"
   ]
  },
  {
   "cell_type": "markdown",
   "id": "b9550d83-242b-4462-8aad-7beb375ac536",
   "metadata": {},
   "source": [
    "可以找到数组中的元素大于参数提供的值"
   ]
  },
  {
   "cell_type": "code",
   "execution_count": 51,
   "id": "d1a3fecd-dd32-4372-9790-ab22389c47c2",
   "metadata": {},
   "outputs": [
    {
     "name": "stdout",
     "output_type": "stream",
     "text": [
      "[False False False False  True  True]\n"
     ]
    }
   ],
   "source": [
    "import numpy as np\n",
    "\n",
    "gfg = np.array([1,2,3,4,5,6])\n",
    "print(gfg.__gt__(4))"
   ]
  },
  {
   "cell_type": "markdown",
   "id": "5e97d7d7-2f68-4cad-a728-ab188a2fa1b8",
   "metadata": {},
   "source": [
    "### numpy.ndarray.\\_\\_ge\\_\\_()"
   ]
  },
  {
   "cell_type": "markdown",
   "id": "4cdf4e9c-8579-4f82-8e83-162ac51f18c6",
   "metadata": {},
   "source": [
    "可以找到数组中的元素大于等于参数提供的值"
   ]
  },
  {
   "cell_type": "code",
   "execution_count": 52,
   "id": "d9cd47a2-0564-4128-a507-1dac4bc4bb57",
   "metadata": {},
   "outputs": [
    {
     "name": "stdout",
     "output_type": "stream",
     "text": [
      "[False False False  True  True  True]\n"
     ]
    }
   ],
   "source": [
    "import numpy as np\n",
    "\n",
    "gfg = np.array([1,2,3,4,5,6])\n",
    "print(gfg.__ge__(4))"
   ]
  },
  {
   "cell_type": "markdown",
   "id": "462c0836-bab1-4758-887d-a36fcae7a2e0",
   "metadata": {},
   "source": [
    "### numpy.ndarray.\\_\\_eq\\_\\_()"
   ]
  },
  {
   "cell_type": "markdown",
   "id": "cfb8578e-537d-4783-bfd5-f3635c00fbc5",
   "metadata": {},
   "source": [
    "可以找到数组中的元素等于参数提供的值"
   ]
  },
  {
   "cell_type": "code",
   "execution_count": 53,
   "id": "e2ce9f6a-d7d1-427e-a9a4-14e660cfb08e",
   "metadata": {},
   "outputs": [
    {
     "name": "stdout",
     "output_type": "stream",
     "text": [
      "[False False False  True False False]\n"
     ]
    }
   ],
   "source": [
    "import numpy as np\n",
    "\n",
    "gfg = np.array([1,2,3,4,5,6])\n",
    "print(gfg.__eq__(4))"
   ]
  },
  {
   "cell_type": "markdown",
   "id": "959d85a6-2bc3-4941-aa18-0e4a6dbfd437",
   "metadata": {},
   "source": [
    "### numpy.ndarray.\\_\\_ne\\_\\_()"
   ]
  },
  {
   "cell_type": "markdown",
   "id": "835f3c6b-5b1f-4eda-a692-698a0e45187a",
   "metadata": {},
   "source": [
    "可以找到数组中的元素不等于参数提供的值"
   ]
  },
  {
   "cell_type": "code",
   "execution_count": 54,
   "id": "559893b0-2d58-4476-9060-52df47c452d9",
   "metadata": {},
   "outputs": [
    {
     "name": "stdout",
     "output_type": "stream",
     "text": [
      "[ True  True  True False  True  True]\n"
     ]
    }
   ],
   "source": [
    "import numpy as np\n",
    "\n",
    "gfg = np.array([1,2,3,4,5,6])\n",
    "print(gfg.__ne__(4))"
   ]
  },
  {
   "cell_type": "markdown",
   "id": "1a0b2c5d-f13e-4f54-b81f-d28911004ce2",
   "metadata": {},
   "source": [
    "### numpy.ndarray.\\_\\_bool\\_\\_()"
   ]
  },
  {
   "cell_type": "markdown",
   "id": "0a98f756-00f8-40b8-8612-aa9a30408f7f",
   "metadata": {},
   "source": [
    "self != 0"
   ]
  },
  {
   "cell_type": "code",
   "execution_count": 70,
   "id": "21db6f44-0c5f-4883-8429-4e440cdfd29e",
   "metadata": {},
   "outputs": [
    {
     "name": "stdout",
     "output_type": "stream",
     "text": [
      "True\n"
     ]
    }
   ],
   "source": [
    "import numpy as np\n",
    "\n",
    "gfg = np.ndarray([1,1,1])\n",
    "print(gfg.__bool__())"
   ]
  },
  {
   "cell_type": "markdown",
   "id": "24263797-35ce-498d-8f8d-4d313edf6ef5",
   "metadata": {},
   "source": [
    "### numpy.ndarray.\\_\\_neg\\_\\_()"
   ]
  },
  {
   "cell_type": "markdown",
   "id": "9ff41117-0381-407a-b982-94d99166facf",
   "metadata": {},
   "source": [
    "返回输入值的相反数"
   ]
  },
  {
   "cell_type": "code",
   "execution_count": 71,
   "id": "406535ab-0726-4598-bb76-655882337bcc",
   "metadata": {},
   "outputs": [
    {
     "name": "stdout",
     "output_type": "stream",
     "text": [
      "[-1  2 -3 -4 -5 -6]\n"
     ]
    }
   ],
   "source": [
    "import numpy as np\n",
    "\n",
    "gfg = np.array([1,-2,3,4,5,6])\n",
    "print(gfg.__neg__())"
   ]
  },
  {
   "cell_type": "markdown",
   "id": "36bf68af-e9a6-4638-88ce-d1fbd0476335",
   "metadata": {},
   "source": [
    "### numpy.ndarray.\\_\\_pos\\_\\_()"
   ]
  },
  {
   "cell_type": "markdown",
   "id": "1449d053-ae5a-4a44-88f6-3473b47e35e7",
   "metadata": {},
   "source": [
    "结果数组的值与原始数组相同。"
   ]
  },
  {
   "cell_type": "code",
   "execution_count": 72,
   "id": "9046fab5-a20f-4e89-bf1d-82f6f5e2e17b",
   "metadata": {},
   "outputs": [
    {
     "name": "stdout",
     "output_type": "stream",
     "text": [
      "[ 1 -2  3  4  5  6]\n"
     ]
    }
   ],
   "source": [
    "import numpy as np\n",
    "\n",
    "gfg = np.array([1,-2,3,4,5,6])\n",
    "print(gfg.__pos__())"
   ]
  },
  {
   "cell_type": "markdown",
   "id": "46404bf3-a0ae-4bbb-a1d6-23bfc31c9a35",
   "metadata": {},
   "source": [
    "### numpy.ndarray.\\_\\_abs\\_\\_()"
   ]
  },
  {
   "cell_type": "markdown",
   "id": "241ec545-9426-4587-a961-e9c74310b797",
   "metadata": {},
   "source": [
    "可以找到数组中每个元素的绝对值。"
   ]
  },
  {
   "cell_type": "code",
   "execution_count": 74,
   "id": "d98eb917-1252-48e8-bec1-a3e27d14574c",
   "metadata": {},
   "outputs": [
    {
     "name": "stdout",
     "output_type": "stream",
     "text": [
      "[1.45 2.32 3.98 4.41 5.51 6.12]\n"
     ]
    }
   ],
   "source": [
    "import numpy as np\n",
    "\n",
    "gfg = np.array([-1.45,2.32,3.98,4.41,5.51,-6.12])\n",
    "print(gfg.__abs__())"
   ]
  },
  {
   "cell_type": "markdown",
   "id": "c70e721e-b1fa-43ea-a7ac-04f83ac35c8c",
   "metadata": {},
   "source": [
    "### numpy.ndarray.\\_\\_invert\\_\\_()"
   ]
  },
  {
   "cell_type": "markdown",
   "id": "5b1b561d-b467-4cb0-882f-9504c6796c0c",
   "metadata": {},
   "source": [
    "返回数组的每个元素的相反数再-1(仅适用于整数)，求补码。"
   ]
  },
  {
   "cell_type": "code",
   "execution_count": 75,
   "id": "35748868-a94d-41f7-8068-9027570fc2f0",
   "metadata": {},
   "outputs": [
    {
     "name": "stdout",
     "output_type": "stream",
     "text": [
      "[-2 -3 -4 -5  4]\n"
     ]
    }
   ],
   "source": [
    "import numpy as np\n",
    "\n",
    "gfg = np.array([1,2,3,4,-5])\n",
    "print(gfg.__invert__())"
   ]
  },
  {
   "cell_type": "markdown",
   "id": "5b45cc99-f658-404e-8cfa-62be8f85c632",
   "metadata": {},
   "source": [
    "### numpy.ndarray.\\_\\_add\\_\\_(value)\n",
    "### numpy.ndarray.\\_\\_iadd\\_\\_(value)"
   ]
  },
  {
   "cell_type": "markdown",
   "id": "9ed10567-9c71-4d38-8db2-7152a31b663d",
   "metadata": {},
   "source": [
    "返回元素加上add中的数值"
   ]
  },
  {
   "cell_type": "code",
   "execution_count": 108,
   "id": "f2646630-a731-4610-9902-e6372b540afb",
   "metadata": {},
   "outputs": [
    {
     "name": "stdout",
     "output_type": "stream",
     "text": [
      "[ 6  7  8  9 10]\n",
      "[ 6  7  8  9 10]\n"
     ]
    }
   ],
   "source": [
    "import numpy as np\n",
    "\n",
    "gfg = np.array([1,2,3,4,5])\n",
    "print(gfg.__add__(5))\n",
    "print(gfg.__iadd__(5))"
   ]
  },
  {
   "cell_type": "markdown",
   "id": "33483d8b-375d-480b-bf21-3058cfe12a5b",
   "metadata": {},
   "source": [
    "### numpy.ndarray.\\_\\_sub\\_\\_(value)\n",
    "### numpy.ndarray.\\_\\_isub\\_\\_(value)"
   ]
  },
  {
   "cell_type": "markdown",
   "id": "1ba3f7ab-90f6-4ae6-a452-048e1f1db1ce",
   "metadata": {},
   "source": [
    "返回元素减去sub中的数值"
   ]
  },
  {
   "cell_type": "code",
   "execution_count": 109,
   "id": "d41f2eec-eeef-47ac-a155-6a7edc6c9dfa",
   "metadata": {},
   "outputs": [
    {
     "name": "stdout",
     "output_type": "stream",
     "text": [
      "[0 1 2 3 4]\n",
      "[0 1 2 3 4]\n"
     ]
    }
   ],
   "source": [
    "import numpy as np\n",
    "\n",
    "gfg = np.array([1,2,3,4,5])\n",
    "print(gfg.__sub__(1))\n",
    "print(gfg.__isub__(1))"
   ]
  },
  {
   "cell_type": "markdown",
   "id": "d89e9c76-4302-4b36-b561-18ab0a1d6397",
   "metadata": {},
   "source": [
    "### numpy.ndarray.\\_\\_mul\\_\\_(value)\n",
    "### numpy.ndarray.\\_\\_imul\\_\\_(value)"
   ]
  },
  {
   "cell_type": "markdown",
   "id": "de5ff962-8347-4018-897b-11a970720419",
   "metadata": {},
   "source": [
    "返回元素乘以mul中的数值"
   ]
  },
  {
   "cell_type": "code",
   "execution_count": 110,
   "id": "e7d20aaa-6743-430b-899d-2f6b44579a97",
   "metadata": {},
   "outputs": [
    {
     "name": "stdout",
     "output_type": "stream",
     "text": [
      "[ 2  4  6  8 10]\n",
      "[ 2  4  6  8 10]\n"
     ]
    }
   ],
   "source": [
    "import numpy as np\n",
    "\n",
    "gfg = np.array([1,2,3,4,5])\n",
    "print(gfg.__mul__(2))\n",
    "print(gfg.__imul__(2))"
   ]
  },
  {
   "cell_type": "markdown",
   "id": "e4061d65-5f3c-43f0-9c3e-3cfd59b29fc2",
   "metadata": {},
   "source": [
    "### numpy.ndarray.\\_\\_truediv\\_\\_(value)\n",
    "### numpy.ndarray.\\_\\_itruediv\\_\\_(value)"
   ]
  },
  {
   "cell_type": "markdown",
   "id": "1354fefc-3f42-4aed-ba47-8f57ee86c806",
   "metadata": {},
   "source": [
    "返回元素除以truediv中的数值"
   ]
  },
  {
   "cell_type": "code",
   "execution_count": 114,
   "id": "e9c028db-6d9c-4fd3-8803-7a29438a4ac2",
   "metadata": {},
   "outputs": [
    {
     "name": "stdout",
     "output_type": "stream",
     "text": [
      "[0.5 1.  1.5 2.  2.5]\n",
      "[0.5 1.  1.5 2.  2.5]\n"
     ]
    }
   ],
   "source": [
    "import numpy as np\n",
    "\n",
    "gfg = np.array([1.0,2.0,3.0,4.0,5.0])\n",
    "print(gfg.__truediv__(2))\n",
    "print(gfg.__itruediv__(2.0))"
   ]
  },
  {
   "cell_type": "markdown",
   "id": "1350182e-a409-4c5f-84e5-4afa33a88859",
   "metadata": {},
   "source": [
    "### numpy.ndarray.\\_\\_floordiv\\_\\_(value)\n",
    "### numpy.ndarray.\\_\\_ifloordiv\\_\\_(value)"
   ]
  },
  {
   "cell_type": "markdown",
   "id": "51600df1-5aaf-4bfb-b5a0-f60a805d3f76",
   "metadata": {},
   "source": [
    "返回元素除以floordiv中的数值取整"
   ]
  },
  {
   "cell_type": "code",
   "execution_count": 115,
   "id": "87be455f-5fe8-4ccd-b4f0-3909e085c12b",
   "metadata": {},
   "outputs": [
    {
     "name": "stdout",
     "output_type": "stream",
     "text": [
      "[0. 1. 1. 2. 2.]\n",
      "[0. 1. 1. 2. 2.]\n"
     ]
    }
   ],
   "source": [
    "import numpy as np\n",
    "\n",
    "gfg = np.array([1.0,2.5,3.0,4.8,5.0])\n",
    "print(gfg.__floordiv__(2))\n",
    "print(gfg.__ifloordiv__(2))"
   ]
  },
  {
   "cell_type": "markdown",
   "id": "1ba44bd8-daf4-421f-acf8-ac30b72f3149",
   "metadata": {},
   "source": [
    "### numpy.ndarray.\\_\\_mod\\_\\_(value)\n",
    "### numpy.ndarray.\\_\\_imod\\_\\_(value)"
   ]
  },
  {
   "cell_type": "markdown",
   "id": "b2b48c1b-ae84-47dc-af7a-34a97664ba45",
   "metadata": {},
   "source": [
    "返回元素除以mod中的数值取余(前提是所得的除数为整数)"
   ]
  },
  {
   "cell_type": "code",
   "execution_count": 116,
   "id": "cdb13c75-dbb1-4e1f-a9aa-e49d3d77c8d7",
   "metadata": {},
   "outputs": [
    {
     "name": "stdout",
     "output_type": "stream",
     "text": [
      "[1.  0.5 1.  0.8 1. ]\n",
      "[1.  0.5 1.  0.8 1. ]\n"
     ]
    }
   ],
   "source": [
    "import numpy as np\n",
    "\n",
    "gfg =  np.array([1,2.5,3,4.8,5])\n",
    "print(gfg.__mod__(2))\n",
    "print(gfg.__imod__(2))"
   ]
  },
  {
   "cell_type": "markdown",
   "id": "7750d7c3-6273-4f2f-bd25-f63adb21b280",
   "metadata": {},
   "source": [
    "### numpy.ndarray.\\_\\_lshift\\_\\_(value)\n",
    "### numpy.ndarray.\\_\\_ilshift\\_\\_(value)"
   ]
  },
  {
   "cell_type": "markdown",
   "id": "10fa4217-7467-44c8-9907-45bc3b1dccfc",
   "metadata": {},
   "source": [
    "可以获取被左移的元素lshift中参数(二进制)，。"
   ]
  },
  {
   "cell_type": "code",
   "execution_count": 117,
   "id": "2fbf8e90-400e-4201-844c-a37388970c52",
   "metadata": {},
   "outputs": [
    {
     "name": "stdout",
     "output_type": "stream",
     "text": [
      "[ 8 16 24 32 40]\n",
      "[ 8 16 24 32 40]\n"
     ]
    }
   ],
   "source": [
    "import numpy as np\n",
    "\n",
    "gfg = np.array([1,2,3,4,5])\n",
    "print(gfg.__lshift__(3))\n",
    "print(gfg.__ilshift__(3))"
   ]
  },
  {
   "cell_type": "markdown",
   "id": "1ac3e333-930e-4b46-b464-f159f2a1e73f",
   "metadata": {},
   "source": [
    "### numpy.ndarray.\\_\\_rshift\\_\\_(value)\n",
    "### numpy.ndarray.\\_\\_irshift\\_\\_(value)"
   ]
  },
  {
   "cell_type": "markdown",
   "id": "6707ecbb-8d28-4b30-8893-179833eee7b6",
   "metadata": {},
   "source": [
    "可以获得被右移的元素rshift中参数(二进制)"
   ]
  },
  {
   "cell_type": "code",
   "execution_count": 118,
   "id": "d6b0ff86-7679-4191-81e5-ba41c5883c62",
   "metadata": {},
   "outputs": [
    {
     "name": "stdout",
     "output_type": "stream",
     "text": [
      "[1 2 3 4 5]\n",
      "[1 2 3 4 5]\n"
     ]
    }
   ],
   "source": [
    "import numpy as np \n",
    "\n",
    "gfg = np.array([8,16,24,32,40])\n",
    "print(gfg.__rshift__(3))\n",
    "print(gfg.__irshift__(3))"
   ]
  },
  {
   "cell_type": "markdown",
   "id": "9d49a4df-3fcb-4d13-8cad-6ae8b09cd0b0",
   "metadata": {},
   "source": [
    "### numpy.ndarray.\\_\\_and\\_\\_(value)\n",
    "### numpy.ndarray.\\_\\_iand\\_\\_(value)"
   ]
  },
  {
   "cell_type": "markdown",
   "id": "c075a163-8e24-4b9b-b91b-83b81bc67880",
   "metadata": {},
   "source": [
    "元素于and中的值按位与运算(全要先转为2进制)"
   ]
  },
  {
   "cell_type": "code",
   "execution_count": 107,
   "id": "5e129b98-dc96-44ca-816c-0c6aa6dda4a4",
   "metadata": {},
   "outputs": [
    {
     "name": "stdout",
     "output_type": "stream",
     "text": [
      "[0 2 2 0 0]\n",
      "[0 2 2 0 0]\n"
     ]
    }
   ],
   "source": [
    "import numpy as np\n",
    "\n",
    "gfg = np.array([1,2,3,4,5])\n",
    "print(gfg.__and__(2))\n",
    "print(gfg.__iand__(2))"
   ]
  },
  {
   "cell_type": "markdown",
   "id": "b1f9b990-9baf-405a-b608-3d2958e7b945",
   "metadata": {},
   "source": [
    "### numpy.ndarray.\\_\\_or\\_\\_(value)\n",
    "### numpy.ndarray.\\_\\_ior\\_\\_(value)"
   ]
  },
  {
   "cell_type": "markdown",
   "id": "6dd4d19a-c607-4dae-9667-feb0a17bf68e",
   "metadata": {},
   "source": [
    "元素于or中的值按位或运算(全要先转为2进制)"
   ]
  },
  {
   "cell_type": "code",
   "execution_count": 119,
   "id": "dfa48728-0638-4d32-a207-df9cd47aaf4b",
   "metadata": {},
   "outputs": [
    {
     "name": "stdout",
     "output_type": "stream",
     "text": [
      "[3 2 3 6 7]\n",
      "[3 2 3 6 7]\n"
     ]
    }
   ],
   "source": [
    "import numpy as np\n",
    "\n",
    "gfg = np.array([1,2,3,4,5])\n",
    "print(gfg.__or__(2))\n",
    "print(gfg.__ior__(2))"
   ]
  },
  {
   "cell_type": "markdown",
   "id": "a0c13186-5ade-4d9c-a29a-56ab97b48074",
   "metadata": {},
   "source": [
    "### numpy.ndarray.\\_\\_xor\\_\\_(value)\n",
    "### numpy.ndarray.\\_\\_ixor\\_\\_(value)"
   ]
  },
  {
   "cell_type": "markdown",
   "id": "f16ee3cd-d14b-43f1-bfc3-cbb4a2f7d0b6",
   "metadata": {},
   "source": [
    "元素于xor中的值按位异或运算(全要先转为2进制)"
   ]
  },
  {
   "cell_type": "code",
   "execution_count": 120,
   "id": "db63d493-a2bd-43cf-9817-f5e32b104ebc",
   "metadata": {},
   "outputs": [
    {
     "name": "stdout",
     "output_type": "stream",
     "text": [
      "[3 0 1 6 7]\n",
      "[3 0 1 6 7]\n"
     ]
    }
   ],
   "source": [
    "import numpy as np\n",
    "\n",
    "gfg = np.array([1,2,3,4,5])\n",
    "print(gfg.__xor__(2))\n",
    "print(gfg.__ixor__(2))"
   ]
  },
  {
   "cell_type": "markdown",
   "id": "02cdbb7e-6ad6-4a6c-a4b2-4da7437beb4a",
   "metadata": {},
   "source": [
    "### numpy.ndarray.\\_\\_pow\\_\\_(value)\n",
    "### numpy.ndarray.\\_\\_ipow\\_\\_(value)"
   ]
  },
  {
   "cell_type": "markdown",
   "id": "bc9a99eb-9ae8-4758-b2d3-d8c932f02f31",
   "metadata": {},
   "source": [
    "元素于ipow的参数取幂指数"
   ]
  },
  {
   "cell_type": "code",
   "execution_count": 121,
   "id": "cc44abab-4244-4bb3-a267-0b410667ea6a",
   "metadata": {},
   "outputs": [
    {
     "name": "stdout",
     "output_type": "stream",
     "text": [
      "[  1   8  27  64 125]\n",
      "[  1   8  27  64 125]\n"
     ]
    }
   ],
   "source": [
    "import numpy as np\n",
    "\n",
    "gfg = np.array([1,2,3,4,5])\n",
    "print(gfg.__pow__(3))\n",
    "print(gfg.__ipow__(3))"
   ]
  },
  {
   "cell_type": "markdown",
   "id": "6e9fbfa3-6357-4860-b7d4-8e15e92bd2d0",
   "metadata": {},
   "source": [
    "### numpy.ndarray.\\_\\_matmul\\_\\_(value)"
   ]
  },
  {
   "cell_type": "markdown",
   "id": "0b694303-9eab-4266-bbfc-72b5927382c8",
   "metadata": {},
   "source": [
    "元素于matmul的参数的乘积运算"
   ]
  },
  {
   "cell_type": "code",
   "execution_count": 124,
   "id": "a7180e40-09cd-409e-9391-a0522f692196",
   "metadata": {},
   "outputs": [
    {
     "name": "stdout",
     "output_type": "stream",
     "text": [
      "[[16 18]\n",
      " [28 29]]\n",
      "[[16 18]\n",
      " [28 29]]\n"
     ]
    }
   ],
   "source": [
    "import numpy as np\n",
    "a = np.array([[1,2],[2,3]])\n",
    "b = np.array(([8,4],[4,7]))\n",
    "print(a.__matmul__(b))\n",
    "print(a@b)"
   ]
  },
  {
   "cell_type": "code",
   "execution_count": 126,
   "id": "88ac530a-8557-4fe1-9b60-2c369d24c60a",
   "metadata": {},
   "outputs": [
    {
     "name": "stdout",
     "output_type": "stream",
     "text": [
      "5.0\n"
     ]
    }
   ],
   "source": [
    "from math import sqrt\n",
    "\n",
    "class Point:\n",
    "    def __init__(self, x, y):\n",
    "        self.x = x   # x坐标\n",
    "        self.y = y   # y坐标\n",
    "\n",
    "    def __matmul__(self, value):\n",
    "        x_sub = self.x - value.x\n",
    "        y_sub = self.y - value.y\n",
    "        return sqrt(x_sub**2 + y_sub**2)\n",
    "\n",
    "a = Point(1, 3)\n",
    "b = Point(4, 7)\n",
    "print(a @ b)"
   ]
  },
  {
   "cell_type": "markdown",
   "id": "c42374fb-4e17-4a1b-8267-d52a18da4e37",
   "metadata": {},
   "source": [
    "### numpy.ndarray.\\_\\_len\\_\\_()"
   ]
  },
  {
   "cell_type": "markdown",
   "id": "a276c909-acd8-45f2-bab8-cf1acf1e679a",
   "metadata": {},
   "source": [
    "返回元素的长度，和sized的功能一致"
   ]
  },
  {
   "cell_type": "code",
   "execution_count": 127,
   "id": "1c11c1e1-e8fb-4850-8125-71a5e4be1082",
   "metadata": {},
   "outputs": [
    {
     "name": "stdout",
     "output_type": "stream",
     "text": [
      "True\n"
     ]
    }
   ],
   "source": [
    "from collections.abc import Sized\n",
    "\n",
    "class SingleMethod(object):\n",
    "    def __len__(self):\n",
    "        pass\n",
    "\n",
    "print(issubclass(SingleMethod, Sized))"
   ]
  },
  {
   "cell_type": "markdown",
   "id": "16d63dca-8bbc-4a94-b5d8-0053d3717530",
   "metadata": {},
   "source": [
    "### numpy.ndarray.\\_\\_getitem\\_\\_(key)"
   ]
  },
  {
   "cell_type": "markdown",
   "id": "ac7d5bfd-9035-44d5-aa19-d2cdaed9e684",
   "metadata": {},
   "source": [
    "使用符号 self\\[key\\]定义访问项目时的行为。"
   ]
  },
  {
   "cell_type": "code",
   "execution_count": 128,
   "id": "a1d2d981-737f-442a-862d-c04073a3fee8",
   "metadata": {},
   "outputs": [
    {
     "name": "stdout",
     "output_type": "stream",
     "text": [
      "<class 'int'> 5\n",
      "<class 'slice'> slice(5, 65, 5)\n",
      "<class 'str'> GeeksforGeeks\n",
      "<class 'tuple'> (1, 'x', 10.0)\n",
      "<class 'slice'> slice('a', 'z', 2)\n",
      "<class 'object'> <object object at 0x0000022A848A74D0>\n"
     ]
    }
   ],
   "source": [
    "class Test(object):\n",
    "    def __getitem__(self, items):\n",
    "        print (type(items), items)\n",
    "  \n",
    "test = Test()\n",
    "test[5]\n",
    "test[5:65:5]\n",
    "test['GeeksforGeeks']\n",
    "test[1, 'x', 10.0]\n",
    "test['a':'z':2]\n",
    "test[object()]"
   ]
  },
  {
   "cell_type": "markdown",
   "id": "cf8da0dc-f397-4d6a-a53c-6f2ec04aed08",
   "metadata": {},
   "source": [
    "### numpy.ndarray.\\_\\_setitem\\_\\_(key,value)"
   ]
  },
  {
   "cell_type": "markdown",
   "id": "4e98f947-bf10-42f0-996b-d7338c4c58f5",
   "metadata": {},
   "source": [
    "给self\\[key\\]设置值"
   ]
  },
  {
   "cell_type": "code",
   "execution_count": 129,
   "id": "cda3369a-188e-441f-8417-bbcf2a357df7",
   "metadata": {},
   "outputs": [
    {
     "name": "stdout",
     "output_type": "stream",
     "text": [
      "The balance is : 100\n",
      "\n",
      "\n",
      "The new balance is : 300\n",
      "The no. of transactions are: 2\n",
      "\n",
      "\n",
      "The new balance is : 600\n",
      "The no. of transactions are: 3\n",
      "The transaction history is: [100, 200, 300]\n"
     ]
    }
   ],
   "source": [
    "class bank_record:\n",
    "\n",
    "    def __init__(self, name):\n",
    "\n",
    "        self.record = {\n",
    "            \"name\": name,\n",
    "            \"balance\": 100,\n",
    "            \"transaction\": [100]\n",
    "        }\n",
    "\n",
    "    def __getitem__(self, key):\n",
    "\n",
    "        return self.record[key]\n",
    "\n",
    "    def __setitem__(self, key, newvalue):\n",
    "\n",
    "        if key == \"balance\" and newvalue != None and newvalue >= 100:\n",
    "            self.record[key] += newvalue\n",
    "\n",
    "        elif key == \"transaction\" and newvalue != None:\n",
    "            self.record[key].append(newvalue)\n",
    "\n",
    "    def getBalance(self):\n",
    "        return self.__getitem__(\"balance\")\n",
    "\n",
    "    def updateBalance(self, new_balance):\n",
    "\n",
    "        self.__setitem__(\"balance\", new_balance)\n",
    "        self.__setitem__(\"transaction\", new_balance)\n",
    "\n",
    "    def getTransactions(self):\n",
    "        return self.__getitem__(\"transaction\")\n",
    "\n",
    "    def numTransactions(self):\n",
    "        return len(self.record[\"transaction\"])\n",
    "\n",
    "\n",
    "sam = bank_record(\"Sam\")\n",
    "print(\"The balance is : \" + str(sam.getBalance()))\n",
    "print('\\n')\n",
    "\n",
    "sam.updateBalance(200)\n",
    "print(\"The new balance is : \" + str(sam.getBalance()))\n",
    "print(\"The no. of transactions are: \" + str(sam.numTransactions()))\n",
    "print('\\n')\n",
    "\n",
    "sam.updateBalance(300)\n",
    "print(\"The new balance is : \" + str(sam.getBalance()))\n",
    "print(\"The no. of transactions are: \" + str(sam.numTransactions()))\n",
    "print(\"The transaction history is: \" + str(sam.getTransactions()))"
   ]
  },
  {
   "cell_type": "markdown",
   "id": "b915ccc1-c091-4014-b6d9-5af0f6077241",
   "metadata": {},
   "source": [
    "### numpy.ndarry.\\_\\_contains\\_\\_(key)"
   ]
  },
  {
   "cell_type": "markdown",
   "id": "05cfb206-222a-4942-a0e1-30d577206fb6",
   "metadata": {},
   "source": [
    "使用循环迭代每个键并检查值是否存在。"
   ]
  },
  {
   "cell_type": "code",
   "execution_count": 131,
   "id": "12b8ccca-9274-4f79-9580-e4ce010bab33",
   "metadata": {},
   "outputs": [
    {
     "name": "stdout",
     "output_type": "stream",
     "text": [
      "Match keys:['gfg', 'Maths']\n"
     ]
    }
   ],
   "source": [
    "test_dict = {'gfg' : {'best' : 4, 'good' : 5},\n",
    "             'is' : {'better' : 6, 'educational' : 4},\n",
    "             'CS' : {'priceless' : 6},\n",
    "             'Maths' : {'good' : 5}}\n",
    "\n",
    "que_dict = {'good' : 5}\n",
    "res = []\n",
    "for key,val in test_dict.items():\n",
    "    if(test_dict[key].__contains__('good')):\n",
    "        if(test_dict[key]['good'] == que_dict['good']):\n",
    "            res.append(key)\n",
    "\n",
    "print(\"Match keys:\" + str(res))"
   ]
  },
  {
   "cell_type": "markdown",
   "id": "eac37472-8952-4b53-8036-fe8f8499c3fa",
   "metadata": {},
   "source": [
    "# 标量"
   ]
  },
  {
   "cell_type": "markdown",
   "id": "b440d2f3-5a4f-445d-ba77-6732c05246ab",
   "metadata": {},
   "source": [
    "Python 只定义了特定数据类的一种类型(只有一种整数类型、一种浮点类型等)。在NumPy中，有24种新的基本Python类型来描述不同类型的标量。"
   ]
  },
  {
   "cell_type": "code",
   "execution_count": 143,
   "id": "bed8c5ed-e287-4fa4-90eb-048b39e99079",
   "metadata": {},
   "outputs": [
    {
     "data": {
      "text/plain": [
       "False"
      ]
     },
     "execution_count": 143,
     "metadata": {},
     "output_type": "execute_result"
    }
   ],
   "source": [
    "def is_np_scalar(x):\n",
    "    return isinstance(x, np.generic)\n",
    "\n",
    "is_np_scalar(1)"
   ]
  },
  {
   "cell_type": "markdown",
   "id": "b2cfa673-e749-4f96-8f82-ea5ee659b20b",
   "metadata": {},
   "source": [
    "### numpy.generic.flags"
   ]
  },
  {
   "cell_type": "markdown",
   "id": "40415ca8-89bf-4824-9a43-b503c28c2bac",
   "metadata": {},
   "source": [
    "标志的整数值。"
   ]
  },
  {
   "cell_type": "markdown",
   "id": "41949beb-7ec1-4ad1-b610-3eeb45036cbb",
   "metadata": {},
   "source": [
    "### numpy.generic.shape"
   ]
  },
  {
   "cell_type": "markdown",
   "id": "2a53e7b5-d3ef-472e-a7f8-72f78c5767c1",
   "metadata": {},
   "source": [
    "数组维度的元组。"
   ]
  },
  {
   "cell_type": "markdown",
   "id": "6c807b22-ac38-4bc7-88f8-9b70b49796e0",
   "metadata": {},
   "source": [
    "### numpy.generic.strides"
   ]
  },
  {
   "cell_type": "markdown",
   "id": "3a163c8a-097c-4d6b-beb2-fcae70173841",
   "metadata": {},
   "source": [
    "每个维度中的字节步长元组。"
   ]
  },
  {
   "cell_type": "markdown",
   "id": "79e47c89-c9d7-48c4-9af1-5455584653a6",
   "metadata": {},
   "source": [
    "### numpy.generic.ndim"
   ]
  },
  {
   "cell_type": "markdown",
   "id": "6fd26b56-1d31-4fbb-9391-42d4e3cda04b",
   "metadata": {},
   "source": [
    "数组维数。"
   ]
  },
  {
   "cell_type": "markdown",
   "id": "c985d9f6-65fc-41c0-b0ef-1992c450ef46",
   "metadata": {},
   "source": [
    "### numpy.generic.data"
   ]
  },
  {
   "cell_type": "markdown",
   "id": "cd9d5dd1-7748-4f03-8ea9-320feea8a4f7",
   "metadata": {},
   "source": [
    "指针开始的数据。"
   ]
  },
  {
   "cell_type": "markdown",
   "id": "5fa3177e-b7c0-4222-b66e-d275c3df71f9",
   "metadata": {},
   "source": [
    "### numpy.generic.size"
   ]
  },
  {
   "cell_type": "markdown",
   "id": "af05b85d-668b-4fa1-a247-21acd2b922a3",
   "metadata": {},
   "source": [
    "基因型中的元素数。"
   ]
  },
  {
   "cell_type": "markdown",
   "id": "00c48d82-c3e7-4bcb-9148-4b989223178e",
   "metadata": {},
   "source": [
    "### numpy.generic.itemsize"
   ]
  },
  {
   "cell_type": "markdown",
   "id": "23566a8a-f268-4f67-8d2a-e3209c049676",
   "metadata": {},
   "source": [
    "一个元素的长度（以字节为单位）。"
   ]
  },
  {
   "cell_type": "markdown",
   "id": "de4b8e09-6038-4304-9c5b-a2daff419e6c",
   "metadata": {},
   "source": [
    "### numpy.generic.dtype"
   ]
  },
  {
   "cell_type": "markdown",
   "id": "9aa831b1-5c8b-4955-98f8-b838757b3c6f",
   "metadata": {},
   "source": [
    "获取数组数据描述符。"
   ]
  },
  {
   "cell_type": "markdown",
   "id": "1319e24b-e345-4a03-bde0-beb9a6f1390a",
   "metadata": {},
   "source": [
    "### numpy.generic.real"
   ]
  },
  {
   "cell_type": "markdown",
   "id": "97ba28ce-c44e-4193-a02b-6d30ea516763",
   "metadata": {},
   "source": [
    "标量的实部。"
   ]
  },
  {
   "cell_type": "markdown",
   "id": "604fc0c8-f1e0-43e2-bd44-f0f578cbd10f",
   "metadata": {},
   "source": [
    "### numpy.generic.imag"
   ]
  },
  {
   "cell_type": "markdown",
   "id": "23fcb86f-b006-4ad2-a06c-c80507be75b1",
   "metadata": {},
   "source": [
    "标量的虚部。"
   ]
  },
  {
   "cell_type": "markdown",
   "id": "aa8e04d0-5efc-4849-bf82-9f8877cd89d9",
   "metadata": {},
   "source": [
    "### numpy.generic.flat"
   ]
  },
  {
   "cell_type": "markdown",
   "id": "f7939908-1fc2-465d-92ad-9c0ceaaa9737",
   "metadata": {},
   "source": [
    "标量的一维视图。"
   ]
  },
  {
   "cell_type": "markdown",
   "id": "9766faad-a02d-4f65-8119-65826269c8fc",
   "metadata": {},
   "source": [
    "### numpy.generic.T"
   ]
  },
  {
   "cell_type": "markdown",
   "id": "680c41ba-bac1-4f8b-8628-ca42371967f6",
   "metadata": {},
   "source": [
    "标量属性与对应的数组属性相同。"
   ]
  },
  {
   "cell_type": "markdown",
   "id": "ea1a366b-ad2f-4e7a-b98f-7a8f841cabe3",
   "metadata": {},
   "source": [
    "### numpy.generic.\\_\\_array\\_interface\\_\\_"
   ]
  },
  {
   "cell_type": "markdown",
   "id": "5638a4e2-7518-4a43-b01a-eebcf5c61d8d",
   "metadata": {},
   "source": [
    "数组协议：Python端"
   ]
  },
  {
   "cell_type": "markdown",
   "id": "52bfe695-d536-4de4-8e2c-60ec0c5a3a6c",
   "metadata": {},
   "source": [
    "### numpy.generic.\\_\\_array\\_struct\\_\\_"
   ]
  },
  {
   "cell_type": "markdown",
   "id": "10e650c6-5fc8-4b7e-af5f-9e58cf047802",
   "metadata": {},
   "source": [
    "数组协议：struct"
   ]
  },
  {
   "cell_type": "markdown",
   "id": "ae1eec0f-0c34-4a44-a687-ccc5b41819c9",
   "metadata": {},
   "source": [
    "### numpy.generic.\\_\\_array\\_priority\\_\\_"
   ]
  },
  {
   "cell_type": "markdown",
   "id": "6dd80e60-41c3-4371-8105-d5c16328fb61",
   "metadata": {},
   "source": [
    "阵列优先级。"
   ]
  },
  {
   "cell_type": "markdown",
   "id": "08a47cc2-a67e-47f2-b2fc-e53cd3e921d5",
   "metadata": {},
   "source": [
    "### numpy.generic.\\_\\_array\\_\\_"
   ]
  },
  {
   "cell_type": "markdown",
   "id": "98efd9da-fbf8-44ef-9ceb-ad6b8f05071e",
   "metadata": {},
   "source": [
    "sc.\\_\\_array\\_\\_(dtype) 从具有指定 dtype 的标量返回 0-dim 数组"
   ]
  },
  {
   "cell_type": "markdown",
   "id": "7e189050-731e-42c8-92bd-6d07c2b7107b",
   "metadata": {},
   "source": [
    "### numpy.generic.\\_\\_array\\_wrap\\_\\_"
   ]
  },
  {
   "cell_type": "markdown",
   "id": "8ea8be67-346f-405e-93be-4e79db3db201",
   "metadata": {},
   "source": [
    "sc.\\_\\_array\\_wrap\\_\\_(obj) 从数组返回标量"
   ]
  },
  {
   "cell_type": "markdown",
   "id": "2a62eee7-1868-40f9-bdf8-8c1575f92fc7",
   "metadata": {},
   "source": [
    "### numpy.generic.\\_\\_reduce\\_\\_"
   ]
  },
  {
   "cell_type": "markdown",
   "id": "7359be38-7027-4909-ba29-79ddcbdaa2cc",
   "metadata": {},
   "source": [
    "### numpy.generic.setflags"
   ]
  },
  {
   "cell_type": "markdown",
   "id": "deb641a1-68cd-4545-9995-028a057c0c77",
   "metadata": {},
   "source": [
    "标量方法与相应的数组属性相同。"
   ]
  },
  {
   "cell_type": "markdown",
   "id": "8cda846a-67de-4973-be53-3319c17c675e",
   "metadata": {},
   "source": [
    "# 数据类型对象"
   ]
  },
  {
   "cell_type": "code",
   "execution_count": null,
   "id": "2c993a26-e439-4d70-ab7f-34dad78d578b",
   "metadata": {},
   "outputs": [],
   "source": []
  },
  {
   "cell_type": "markdown",
   "id": "f525eae1-46d2-4548-bbb1-216bd46207e1",
   "metadata": {
    "tags": []
   },
   "source": [
    "# 数学函数"
   ]
  },
  {
   "cell_type": "markdown",
   "id": "be0edc6d-4776-4be5-8438-09be7e7d97b7",
   "metadata": {},
   "source": [
    "### numpy.sqrt(x,out=None,where=True,casting='same_kind',order='K',dtype=None,subok=True)"
   ]
  },
  {
   "cell_type": "code",
   "execution_count": 4,
   "id": "6dc79180-4f7e-4bdc-bce6-b63f468640ac",
   "metadata": {},
   "outputs": [
    {
     "data": {
      "text/plain": [
       "array([1., 2., 3.])"
      ]
     },
     "execution_count": 4,
     "metadata": {},
     "output_type": "execute_result"
    }
   ],
   "source": [
    "import numpy as np\n",
    "\n",
    "np.sqrt([1,4,9])"
   ]
  },
  {
   "cell_type": "code",
   "execution_count": 10,
   "id": "b287d7de-4b06-4f28-a754-a6fe6cdb2ecd",
   "metadata": {},
   "outputs": [
    {
     "data": {
      "text/plain": [
       "array([2.+0.j, 0.+1.j, 1.+2.j])"
      ]
     },
     "execution_count": 10,
     "metadata": {},
     "output_type": "execute_result"
    }
   ],
   "source": [
    "np.sqrt([4, -1, -3+4J])"
   ]
  },
  {
   "cell_type": "code",
   "execution_count": 8,
   "id": "c6ea086b-5da5-446f-8198-e097b286dd11",
   "metadata": {},
   "outputs": [
    {
     "data": {
      "text/plain": [
       "array([ 2.,  1., inf])"
      ]
     },
     "execution_count": 8,
     "metadata": {},
     "output_type": "execute_result"
    }
   ],
   "source": [
    "np.sqrt([4,1,np.inf])"
   ]
  },
  {
   "cell_type": "markdown",
   "id": "54afb2b2-2298-4577-a9e2-66dec4ebd4fe",
   "metadata": {},
   "source": [
    "### numpy.sin(x,out=None,where=True,casting='same_kind',order='K',dtyoe=None,subok=True"
   ]
  },
  {
   "cell_type": "code",
   "execution_count": 11,
   "id": "0e6c27cf-c8d2-4228-ae52-72f0b9581196",
   "metadata": {},
   "outputs": [
    {
     "data": {
      "text/plain": [
       "1.0"
      ]
     },
     "execution_count": 11,
     "metadata": {},
     "output_type": "execute_result"
    }
   ],
   "source": [
    "import numpy as np\n",
    "\n",
    "np.sin(np.pi/2)"
   ]
  },
  {
   "cell_type": "code",
   "execution_count": 12,
   "id": "a241ebfc-3345-481a-9ef8-fc77bc364a76",
   "metadata": {},
   "outputs": [
    {
     "data": {
      "text/plain": [
       "array([0.        , 0.5       , 0.70710678, 0.8660254 , 1.        ])"
      ]
     },
     "execution_count": 12,
     "metadata": {},
     "output_type": "execute_result"
    }
   ],
   "source": [
    "np.sin(np.array((0., 30., 45., 60., 90.)) * np.pi/180.)"
   ]
  },
  {
   "cell_type": "code",
   "execution_count": 16,
   "id": "a062cb3d-4a04-4676-94c6-d7d887d12c00",
   "metadata": {},
   "outputs": [
    {
     "data": {
      "text/plain": [
       "<function matplotlib.pyplot.show(close=None, block=None)>"
      ]
     },
     "execution_count": 16,
     "metadata": {},
     "output_type": "execute_result"
    },
    {
     "data": {
      "image/png": "[encoded data removed]",
      "text/plain": [
       "<Figure size 432x288 with 1 Axes>"
      ]
     },
     "metadata": {
      "needs_background": "light"
     },
     "output_type": "display_data"
    }
   ],
   "source": [
    "import matplotlib.pylab as plt\n",
    "\n",
    "x = np.linspace(-np.pi, np.pi, 201)\n",
    "plt.plot(x, np.sin(x))\n",
    "plt.xlabel('Angle [rad]')\n",
    "plt.ylabel('sin(x)')\n",
    "plt.axis('tight')\n",
    "plt.show"
   ]
  },
  {
   "cell_type": "markdown",
   "id": "820e1637-0ce5-4655-a705-c739fb908b87",
   "metadata": {},
   "source": [
    "### numpy.cos(x,out=None,where=True,casting='same_kind',order='K',dtype=None,subok=True)"
   ]
  },
  {
   "cell_type": "markdown",
   "id": "d5e2303e-600c-438f-8c22-0b76900e964f",
   "metadata": {},
   "source": [
    "x(数组):以弧度为单位输入的数组\n",
    "out(ndarray,None或ndarray和None的元组,可选):存储结果的位置。如果提供，它必须具有输入广播到的形状。如果未提供或无，则返回新分配的数组。元组（只能作为关键字参数）的长度必须等于输出的数量。"
   ]
  },
  {
   "cell_type": "code",
   "execution_count": 26,
   "id": "6a7e1919-d60a-4758-bdc8-0e9a1deb748f",
   "metadata": {},
   "outputs": [
    {
     "data": {
      "text/plain": [
       "True"
      ]
     },
     "execution_count": 26,
     "metadata": {},
     "output_type": "execute_result"
    }
   ],
   "source": [
    "import numpy as np\n",
    "\n",
    "out1 = np.array([0], dtype='d')\n",
    "out2 = np.cos([0.1], out1)\n",
    "out2 is out1"
   ]
  },
  {
   "cell_type": "code",
   "execution_count": 27,
   "id": "8ce41470-6b38-441b-95d7-f121484b38a3",
   "metadata": {},
   "outputs": [
    {
     "data": {
      "text/plain": [
       "<function matplotlib.pyplot.show(close=None, block=None)>"
      ]
     },
     "execution_count": 27,
     "metadata": {},
     "output_type": "execute_result"
    },
    {
     "data": {
      "image/png": "[encoded data removed]",
      "text/plain": [
       "<Figure size 432x288 with 1 Axes>"
      ]
     },
     "metadata": {
      "needs_background": "light"
     },
     "output_type": "display_data"
    }
   ],
   "source": [
    "import matplotlib.pylab as plt\n",
    "\n",
    "x = np.linspace(-np.pi, np.pi, 201)\n",
    "plt.plot(x, np.cos(x))\n",
    "plt.xlabel('Angle [rad]')\n",
    "plt.ylabel('cos(x)')\n",
    "plt.axis('tight')\n",
    "plt.show"
   ]
  },
  {
   "cell_type": "markdown",
   "id": "4a0023de-6944-4ecc-a38b-70dfb4d60e43",
   "metadata": {},
   "source": [
    "### numpy.tan(x,out=None,where=True,casting='same_kind',order='K',dtype=None,subok=True)"
   ]
  },
  {
   "cell_type": "code",
   "execution_count": 28,
   "id": "54fb5dbf-9753-487f-b1da-75a1517facef",
   "metadata": {},
   "outputs": [
    {
     "data": {
      "text/plain": [
       "array([ 1.22464680e-16,  1.63312394e+16, -1.22464680e-16])"
      ]
     },
     "execution_count": 28,
     "metadata": {},
     "output_type": "execute_result"
    }
   ],
   "source": [
    "from math import pi\n",
    "import numpy as np\n",
    "\n",
    "np.tan(np.array([-pi,pi/2,pi]))"
   ]
  },
  {
   "cell_type": "code",
   "execution_count": 35,
   "id": "a800f937-51a9-4d88-b28e-a632bf7a7b80",
   "metadata": {},
   "outputs": [
    {
     "data": {
      "text/plain": [
       "<function matplotlib.pyplot.show(close=None, block=None)>"
      ]
     },
     "execution_count": 35,
     "metadata": {},
     "output_type": "execute_result"
    },
    {
     "data": {
      "image/png": "[encoded data removed]",
      "text/plain": [
       "<Figure size 432x288 with 1 Axes>"
      ]
     },
     "metadata": {
      "needs_background": "light"
     },
     "output_type": "display_data"
    }
   ],
   "source": [
    "import matplotlib.pylab as plt\n",
    "\n",
    "x = np.linspace(-pi/2, np.pi/2, 100)\n",
    "plt.plot(x, np.tan(x))\n",
    "plt.xlabel('Angle [rad]')\n",
    "plt.ylabel('tan(x)')\n",
    "plt.axis('tight')\n",
    "plt.show"
   ]
  },
  {
   "cell_type": "markdown",
   "id": "0539af19-1698-43ea-ba36-3af2fdbcf284",
   "metadata": {},
   "source": [
    "### numpy.arcsin(x,out=None,where=True,casting='same_kind',order='K',dtype=None,subok=True)"
   ]
  },
  {
   "cell_type": "code",
   "execution_count": 22,
   "id": "f99fbc97-9ed1-4f97-80a8-747acc881e5b",
   "metadata": {},
   "outputs": [
    {
     "data": {
      "text/plain": [
       "1.5707963267948966"
      ]
     },
     "execution_count": 22,
     "metadata": {},
     "output_type": "execute_result"
    }
   ],
   "source": [
    "import numpy as np\n",
    "\n",
    "np.arcsin(1)"
   ]
  },
  {
   "cell_type": "code",
   "execution_count": 23,
   "id": "bdc3ca33-921c-49c4-9d50-2e3859bce8b0",
   "metadata": {},
   "outputs": [
    {
     "data": {
      "text/plain": [
       "-1.5707963267948966"
      ]
     },
     "execution_count": 23,
     "metadata": {},
     "output_type": "execute_result"
    }
   ],
   "source": [
    "np.arcsin(-1)"
   ]
  },
  {
   "cell_type": "code",
   "execution_count": 24,
   "id": "3d45ab37-ef30-46d3-8ce4-72abc211845f",
   "metadata": {},
   "outputs": [
    {
     "data": {
      "text/plain": [
       "0.0"
      ]
     },
     "execution_count": 24,
     "metadata": {},
     "output_type": "execute_result"
    }
   ],
   "source": [
    "np.arcsin(0)"
   ]
  },
  {
   "cell_type": "code",
   "execution_count": 37,
   "id": "33c474b2-9f9c-420b-aecf-e60f52342e06",
   "metadata": {},
   "outputs": [
    {
     "data": {
      "text/plain": [
       "<function matplotlib.pyplot.show(close=None, block=None)>"
      ]
     },
     "execution_count": 37,
     "metadata": {},
     "output_type": "execute_result"
    },
    {
     "data": {
      "image/png": "[encoded data removed]",
      "text/plain": [
       "<Figure size 432x288 with 1 Axes>"
      ]
     },
     "metadata": {
      "needs_background": "light"
     },
     "output_type": "display_data"
    }
   ],
   "source": [
    "import matplotlib.pylab as plt\n",
    "\n",
    "x = np.linspace(-1, 1, 100)\n",
    "plt.plot(x, np.arcsin(x))\n",
    "plt.xlabel('Angle [rad]')\n",
    "plt.ylabel('arcsin(x)')\n",
    "plt.axis('tight')\n",
    "plt.show"
   ]
  },
  {
   "cell_type": "markdown",
   "id": "65202018-912b-452e-83d7-d828117b72e8",
   "metadata": {},
   "source": [
    "### numpy.arccos(x,out=None,where=True,casting='same_kind',order='K',dtype=None,subok=True)"
   ]
  },
  {
   "cell_type": "markdown",
   "id": "13863be4-273b-4178-a47b-c972f1ba7faf",
   "metadata": {},
   "source": [
    "x(数组):单位圆上的 x 坐标。对于实参，域是[-1,1]。"
   ]
  },
  {
   "cell_type": "code",
   "execution_count": 39,
   "id": "a3e808fb-7c00-49a9-a67e-066a69a0d419",
   "metadata": {},
   "outputs": [
    {
     "data": {
      "text/plain": [
       "<function matplotlib.pyplot.show(close=None, block=None)>"
      ]
     },
     "execution_count": 39,
     "metadata": {},
     "output_type": "execute_result"
    },
    {
     "data": {
      "image/png": "[encoded data removed]",
      "text/plain": [
       "<Figure size 432x288 with 1 Axes>"
      ]
     },
     "metadata": {
      "needs_background": "light"
     },
     "output_type": "display_data"
    }
   ],
   "source": [
    "import matplotlib.pylab as plt\n",
    "\n",
    "x = np.linspace(-1, 1, 100)\n",
    "plt.plot(x, np.arccos(x))\n",
    "plt.xlabel('Angle [rad]')\n",
    "plt.ylabel('arccos(x)')\n",
    "plt.axis('tight')\n",
    "plt.show"
   ]
  },
  {
   "cell_type": "markdown",
   "id": "0fcd1cfe-3f40-4624-a358-3c51479c7f6d",
   "metadata": {},
   "source": [
    "### numpy.arctan(x,out=None,where=True,casting='same_kind',order='K',dtype=None,subok=True)"
   ]
  },
  {
   "cell_type": "code",
   "execution_count": 40,
   "id": "195febb9-bb7c-495e-bdcf-11011feee59e",
   "metadata": {},
   "outputs": [
    {
     "data": {
      "text/plain": [
       "array([0.        , 0.78539816])"
      ]
     },
     "execution_count": 40,
     "metadata": {},
     "output_type": "execute_result"
    }
   ],
   "source": [
    "import numpy as np\n",
    "\n",
    "np.arctan([0, 1])"
   ]
  },
  {
   "cell_type": "code",
   "execution_count": 43,
   "id": "751e77c4-3e7f-4867-a0d0-f5514e54c52a",
   "metadata": {},
   "outputs": [
    {
     "data": {
      "text/plain": [
       "<function matplotlib.pyplot.show(close=None, block=None)>"
      ]
     },
     "execution_count": 43,
     "metadata": {},
     "output_type": "execute_result"
    },
    {
     "data": {
      "image/png": "[encoded data removed]",
      "text/plain": [
       "<Figure size 432x288 with 1 Axes>"
      ]
     },
     "metadata": {
      "needs_background": "light"
     },
     "output_type": "display_data"
    }
   ],
   "source": [
    "import matplotlib.pylab as plt\n",
    "\n",
    "x = np.linspace(-10,10,100)\n",
    "plt.plot(x, np.arctan(x))\n",
    "plt.xlabel('Angle [rad]')\n",
    "plt.ylabel('arctan(x)')\n",
    "plt.axis('tight')\n",
    "plt.show"
   ]
  },
  {
   "cell_type": "markdown",
   "id": "7f1009a9-1517-4c1c-b86b-caa9a50b44db",
   "metadata": {},
   "source": [
    "### numpy.hypot(x1,x2,out=None,where=True,casting='same_kind',order='K',dtype=None,subok=True)"
   ]
  },
  {
   "cell_type": "markdown",
   "id": "57c5f65a-12ac-4e27-8100-6374479181ed",
   "metadata": {},
   "source": [
    "返回(ndarray):三角形的斜边。如果 x1 和 x2 都是标量，则这是标量。"
   ]
  },
  {
   "cell_type": "code",
   "execution_count": 46,
   "id": "133a1cae-a914-43e4-a1f2-ee9a7cd55ecc",
   "metadata": {},
   "outputs": [
    {
     "data": {
      "text/plain": [
       "array([[5., 5., 5.],\n",
       "       [5., 5., 5.],\n",
       "       [5., 5., 5.]])"
      ]
     },
     "execution_count": 46,
     "metadata": {},
     "output_type": "execute_result"
    }
   ],
   "source": [
    "import numpy as np\n",
    "\n",
    "np.hypot(3*np.ones((3, 3)), 4*np.ones((3, 3)))"
   ]
  },
  {
   "cell_type": "code",
   "execution_count": 48,
   "id": "02e38e79-6af5-4793-89c1-dd344d626bb7",
   "metadata": {},
   "outputs": [
    {
     "data": {
      "text/plain": [
       "array([[5., 5., 5.],\n",
       "       [5., 5., 5.],\n",
       "       [5., 5., 5.]])"
      ]
     },
     "execution_count": 48,
     "metadata": {},
     "output_type": "execute_result"
    }
   ],
   "source": [
    "np.hypot(3*np.ones((3, 3)), [4]) #进行了广播"
   ]
  },
  {
   "cell_type": "markdown",
   "id": "f25c8b8f-7937-467b-979d-2fb1641939ed",
   "metadata": {},
   "source": [
    "### numpy.arctan2(x1,x2,out=None,where=True,casting='same_kind',order='K',dtype=None,subok=True)"
   ]
  },
  {
   "cell_type": "markdown",
   "id": "8c13d8da-9619-461f-b9c7-ee181f222263",
   "metadata": {},
   "source": [
    "返回(数组):x1/x2的逐元素反正切，以弧度表示的角度数组，范围为 [-pi, pi]。"
   ]
  },
  {
   "cell_type": "code",
   "execution_count": 62,
   "id": "39579d35-06f3-4c9d-93be-4bf39f548992",
   "metadata": {},
   "outputs": [
    {
     "data": {
      "text/plain": [
       "-1.5707963267948966"
      ]
     },
     "execution_count": 62,
     "metadata": {},
     "output_type": "execute_result"
    }
   ],
   "source": [
    "import numpy as np\n",
    "\n",
    "np.arctan2(-1,-0)"
   ]
  },
  {
   "attachments": {
    "9f27a275-cd81-4c2b-8ca1-685cb0c6f9c8.png": {
     "image/png": "[encoded data removed]"
    }
   },
   "cell_type": "markdown",
   "id": "1104ece0-f5c5-41bb-814f-9e588b192d20",
   "metadata": {},
   "source": [
    "![MFMOCWW`E$T`U(XQ}IIEW7G.png](attachment:9f27a275-cd81-4c2b-8ca1-685cb0c6f9c8.png)"
   ]
  },
  {
   "cell_type": "code",
   "execution_count": 59,
   "id": "44326393-ee8b-41b7-9ae0-de577ec18de5",
   "metadata": {},
   "outputs": [
    {
     "name": "stdout",
     "output_type": "stream",
     "text": [
      "a :  [ 0. -0.]\n",
      "b :  [ 3.14159265 -3.14159265]\n",
      "c :  [0.         3.14159265]\n",
      "d :  [-0.         -3.14159265]\n",
      "e :  [ 0.78539816 -0.78539816]\n",
      "f :  [ 2.35619449 -2.35619449]\n"
     ]
    }
   ],
   "source": [
    "import numpy as np \n",
    "  \n",
    "a = np.arctan2([+0., -0.], [+0., +0.]) \n",
    "b = np.arctan2([+0., -0.], [-0., -0.])\n",
    "c = np.arctan2([1., 1.], [+np.inf, -np.inf])\n",
    "d = np.arctan2([-1., -1], [+np.inf, -np.inf])\n",
    "e = np.arctan2([+np.inf,-np.inf], [+np.inf, +np.inf])\n",
    "f = np.arctan2([+np.inf,-np.inf], [-np.inf, -np.inf])\n",
    "  \n",
    "print(\"a : \", a) \n",
    "print(\"b : \", b)\n",
    "print(\"c : \", c)\n",
    "print(\"d : \", d)\n",
    "print(\"e : \", e)\n",
    "print(\"f : \", f)"
   ]
  },
  {
   "cell_type": "markdown",
   "id": "38841a41-8289-4703-9996-4472bf458939",
   "metadata": {},
   "source": [
    "### numpy.degree(x,out=None,where=True,casting='same_kind',order='K',dtype=None,subok=True)"
   ]
  },
  {
   "cell_type": "code",
   "execution_count": 63,
   "id": "eb2b2360-32e7-4009-9f05-36affcd852b0",
   "metadata": {},
   "outputs": [
    {
     "data": {
      "text/plain": [
       "array([  0.,  30.,  60.,  90., 120., 150., 180., 210., 240., 270., 300.,\n",
       "       330.])"
      ]
     },
     "execution_count": 63,
     "metadata": {},
     "output_type": "execute_result"
    }
   ],
   "source": [
    "import numpy as np\n",
    "\n",
    "rad = np.arange(12.)*np.pi/6\n",
    "np.degrees(rad)"
   ]
  },
  {
   "cell_type": "code",
   "execution_count": 64,
   "id": "48c82425-68cc-4e9e-867e-93776c58fefb",
   "metadata": {},
   "outputs": [
    {
     "data": {
      "text/plain": [
       "True"
      ]
     },
     "execution_count": 64,
     "metadata": {},
     "output_type": "execute_result"
    }
   ],
   "source": [
    "out = np.zeros((rad.shape))\n",
    "r = np.degrees(rad, out)\n",
    "np.all(r == out)"
   ]
  },
  {
   "cell_type": "markdown",
   "id": "3afbaf86-3aa6-4f91-aded-e296f1785ff4",
   "metadata": {},
   "source": [
    "### numpy.radians(x,out=None,where=True,casting='same_kind',order='K',dtype=None,subok=True)"
   ]
  },
  {
   "cell_type": "markdown",
   "id": "4a4b26bc-20ee-4043-bf8c-4025e07a3602",
   "metadata": {},
   "source": [
    "输出(数组)：对应的弧度值"
   ]
  },
  {
   "cell_type": "code",
   "execution_count": 66,
   "id": "1831f300-5c00-4fc4-9d0b-8fd10d8f0981",
   "metadata": {},
   "outputs": [
    {
     "data": {
      "text/plain": [
       "array([0.        , 0.52359878, 1.04719755, 1.57079633, 2.0943951 ,\n",
       "       2.61799388, 3.14159265, 3.66519143, 4.1887902 , 4.71238898,\n",
       "       5.23598776, 5.75958653])"
      ]
     },
     "execution_count": 66,
     "metadata": {},
     "output_type": "execute_result"
    }
   ],
   "source": [
    "import numpy as np\n",
    "\n",
    "deg = np.arange(12.) * 30\n",
    "np.radians(deg)"
   ]
  },
  {
   "cell_type": "code",
   "execution_count": 67,
   "id": "edc5cc35-ecd1-4e15-8c8f-be9ae030bd89",
   "metadata": {},
   "outputs": [
    {
     "data": {
      "text/plain": [
       "True"
      ]
     },
     "execution_count": 67,
     "metadata": {},
     "output_type": "execute_result"
    }
   ],
   "source": [
    "out = np.zeros((deg.shape))\n",
    "ret = np.radians(deg, out)\n",
    "ret is out"
   ]
  },
  {
   "cell_type": "markdown",
   "id": "040fffb3-305b-480f-a23b-c0de196c766f",
   "metadata": {},
   "source": [
    "### numpy.unwrap(p,discont=3.1415926,axis=-1,period=6.263185307179586)"
   ]
  },
  {
   "cell_type": "markdown",
   "id": "878f8ea7-b90f-411f-afe9-f12184e0cbb1",
   "metadata": {},
   "source": [
    "通过取与周期相关的大增量的补充来展开。"
   ]
  },
  {
   "cell_type": "code",
   "execution_count": 4,
   "id": "d2a211f0-7ab1-4b9e-b68a-7abfc3f5bf2d",
   "metadata": {},
   "outputs": [
    {
     "data": {
      "text/plain": [
       "array([3.13      , 3.16318531, 3.12      , 3.13      , 3.17318531])"
      ]
     },
     "execution_count": 4,
     "metadata": {},
     "output_type": "execute_result"
    }
   ],
   "source": [
    "import numpy as np\n",
    "\n",
    "np.unwrap([3.13, -3.12,  3.12,  3.13, -3.11])"
   ]
  },
  {
   "cell_type": "markdown",
   "id": "3a113677-a607-4239-8c47-2663442e7a6c",
   "metadata": {},
   "source": [
    "上面的代码,当角度从3.13变为-3.12的时候,3.13 + 3.12 > pi,所以要对-3.12增加一个2pi进行修正,变为了3.16318531, 接下来比较3.16318531和3.12,不用修正,继续比较3.13和-3.11,对-3.11增加一个2pi,变为了3.17318531,修正完毕."
   ]
  },
  {
   "cell_type": "markdown",
   "id": "ec9bf4ab-c04f-4185-9671-3d7ca06f3e68",
   "metadata": {},
   "source": [
    "注意是数列变化完后再进行比较！(尽量不要对随机生成的数据进行校正)可能会出现以下情况:竟会出现大于2pi的角度"
   ]
  },
  {
   "cell_type": "code",
   "execution_count": 5,
   "id": "b701ad11-2f4e-48a1-b232-d574380b6e42",
   "metadata": {},
   "outputs": [
    {
     "data": {
      "text/plain": [
       "array([2.67      , 5.36318531, 4.91318531, 5.70318531, 6.28318531,\n",
       "       6.28318531, 8.88496162, 9.62637061])"
      ]
     },
     "execution_count": 5,
     "metadata": {},
     "output_type": "execute_result"
    }
   ],
   "source": [
    "phase = np.array([2.67, -0.92, -1.37, -0.58, 0, 0,78, -2.94])\n",
    "np.unwrap(phase)"
   ]
  },
  {
   "cell_type": "markdown",
   "id": "32c8e21b-cb55-4a93-aac2-e00c1f695d87",
   "metadata": {},
   "source": [
    "参数：\n",
    "     discont(float, 可选):设置相邻两者能够相差的大小。一般只有大于参数period的一半才起作用。"
   ]
  },
  {
   "cell_type": "code",
   "execution_count": 8,
   "id": "f483202b-7829-4d18-b286-341a9ca111bd",
   "metadata": {},
   "outputs": [
    {
     "data": {
      "text/plain": [
       "array([ 2.67, -0.92, -1.37, -0.58,  0.  ,  0.  , 78.  , -2.94])"
      ]
     },
     "execution_count": 8,
     "metadata": {},
     "output_type": "execute_result"
    }
   ],
   "source": [
    "phase = np.array([2.67, -0.92, -1.37, -0.58, 0, 0, 78, -2.94])\n",
    "np.unwrap(phase,discont=100)"
   ]
  },
  {
   "cell_type": "code",
   "execution_count": 11,
   "id": "fec7ce5b-d256-4206-9d8c-169012354a83",
   "metadata": {},
   "outputs": [
    {
     "data": {
      "text/plain": [
       "array([2.67      , 5.36318531, 4.91318531, 5.70318531, 6.28318531,\n",
       "       6.28318531, 8.88496162, 9.62637061])"
      ]
     },
     "execution_count": 11,
     "metadata": {},
     "output_type": "execute_result"
    }
   ],
   "source": [
    "np.unwrap([2.67, -0.92, -1.37, -0.58, 0, 0, 78, -2.94],discont=1)"
   ]
  },
  {
   "cell_type": "markdown",
   "id": "34d1036f-1591-43c0-b511-a5b711b6c5b0",
   "metadata": {},
   "source": [
    "axis(int,可选):选择要此操作的轴。默认为最后轴"
   ]
  },
  {
   "cell_type": "code",
   "execution_count": 23,
   "id": "25b07673-1c25-452f-a5c6-e6f0fd9a35d7",
   "metadata": {},
   "outputs": [
    {
     "data": {
      "text/plain": [
       "array([[3.13      , 3.16318531, 3.12      ],\n",
       "       [2.67      , 5.36318531, 4.91318531],\n",
       "       [0.2       , 0.78      , 3.34318531]])"
      ]
     },
     "execution_count": 23,
     "metadata": {},
     "output_type": "execute_result"
    }
   ],
   "source": [
    "np.unwrap([[3.13, -3.12,  3.12],[2.67, -0.92, -1.37],[0.2, 0.78, -2.94]])"
   ]
  },
  {
   "cell_type": "code",
   "execution_count": 24,
   "id": "9623237e-033c-4c31-9f5d-348ea5fb33c4",
   "metadata": {},
   "outputs": [
    {
     "data": {
      "text/plain": [
       "array([[3.13      , 3.16318531, 3.12      ],\n",
       "       [2.67      , 5.36318531, 4.91318531],\n",
       "       [0.2       , 0.78      , 3.34318531]])"
      ]
     },
     "execution_count": 24,
     "metadata": {},
     "output_type": "execute_result"
    }
   ],
   "source": [
    "np.unwrap([[3.13, -3.12,  3.12],[2.67, -0.92, -1.37],[0.2, 0.78, -2.94]],axis=1)"
   ]
  },
  {
   "cell_type": "code",
   "execution_count": 25,
   "id": "ae9379c2-45ac-4fe8-bc59-3f73f75ce5b1",
   "metadata": {},
   "outputs": [
    {
     "data": {
      "text/plain": [
       "array([[ 3.13      , -3.12      ,  3.12      ],\n",
       "       [ 2.67      , -0.92      ,  4.91318531],\n",
       "       [ 0.2       ,  0.78      ,  3.34318531]])"
      ]
     },
     "execution_count": 25,
     "metadata": {},
     "output_type": "execute_result"
    }
   ],
   "source": [
    "np.unwrap([[3.13, -3.12,  3.12],[2.67, -0.92, -1.37],[0.2, 0.78, -2.94]],axis=0)"
   ]
  },
  {
   "cell_type": "code",
   "execution_count": 27,
   "id": "ad2e405c-7bd6-404a-9c29-9a1f5c6dd89b",
   "metadata": {},
   "outputs": [
    {
     "data": {
      "text/plain": [
       "array([[ 3.13      , -3.12      ,  3.12      ],\n",
       "       [ 2.67      , -0.92      ,  4.91318531],\n",
       "       [ 0.2       ,  0.78      ,  3.34318531]])"
      ]
     },
     "execution_count": 27,
     "metadata": {},
     "output_type": "execute_result"
    }
   ],
   "source": [
    "np.unwrap([[3.13, -3.12,  3.12],[2.67, -0.92, -1.37],[0.2, 0.78, -2.94]],axis=-2)"
   ]
  },
  {
   "cell_type": "markdown",
   "id": "307c80dc-d3cf-4d9e-8670-80657af0eea8",
   "metadata": {},
   "source": [
    "period(float,可选):所修正时要减去或加上的数"
   ]
  },
  {
   "cell_type": "code",
   "execution_count": 30,
   "id": "e676e797-8ddb-449d-b3c2-d50368a56ba4",
   "metadata": {},
   "outputs": [
    {
     "data": {
      "text/plain": [
       "array([1, 2, 2, 4, 4, 6, 5, 6, 7])"
      ]
     },
     "execution_count": 30,
     "metadata": {},
     "output_type": "execute_result"
    }
   ],
   "source": [
    "np.unwrap([1, 2, 2, 4, 4, 6, 1, 2, 3], period=4)"
   ]
  },
  {
   "cell_type": "markdown",
   "id": "aa4c3906-a815-4276-92bf-5dcdb8bd5223",
   "metadata": {},
   "source": [
    "### numpy.deg2rad(x,out=None,where=True,casting='same_kind',order='K',dtype=None,subok=True)"
   ]
  },
  {
   "cell_type": "markdown",
   "id": "1dfe2112-72fe-4a2b-8167-b04a3f224acd",
   "metadata": {},
   "source": [
    "参数：\n",
    "     \n",
    "     x为角的度数\n",
    "     \n",
    "输出：\n",
    "\n",
    "    角的弧度"
   ]
  },
  {
   "cell_type": "code",
   "execution_count": 31,
   "id": "91ce5045-44ce-4d29-bfac-fad3e920cbae",
   "metadata": {},
   "outputs": [
    {
     "data": {
      "text/plain": [
       "3.141592653589793"
      ]
     },
     "execution_count": 31,
     "metadata": {},
     "output_type": "execute_result"
    }
   ],
   "source": [
    "import numpy as np\n",
    "\n",
    "np.deg2rad(180)"
   ]
  },
  {
   "cell_type": "markdown",
   "id": "d8c1fca7-2f1c-4b2d-a40c-b53f6436646a",
   "metadata": {},
   "source": [
    "### numpy.rad2deg(x,out=None,where=True,casting='same_kind',order='K',dtype=None,subok=True)"
   ]
  },
  {
   "cell_type": "markdown",
   "id": "d2a41e98-0e17-4bf9-a14b-b70061245a26",
   "metadata": {},
   "source": [
    "参数： \n",
    "\n",
    "     x为角的弧度\n",
    "输出：\n",
    "    \n",
    "    角的度数"
   ]
  },
  {
   "cell_type": "code",
   "execution_count": 32,
   "id": "b13e0b87-8561-4280-b22f-74e4deb9a4e9",
   "metadata": {},
   "outputs": [
    {
     "data": {
      "text/plain": [
       "90.0"
      ]
     },
     "execution_count": 32,
     "metadata": {},
     "output_type": "execute_result"
    }
   ],
   "source": [
    "import numpy as np\n",
    "\n",
    "np.rad2deg(np.pi/2)"
   ]
  },
  {
   "cell_type": "markdown",
   "id": "b2c121e9-534d-4cd8-80a4-7c47de951882",
   "metadata": {},
   "source": [
    "### numpy.sinh(x,out=None,where=True,casting='same_kind',order='K',dtype=None,subok=True) "
   ]
  },
  {
   "cell_type": "markdown",
   "id": "baa10fcb-2b62-4bc6-bc8d-ed2b7217d622",
   "metadata": {},
   "source": [
    "等价于：\n",
    "        $$ \\frac{e^x-e^{-x}}{2}$$"
   ]
  },
  {
   "cell_type": "code",
   "execution_count": 36,
   "id": "ff99f6d4-76be-4b92-b525-6961e9192026",
   "metadata": {},
   "outputs": [
    {
     "data": {
      "text/plain": [
       "<function matplotlib.pyplot.show(close=None, block=None)>"
      ]
     },
     "execution_count": 36,
     "metadata": {},
     "output_type": "execute_result"
    },
    {
     "data": {
      "image/png": "[encoded data removed]",
      "text/plain": [
       "<Figure size 432x288 with 1 Axes>"
      ]
     },
     "metadata": {
      "needs_background": "light"
     },
     "output_type": "display_data"
    }
   ],
   "source": [
    "import matplotlib.pylab as plt\n",
    "\n",
    "x = np.linspace(-10,10,100)\n",
    "plt.plot(x, np.sinh(x))\n",
    "plt.xlabel('Angle [rad]')\n",
    "plt.ylabel('sinh(x)')\n",
    "plt.axis('tight')\n",
    "plt.show"
   ]
  },
  {
   "cell_type": "markdown",
   "id": "65650b3e-3a02-44f8-bff3-2de7a39b229d",
   "metadata": {},
   "source": [
    "### numpy.cosh(x,out=None,where=True,casting='same_kind',order='K',dtype=None,subok=True)"
   ]
  },
  {
   "cell_type": "markdown",
   "id": "0ef0c9ff-d63a-42fe-a25c-b3f261924ad8",
   "metadata": {},
   "source": [
    "等价于：\n",
    "        $$ \\frac{e^x+e^{-x}}{2}$$"
   ]
  },
  {
   "cell_type": "code",
   "execution_count": 38,
   "id": "fa501f2d-b6f2-4a74-86c2-c9547575192a",
   "metadata": {},
   "outputs": [
    {
     "data": {
      "text/plain": [
       "<function matplotlib.pyplot.show(close=None, block=None)>"
      ]
     },
     "execution_count": 38,
     "metadata": {},
     "output_type": "execute_result"
    },
    {
     "data": {
      "image/png": "[encoded data removed]",
      "text/plain": [
       "<Figure size 432x288 with 1 Axes>"
      ]
     },
     "metadata": {
      "needs_background": "light"
     },
     "output_type": "display_data"
    }
   ],
   "source": [
    "import matplotlib.pylab as plt\n",
    "\n",
    "x = np.linspace(-10,10,100)\n",
    "plt.plot(x, np.cosh(x))\n",
    "plt.xlabel('Angle [rad]')\n",
    "plt.ylabel('cosh(x)')\n",
    "plt.axis('tight')\n",
    "plt.show"
   ]
  },
  {
   "cell_type": "markdown",
   "id": "7139f748-cce3-4c46-8816-8e8edc8bf702",
   "metadata": {},
   "source": [
    "### numpy.tanh(x,out=None,where=True,casting='same_kind',order='K',dtype=None,subok=True)"
   ]
  },
  {
   "cell_type": "markdown",
   "id": "09e4a003-63eb-43d2-b450-4896f377ac52",
   "metadata": {},
   "source": [
    "等价于：\n",
    "$$ \\frac{sinh(x)}{cosh(x)}$$"
   ]
  },
  {
   "cell_type": "code",
   "execution_count": 40,
   "id": "73a5c985-4656-4c41-b4ab-2230aeff5165",
   "metadata": {},
   "outputs": [
    {
     "data": {
      "text/plain": [
       "<function matplotlib.pyplot.show(close=None, block=None)>"
      ]
     },
     "execution_count": 40,
     "metadata": {},
     "output_type": "execute_result"
    },
    {
     "data": {
      "image/png": "[encoded data removed]",
      "text/plain": [
       "<Figure size 432x288 with 1 Axes>"
      ]
     },
     "metadata": {
      "needs_background": "light"
     },
     "output_type": "display_data"
    }
   ],
   "source": [
    "import matplotlib.pylab as plt\n",
    "\n",
    "x = np.linspace(-10,10,100)\n",
    "plt.plot(x, np.tanh(x))\n",
    "plt.xlabel('Angle [rad]')\n",
    "plt.ylabel('tanh(x)')\n",
    "plt.axis('tight')\n",
    "plt.show"
   ]
  },
  {
   "cell_type": "markdown",
   "id": "ac21e3ad-4c7c-471b-9b9e-95848e8de66b",
   "metadata": {},
   "source": [
    "### numpy.arcsinh(x,out=None,where=True,casting='same_kind',order='K',dtype=None,subok=True) "
   ]
  },
  {
   "cell_type": "markdown",
   "id": "74b0294e-3a0e-4ad6-bd09-f049e1a86c51",
   "metadata": {},
   "source": [
    "取得sinh(x)的反函数等价于：\n",
    "        $$ ln(x+\\sqrt{x^2+1})$$"
   ]
  },
  {
   "cell_type": "code",
   "execution_count": 42,
   "id": "17f70420-0af0-4748-8259-e9a23c375838",
   "metadata": {},
   "outputs": [
    {
     "data": {
      "text/plain": [
       "<function matplotlib.pyplot.show(close=None, block=None)>"
      ]
     },
     "execution_count": 42,
     "metadata": {},
     "output_type": "execute_result"
    },
    {
     "data": {
      "image/png": "[encoded data removed]",
      "text/plain": [
       "<Figure size 432x288 with 1 Axes>"
      ]
     },
     "metadata": {
      "needs_background": "light"
     },
     "output_type": "display_data"
    }
   ],
   "source": [
    "import matplotlib.pylab as plt\n",
    "\n",
    "x = np.linspace(-10,10,100)\n",
    "plt.plot(x, np.arcsinh(x))\n",
    "plt.xlabel('Angle [rad]')\n",
    "plt.ylabel('arcsinh(x)')\n",
    "plt.axis('tight')\n",
    "plt.show"
   ]
  },
  {
   "cell_type": "markdown",
   "id": "66352b11-3d91-4dd0-853a-d874015af024",
   "metadata": {},
   "source": [
    "### numpy.arccosh(x,out=None,where=True,casting='same_kind'.order='K',dtype=None,subok=True)"
   ]
  },
  {
   "cell_type": "markdown",
   "id": "33ab319d-8df9-40a9-9b03-55e4ced20451",
   "metadata": {},
   "source": [
    "取得cosh(x)的反函数等价于：\n",
    "        $$ ln(x+\\sqrt{x^2-1})$$"
   ]
  },
  {
   "cell_type": "code",
   "execution_count": 51,
   "id": "f0e6e4ad-e98b-4018-b4d2-5281e93fa935",
   "metadata": {},
   "outputs": [
    {
     "name": "stderr",
     "output_type": "stream",
     "text": [
      "D:\\Anaconda3\\envs\\xuexi\\lib\\site-packages\\ipykernel_launcher.py:4: RuntimeWarning: invalid value encountered in arccosh\n",
      "  after removing the cwd from sys.path.\n"
     ]
    },
    {
     "data": {
      "text/plain": [
       "<function matplotlib.pyplot.show(close=None, block=None)>"
      ]
     },
     "execution_count": 51,
     "metadata": {},
     "output_type": "execute_result"
    },
    {
     "data": {
      "image/png": "[encoded data removed]",
      "text/plain": [
       "<Figure size 432x288 with 1 Axes>"
      ]
     },
     "metadata": {
      "needs_background": "light"
     },
     "output_type": "display_data"
    }
   ],
   "source": [
    "import matplotlib.pylab as plt\n",
    "\n",
    "x = np.linspace(-10,10,100)\n",
    "plt.plot(x, np.arccosh(x))\n",
    "plt.xlabel('Angle [rad]')\n",
    "plt.ylabel('arccosh(x)')\n",
    "plt.axis('tight')\n",
    "plt.show"
   ]
  },
  {
   "cell_type": "code",
   "execution_count": 55,
   "id": "f91086b5-8d18-46fe-b01f-25831dd3c3da",
   "metadata": {},
   "outputs": [
    {
     "data": {
      "text/plain": [
       "array([1.65745445, 2.99322285])"
      ]
     },
     "execution_count": 55,
     "metadata": {},
     "output_type": "execute_result"
    }
   ],
   "source": [
    "np.arccosh([np.e,10.0])"
   ]
  },
  {
   "cell_type": "markdown",
   "id": "40a85b8b-b139-4de4-a2ee-a156f98c6b22",
   "metadata": {},
   "source": [
    "### numpy.arctanh(x,out=None,where=True,casting='same_kind',order='K',dtype=None,subok=True)"
   ]
  },
  {
   "cell_type": "code",
   "execution_count": 59,
   "id": "cb262ba5-05b4-48d9-81a0-0bbb621e3b48",
   "metadata": {},
   "outputs": [
    {
     "name": "stderr",
     "output_type": "stream",
     "text": [
      "D:\\Anaconda3\\envs\\xuexi\\lib\\site-packages\\ipykernel_launcher.py:4: RuntimeWarning: invalid value encountered in arctanh\n",
      "  after removing the cwd from sys.path.\n"
     ]
    },
    {
     "data": {
      "text/plain": [
       "<function matplotlib.pyplot.show(close=None, block=None)>"
      ]
     },
     "execution_count": 59,
     "metadata": {},
     "output_type": "execute_result"
    },
    {
     "data": {
      "image/png": "[encoded data removed]",
      "text/plain": [
       "<Figure size 432x288 with 1 Axes>"
      ]
     },
     "metadata": {
      "needs_background": "light"
     },
     "output_type": "display_data"
    }
   ],
   "source": [
    "import matplotlib.pylab as plt\n",
    "\n",
    "x = np.linspace(-10,10,1000)\n",
    "plt.plot(x, np.arctanh(x))\n",
    "plt.xlabel('Angle [rad]')\n",
    "plt.ylabel('arctanh(x)')\n",
    "plt.axis('tight')\n",
    "plt.show"
   ]
  },
  {
   "cell_type": "markdown",
   "id": "3cc6bc07-f558-43d9-9d87-f9b937ebc2fd",
   "metadata": {},
   "source": [
    "### numpy.around(a,decimals=0,out=None)"
   ]
  },
  {
   "cell_type": "markdown",
   "id": "29d2bd25-34b3-466e-b08a-00b954f5e77f",
   "metadata": {},
   "source": [
    "### numpy.round_(a,decimals=0,out=None)"
   ]
  },
  {
   "cell_type": "markdown",
   "id": "d7feaf7f-d6f0-4608-8653-d8bf2b1d16d5",
   "metadata": {},
   "source": [
    "上述两者为等价的，将数组舍入到给定的小数位数。"
   ]
  },
  {
   "cell_type": "markdown",
   "id": "b768b684-4e44-400f-a755-8125ac1b9edd",
   "metadata": {},
   "source": [
    "参数：\n",
    "\n",
    "    decimals(int,可选):要四舍五入的小数位数（默认值：0）。如果小数为负数，则指定小数点左侧的位数。"
   ]
  },
  {
   "cell_type": "code",
   "execution_count": 64,
   "id": "f9e5034b-ea19-4041-a775-7b07e210534c",
   "metadata": {},
   "outputs": [
    {
     "data": {
      "text/plain": [
       "array([0., 2., 3., 4., 5.])"
      ]
     },
     "execution_count": 64,
     "metadata": {},
     "output_type": "execute_result"
    }
   ],
   "source": [
    "import numpy as np\n",
    "\n",
    "np.around([.50,1.53,2.54,3.56,4.52])       #注意0.5的取值为0"
   ]
  },
  {
   "cell_type": "code",
   "execution_count": 67,
   "id": "c8516d86-7952-4961-8271-dda97dc38f95",
   "metadata": {},
   "outputs": [
    {
     "data": {
      "text/plain": [
       "array([0.5, 1.5, 2.5, 3.6, 4.5])"
      ]
     },
     "execution_count": 67,
     "metadata": {},
     "output_type": "execute_result"
    }
   ],
   "source": [
    "np.around([.50,1.53,2.54,3.56,4.52],decimals=1)"
   ]
  },
  {
   "cell_type": "code",
   "execution_count": 71,
   "id": "860aab72-8da0-4613-9a2d-e8f4bb2eb89d",
   "metadata": {},
   "outputs": [
    {
     "data": {
      "text/plain": [
       "array([  0., 100.,   0.,   0.,   0.])"
      ]
     },
     "execution_count": 71,
     "metadata": {},
     "output_type": "execute_result"
    }
   ],
   "source": [
    "np.around([10.50,113.53,22.54,35.56,43.52],decimals=-2)"
   ]
  },
  {
   "cell_type": "code",
   "execution_count": 72,
   "id": "ccff492d-4022-411b-84c2-5311ee6b155e",
   "metadata": {},
   "outputs": [
    {
     "data": {
      "text/plain": [
       "array([  0., 100.,   0.,   0.,   0.])"
      ]
     },
     "execution_count": 72,
     "metadata": {},
     "output_type": "execute_result"
    }
   ],
   "source": [
    "np.round_([10.50,113.53,22.54,35.56,43.52],decimals=-2)"
   ]
  },
  {
   "cell_type": "markdown",
   "id": "894e18f7-c451-448e-b5fe-e788187981df",
   "metadata": {},
   "source": [
    "### numpy.rint(x,out=None,where=True,casting='same_kind',order='K',dtype=Noen,subok=True)"
   ]
  },
  {
   "cell_type": "markdown",
   "id": "df39b67d-9428-45b5-b7ed-884304a943a6",
   "metadata": {},
   "source": [
    "将数组的元素舍入到最接近的整数。"
   ]
  },
  {
   "cell_type": "code",
   "execution_count": 73,
   "id": "d55446da-ab63-4b11-bd59-e69e851a9107",
   "metadata": {},
   "outputs": [
    {
     "data": {
      "text/plain": [
       "array([-2., -2., -0.,  0.,  2.,  2.,  2.])"
      ]
     },
     "execution_count": 73,
     "metadata": {},
     "output_type": "execute_result"
    }
   ],
   "source": [
    "import numpy as np\n",
    "\n",
    "a = np.array([-1.7, -1.5, -0.2, 0.2, 1.5, 1.7, 2.0])    #注意1.5的取值\n",
    "np.rint(a)"
   ]
  },
  {
   "cell_type": "markdown",
   "id": "4118ee0d-c0ae-4d84-ac33-6cc50de610ec",
   "metadata": {},
   "source": [
    "### numpy.fix(x,out=None)"
   ]
  },
  {
   "cell_type": "markdown",
   "id": "8c7f349d-785f-4c26-b9ed-45c2c45efa5c",
   "metadata": {},
   "source": [
    "四舍五入到最接近0的整数。将浮点数组按元素四舍五入到最接近的整数为零。\n",
    "舍入后的值作为浮点数返回。"
   ]
  },
  {
   "cell_type": "code",
   "execution_count": 74,
   "id": "dddc81af-cdb9-49cf-95e6-eb7942fa6bd3",
   "metadata": {},
   "outputs": [
    {
     "data": {
      "text/plain": [
       "3.0"
      ]
     },
     "execution_count": 74,
     "metadata": {},
     "output_type": "execute_result"
    }
   ],
   "source": [
    "import numpy as np\n",
    "\n",
    "np.fix(3.14)"
   ]
  },
  {
   "cell_type": "code",
   "execution_count": 75,
   "id": "395125af-081e-44a3-b012-8231b5ce74aa",
   "metadata": {},
   "outputs": [
    {
     "data": {
      "text/plain": [
       "3.0"
      ]
     },
     "execution_count": 75,
     "metadata": {},
     "output_type": "execute_result"
    }
   ],
   "source": [
    "np.fix(3)"
   ]
  },
  {
   "cell_type": "code",
   "execution_count": 76,
   "id": "6ceb18b7-12ff-407e-8e7e-263e45dddc73",
   "metadata": {},
   "outputs": [
    {
     "data": {
      "text/plain": [
       "array([ 2.,  2., -2., -2.])"
      ]
     },
     "execution_count": 76,
     "metadata": {},
     "output_type": "execute_result"
    }
   ],
   "source": [
    "np.fix([2.1,2.9,-2.1,-2.9])"
   ]
  },
  {
   "cell_type": "markdown",
   "id": "1d89fe82-dc8e-4e0e-b4c2-fcb94e9daf9c",
   "metadata": {},
   "source": [
    "### numpy.floor(x,out=None,where=True,casting='same_kind',order='K',dtype=None,subok=True)"
   ]
  },
  {
   "cell_type": "markdown",
   "id": "e3f6caa6-4bb7-4eea-8530-7e5c06c479f3",
   "metadata": {},
   "source": [
    "按元素返回输入的所在最低的整数。注意和numpy.fix的区别(即在正数部分两者等价，负数不同)。"
   ]
  },
  {
   "cell_type": "code",
   "execution_count": 77,
   "id": "6f62dca9-af81-4f36-b565-b090fc6518fa",
   "metadata": {},
   "outputs": [
    {
     "data": {
      "text/plain": [
       "array([ 2.,  2., -3., -3.])"
      ]
     },
     "execution_count": 77,
     "metadata": {},
     "output_type": "execute_result"
    }
   ],
   "source": [
    "np.floor([2.1,2.9,-2.1,-2.9])"
   ]
  },
  {
   "cell_type": "markdown",
   "id": "659c07ae-aac2-4a96-8386-192b7deeb4bb",
   "metadata": {},
   "source": [
    "### numpy.ceil(x,out=None,where=True,casting='same_kind',order='K',dtype=None,subok=True)"
   ]
  },
  {
   "cell_type": "markdown",
   "id": "05583dc8-43d5-42bd-92a0-f30f0dcbf56c",
   "metadata": {},
   "source": [
    "按元素返回输入的所在最高的整数。注意和numpy.fix的区别(即在负数部分两者等价，正数不同)"
   ]
  },
  {
   "cell_type": "code",
   "execution_count": 79,
   "id": "46b6a494-3541-4f92-b369-42e87d0e9746",
   "metadata": {},
   "outputs": [
    {
     "data": {
      "text/plain": [
       "array([ 3.,  3., -2., -2.])"
      ]
     },
     "execution_count": 79,
     "metadata": {},
     "output_type": "execute_result"
    }
   ],
   "source": [
    "import numpy as np\n",
    "\n",
    "a = np.array([2.1,2.9,-2.1,-2.9])\n",
    "np.ceil(a)"
   ]
  },
  {
   "cell_type": "markdown",
   "id": "855cd99c-07d1-4c27-9478-5a51e2438f34",
   "metadata": {},
   "source": [
    "### numpy.trunc(x,out=None,where=True,casting='same_kind',order='K',dtype=None,subok=True) "
   ]
  },
  {
   "cell_type": "markdown",
   "id": "f3f20c49-8387-4726-a1ec-87750c3522fb",
   "metadata": {},
   "source": [
    "按元素返回输入的整数部分(单看整数部分)。\n",
    "\n",
    "简而言之，有符号数 x 的小数部分被丢弃。"
   ]
  },
  {
   "cell_type": "code",
   "execution_count": 80,
   "id": "c09e757b-50df-4c6e-a065-288fbae29b9b",
   "metadata": {},
   "outputs": [
    {
     "data": {
      "text/plain": [
       "array([-1., -1., -0.,  0.,  1.,  1.,  2.])"
      ]
     },
     "execution_count": 80,
     "metadata": {},
     "output_type": "execute_result"
    }
   ],
   "source": [
    "import numpy as np\n",
    "\n",
    "a = np.array([-1.7,-1.5,-0.2,0.2,1.5,1.7,2.0])\n",
    "np.trunc(a)"
   ]
  },
  {
   "cell_type": "markdown",
   "id": "2e289a16-6f02-4f95-a69c-26e6b6ffc4da",
   "metadata": {},
   "source": [
    "### numpy.prod(a,axis=None,dtype=None,out=None,keepdims,initial,where)"
   ]
  },
  {
   "cell_type": "markdown",
   "id": "12df029c-9b7e-47cb-9c1e-88ee7cbb3a38",
   "metadata": {},
   "source": [
    "返回给定轴上数组元素的乘积。"
   ]
  },
  {
   "cell_type": "code",
   "execution_count": 85,
   "id": "9930e7c8-3864-4650-a6cf-4a1e8449e462",
   "metadata": {},
   "outputs": [
    {
     "data": {
      "text/plain": [
       "2.0"
      ]
     },
     "execution_count": 85,
     "metadata": {},
     "output_type": "execute_result"
    }
   ],
   "source": [
    "import numpy as np\n",
    "\n",
    "x = np.array([1.,2.])\n",
    "np.prod(x)"
   ]
  },
  {
   "cell_type": "markdown",
   "id": "1f96d580-4aaa-4e32-a98c-b0af06cd4f94",
   "metadata": {},
   "source": [
    "空数组的乘积是中性元素1"
   ]
  },
  {
   "cell_type": "code",
   "execution_count": 87,
   "id": "0c7c8974-0847-4425-b74d-f34ed6d9766d",
   "metadata": {},
   "outputs": [
    {
     "data": {
      "text/plain": [
       "1.0"
      ]
     },
     "execution_count": 87,
     "metadata": {},
     "output_type": "execute_result"
    }
   ],
   "source": [
    "np.prod([])"
   ]
  },
  {
   "cell_type": "markdown",
   "id": "3ec3a8bb-69e3-46a5-ae66-b470bc494a90",
   "metadata": {},
   "source": [
    "参数：\n",
    "\n",
    "    axis(None,int,tuple of int):执行运算的轴。\n",
    "    \n",
    "默认情况下，axis=None 将计算输入数组中所有元素的乘积。如果轴为负，则从最后一个轴到第一个轴计数。"
   ]
  },
  {
   "cell_type": "code",
   "execution_count": 88,
   "id": "d72fb312-f9d0-4f17-ad21-150ebb990f1d",
   "metadata": {},
   "outputs": [
    {
     "data": {
      "text/plain": [
       "array([ 2., 12.])"
      ]
     },
     "execution_count": 88,
     "metadata": {},
     "output_type": "execute_result"
    }
   ],
   "source": [
    "np.prod([[1.,2.],[3.,4.]], axis=1)"
   ]
  },
  {
   "cell_type": "code",
   "execution_count": 90,
   "id": "c92d5581-9cdb-4581-958f-bd55ca6bf8e8",
   "metadata": {},
   "outputs": [
    {
     "data": {
      "text/plain": [
       "array([3., 8.])"
      ]
     },
     "execution_count": 90,
     "metadata": {},
     "output_type": "execute_result"
    }
   ],
   "source": [
    "np.prod([[1.,2.],[3.,4.]], axis=-2)"
   ]
  },
  {
   "cell_type": "markdown",
   "id": "71b39414-83c3-4112-a2ae-d477defaffe0",
   "metadata": {},
   "source": [
    "如果轴是整数元组，则在元组中指定的所有轴上执行乘积，而不是像以前一样对单个轴或所有轴执行乘积。"
   ]
  },
  {
   "cell_type": "code",
   "execution_count": 95,
   "id": "16e0f68a-3c6a-4b7c-96e0-d4bf6c14604b",
   "metadata": {},
   "outputs": [
    {
     "data": {
      "text/plain": [
       "24.0"
      ]
     },
     "execution_count": 95,
     "metadata": {},
     "output_type": "execute_result"
    }
   ],
   "source": [
    "np.prod([[1.,2.],[3.,4.]], axis=(1,-2))"
   ]
  },
  {
   "cell_type": "markdown",
   "id": "d8fa3676-90da-4442-aa54-002bfbbfb9fb",
   "metadata": {},
   "source": [
    "dtype(可选):\n",
    "\n",
    "            如果x的类型是无符号的，则输出类型是也是无符号的\n",
    "\n",
    "            如果 x 是有符号整数类型，则输出类型是默认整数类型"
   ]
  },
  {
   "cell_type": "code",
   "execution_count": 98,
   "id": "8ecac553-c190-4e41-bc12-b68485fd89ad",
   "metadata": {},
   "outputs": [
    {
     "data": {
      "text/plain": [
       "True"
      ]
     },
     "execution_count": 98,
     "metadata": {},
     "output_type": "execute_result"
    }
   ],
   "source": [
    "x = np.array([1, 2, 3], dtype=np.uint8)\n",
    "np.prod(x).dtype==np.uint"
   ]
  },
  {
   "cell_type": "code",
   "execution_count": 99,
   "id": "06c76e61-5e15-47d1-9b13-a8695e07afd8",
   "metadata": {},
   "outputs": [
    {
     "data": {
      "text/plain": [
       "True"
      ]
     },
     "execution_count": 99,
     "metadata": {},
     "output_type": "execute_result"
    }
   ],
   "source": [
    "x = np.array([1,2,3], dtype=np.int8)\n",
    "np.prod(x).dtype==int"
   ]
  },
  {
   "cell_type": "markdown",
   "id": "07ead246-b3f2-4de4-bb5d-2271c6aac7a1",
   "metadata": {},
   "source": [
    "initial(可选):起始值"
   ]
  },
  {
   "cell_type": "code",
   "execution_count": 101,
   "id": "b5571389-a9a2-4ead-8f7a-94eb20790e9d",
   "metadata": {},
   "outputs": [
    {
     "data": {
      "text/plain": [
       "10"
      ]
     },
     "execution_count": 101,
     "metadata": {},
     "output_type": "execute_result"
    }
   ],
   "source": [
    "np.prod([1, 2], initial=5)    #1*2*5"
   ]
  },
  {
   "cell_type": "markdown",
   "id": "65de04f4-4fd6-4e09-8f5e-960695511d28",
   "metadata": {},
   "source": [
    "where(布尔数组，可选):选择要包含的特定元素"
   ]
  },
  {
   "cell_type": "code",
   "execution_count": 102,
   "id": "b1f984fa-1db6-41b9-a34a-1e15aacddcbb",
   "metadata": {},
   "outputs": [
    {
     "data": {
      "text/plain": [
       "3.0"
      ]
     },
     "execution_count": 102,
     "metadata": {},
     "output_type": "execute_result"
    }
   ],
   "source": [
    "np.prod([1.,2.,3.],where=[True,False,True])   #1*3"
   ]
  },
  {
   "cell_type": "code",
   "execution_count": 103,
   "id": "60d28798-d35b-4bb3-94e4-3416b42698a0",
   "metadata": {},
   "outputs": [
    {
     "data": {
      "text/plain": [
       "6.0"
      ]
     },
     "execution_count": 103,
     "metadata": {},
     "output_type": "execute_result"
    }
   ],
   "source": [
    "np.prod([1.,2.,3.],where=[False,True,True])   #2*3"
   ]
  },
  {
   "cell_type": "markdown",
   "id": "8cb8c287-095a-43d2-90c9-8762ccf0751c",
   "metadata": {},
   "source": [
    "### numpy.sum(a,axis=None,dtype=None,out=None,keepdims,initial,where)"
   ]
  },
  {
   "cell_type": "markdown",
   "id": "fc98892f-df77-4240-b453-797ea7995e19",
   "metadata": {},
   "source": [
    "给定轴上数组元素的总和。"
   ]
  },
  {
   "cell_type": "code",
   "execution_count": 104,
   "id": "d9e3ea09-2277-4d70-9c5b-120db175e7b8",
   "metadata": {},
   "outputs": [
    {
     "data": {
      "text/plain": [
       "2.0"
      ]
     },
     "execution_count": 104,
     "metadata": {},
     "output_type": "execute_result"
    }
   ],
   "source": [
    "import numpy as np\n",
    "\n",
    "np.sum([0.5,1.5])"
   ]
  },
  {
   "cell_type": "markdown",
   "id": "7026234c-e366-4b2c-9102-bf824d298825",
   "metadata": {},
   "source": [
    "空数组的和是自然数0"
   ]
  },
  {
   "cell_type": "code",
   "execution_count": 105,
   "id": "eface892-9be1-4aca-8701-e6a05e4e63e9",
   "metadata": {},
   "outputs": [
    {
     "data": {
      "text/plain": [
       "0.0"
      ]
     },
     "execution_count": 105,
     "metadata": {},
     "output_type": "execute_result"
    }
   ],
   "source": [
    "np.sum([])"
   ]
  },
  {
   "cell_type": "markdown",
   "id": "7f66d21d-798e-4d56-8b91-0d0acd605569",
   "metadata": {},
   "source": [
    "参数：\n",
    "      axis(None,int,tuple of ints,可选):执行运算的轴"
   ]
  },
  {
   "cell_type": "code",
   "execution_count": 106,
   "id": "06612991-6612-4c92-8e0a-719676d43434",
   "metadata": {},
   "outputs": [
    {
     "data": {
      "text/plain": [
       "6"
      ]
     },
     "execution_count": 106,
     "metadata": {},
     "output_type": "execute_result"
    }
   ],
   "source": [
    "np.sum([[0, 1],[0, 5]])"
   ]
  },
  {
   "cell_type": "code",
   "execution_count": 107,
   "id": "11dd589b-27fe-44ca-bfef-c62ca82d7837",
   "metadata": {},
   "outputs": [
    {
     "data": {
      "text/plain": [
       "array([0, 6])"
      ]
     },
     "execution_count": 107,
     "metadata": {},
     "output_type": "execute_result"
    }
   ],
   "source": [
    "np.sum([[0, 1],[0, 5]],axis=0)"
   ]
  },
  {
   "cell_type": "code",
   "execution_count": 108,
   "id": "80e3bd02-5980-40e9-8812-410a2346d78e",
   "metadata": {},
   "outputs": [
    {
     "data": {
      "text/plain": [
       "array([1, 5])"
      ]
     },
     "execution_count": 108,
     "metadata": {},
     "output_type": "execute_result"
    }
   ],
   "source": [
    "np.sum([[0, 1],[0, 5]],axis=1)"
   ]
  },
  {
   "cell_type": "markdown",
   "id": "5759ac36-461a-4d9c-8295-6b01b3e8f7a0",
   "metadata": {},
   "source": [
    "dtype(可选):返回指定形式的值(先变成指定形式的数后再进行求和)"
   ]
  },
  {
   "cell_type": "code",
   "execution_count": 110,
   "id": "a530af6a-16cc-4a7d-8667-9f76290c33be",
   "metadata": {},
   "outputs": [
    {
     "data": {
      "text/plain": [
       "2"
      ]
     },
     "execution_count": 110,
     "metadata": {},
     "output_type": "execute_result"
    }
   ],
   "source": [
    "np.sum([0.6, 1.7, 0.2, 1.5], dtype=np.int32)"
   ]
  },
  {
   "cell_type": "markdown",
   "id": "bfa04ee2-b65b-4039-a679-dcb5df68efa4",
   "metadata": {},
   "source": [
    "initial(标量，可选):初始值"
   ]
  },
  {
   "cell_type": "code",
   "execution_count": 111,
   "id": "16ca4cc0-8b9a-4399-ad38-8a3531391bc6",
   "metadata": {},
   "outputs": [
    {
     "data": {
      "text/plain": [
       "15"
      ]
     },
     "execution_count": 111,
     "metadata": {},
     "output_type": "execute_result"
    }
   ],
   "source": [
    "np.sum([10],initial=5)"
   ]
  },
  {
   "cell_type": "markdown",
   "id": "43d114ed-83a4-4ff5-9a18-f9f676fbad1e",
   "metadata": {},
   "source": [
    "where(布尔数组，可选):指定元素进行操作"
   ]
  },
  {
   "cell_type": "code",
   "execution_count": 114,
   "id": "1f7ee0f5-9d73-4fb1-9752-feb4a2c2a703",
   "metadata": {},
   "outputs": [
    {
     "data": {
      "text/plain": [
       "6"
      ]
     },
     "execution_count": 114,
     "metadata": {},
     "output_type": "execute_result"
    }
   ],
   "source": [
    "np.sum([[0, 1], [3, 5]], where=[False, True])"
   ]
  },
  {
   "cell_type": "code",
   "execution_count": 115,
   "id": "64e86190-1d12-434b-8035-e6601043d50a",
   "metadata": {},
   "outputs": [
    {
     "data": {
      "text/plain": [
       "9"
      ]
     },
     "execution_count": 115,
     "metadata": {},
     "output_type": "execute_result"
    }
   ],
   "source": [
    "np.sum([[0, 1], [3, 5]])"
   ]
  },
  {
   "cell_type": "code",
   "execution_count": 116,
   "id": "e777d1f2-e471-4e47-8afc-9fbb731e5154",
   "metadata": {},
   "outputs": [
    {
     "data": {
      "text/plain": [
       "array([1., 5.])"
      ]
     },
     "execution_count": 116,
     "metadata": {},
     "output_type": "execute_result"
    }
   ],
   "source": [
    "np.sum([[0, 1], [np.nan, 5]], where=[False, True],axis=1)"
   ]
  },
  {
   "cell_type": "markdown",
   "id": "6d468833-d4e7-4afd-a7e1-41ccae460246",
   "metadata": {},
   "source": [
    "### numpy.nanprod(a,axis=None,dtype=None,out=None,keepdims)"
   ]
  },
  {
   "cell_type": "markdown",
   "id": "ac2a8cac-8e3b-4648-babe-da87527a4fab",
   "metadata": {},
   "source": [
    "返回数组元素在给定轴上的乘积.(和numpy.prod区别在于对np.nan的处理)，其余参数特性参考numpy.prod。"
   ]
  },
  {
   "cell_type": "code",
   "execution_count": 118,
   "id": "540c2921-9552-4fec-8596-2b18574056ed",
   "metadata": {},
   "outputs": [
    {
     "data": {
      "text/plain": [
       "nan"
      ]
     },
     "execution_count": 118,
     "metadata": {},
     "output_type": "execute_result"
    }
   ],
   "source": [
    "import numpy as np\n",
    "\n",
    "np.prod([[1,2],[3,np.nan]])  #作为nan处理"
   ]
  },
  {
   "cell_type": "code",
   "execution_count": 123,
   "id": "db586a62-90e6-47a2-a98a-1c05d7027a51",
   "metadata": {},
   "outputs": [
    {
     "data": {
      "text/plain": [
       "6.0"
      ]
     },
     "execution_count": 123,
     "metadata": {},
     "output_type": "execute_result"
    }
   ],
   "source": [
    "np.nanprod([[1,2],[3,np.nan]])  #作为1处理"
   ]
  },
  {
   "cell_type": "markdown",
   "id": "892c0da3-35ce-4ac3-90eb-4bfed325a058",
   "metadata": {},
   "source": [
    "### numpy.nansum(a,axis=None,dtype=None,out=None,keepdim)"
   ]
  },
  {
   "cell_type": "markdown",
   "id": "ff0be273-61f9-4c59-aea9-2959cc1374b1",
   "metadata": {},
   "source": [
    "返回给定轴上数组元素的总和(和numpy.sum区别在于对np.nan的处理)，将非数字 (NaN) 视为零。"
   ]
  },
  {
   "cell_type": "code",
   "execution_count": 124,
   "id": "bf4ed06a-9213-4994-bbcf-53816b2c5c48",
   "metadata": {},
   "outputs": [
    {
     "data": {
      "text/plain": [
       "nan"
      ]
     },
     "execution_count": 124,
     "metadata": {},
     "output_type": "execute_result"
    }
   ],
   "source": [
    "import numpy as np\n",
    "\n",
    "np.sum([[1,1],[1,np.nan]])"
   ]
  },
  {
   "cell_type": "code",
   "execution_count": 125,
   "id": "2d3250ee-457c-4d86-9469-64ff50a7247b",
   "metadata": {},
   "outputs": [
    {
     "data": {
      "text/plain": [
       "3.0"
      ]
     },
     "execution_count": 125,
     "metadata": {},
     "output_type": "execute_result"
    }
   ],
   "source": [
    "np.nansum([[1,1],[1,np.nan]])"
   ]
  },
  {
   "cell_type": "markdown",
   "id": "9667b1bf-90b4-47ef-8fd2-4b032e5141e9",
   "metadata": {},
   "source": [
    "如果同时存在正无穷大和负无穷大，则总和将不是数字 (NaN)。"
   ]
  },
  {
   "cell_type": "code",
   "execution_count": 126,
   "id": "e33b926d-8c3f-43d4-841e-384c1b941940",
   "metadata": {},
   "outputs": [
    {
     "name": "stdout",
     "output_type": "stream",
     "text": [
      "nan\n"
     ]
    }
   ],
   "source": [
    "from numpy.testing import suppress_warnings\n",
    "with suppress_warnings() as sup:\n",
    "    sup.filter(RuntimeWarning)\n",
    "    print(np.nansum([1, np.nan, np.inf, -np.inf]))"
   ]
  },
  {
   "cell_type": "markdown",
   "id": "5789aabc-34c7-4dda-94bc-fec4638f8931",
   "metadata": {},
   "source": [
    "### numpy.cumprod(a,axis=None,dtype=None,out=None)"
   ]
  },
  {
   "cell_type": "markdown",
   "id": "fc3c0454-b239-4b53-b509-40a70e703a69",
   "metadata": {},
   "source": [
    "返回沿给定轴的元素的累积乘积。"
   ]
  },
  {
   "cell_type": "markdown",
   "id": "066e608f-6ccb-4fca-8f72-580bb1365910",
   "metadata": {},
   "source": [
    "参数：\n",
    "\n",
    "     axis(int,可选):选择进行操作的轴"
   ]
  },
  {
   "cell_type": "code",
   "execution_count": 127,
   "id": "366a8727-d075-4bc7-b2fc-bfb269f73ab0",
   "metadata": {},
   "outputs": [
    {
     "data": {
      "text/plain": [
       "array([  1,   2,   6,  24, 120, 720], dtype=int32)"
      ]
     },
     "execution_count": 127,
     "metadata": {},
     "output_type": "execute_result"
    }
   ],
   "source": [
    "import numpy as np\n",
    "\n",
    "a = np.array([[1,2,3],[4,5,6]])\n",
    "np.cumprod(a)       #注意结果保留的位置"
   ]
  },
  {
   "cell_type": "code",
   "execution_count": 128,
   "id": "140cabff-b3c7-4e28-927e-6d01b02de20a",
   "metadata": {},
   "outputs": [
    {
     "data": {
      "text/plain": [
       "array([[ 1,  2,  3],\n",
       "       [ 4, 10, 18]], dtype=int32)"
      ]
     },
     "execution_count": 128,
     "metadata": {},
     "output_type": "execute_result"
    }
   ],
   "source": [
    "np.cumprod(a,axis=0)    #注意结果保留的位置"
   ]
  },
  {
   "cell_type": "code",
   "execution_count": 129,
   "id": "26a8f895-f68d-434d-ac1b-d2ff8a7fee5c",
   "metadata": {},
   "outputs": [
    {
     "data": {
      "text/plain": [
       "array([[  1,   2,   6],\n",
       "       [  4,  20, 120]], dtype=int32)"
      ]
     },
     "execution_count": 129,
     "metadata": {},
     "output_type": "execute_result"
    }
   ],
   "source": [
    "np.cumprod(a,axis=1)"
   ]
  },
  {
   "cell_type": "markdown",
   "id": "5513ab71-0827-4e94-ad2d-9791be4820d5",
   "metadata": {},
   "source": [
    "     dtype(可选):返回数组的类型"
   ]
  },
  {
   "cell_type": "code",
   "execution_count": 132,
   "id": "2276df67-5eca-4066-b421-5f08a83b53c9",
   "metadata": {},
   "outputs": [
    {
     "data": {
      "text/plain": [
       "array([  1.,   2.,   6.,  24., 120., 720.])"
      ]
     },
     "execution_count": 132,
     "metadata": {},
     "output_type": "execute_result"
    }
   ],
   "source": [
    "b = np.cumprod(a,dtype=float)\n",
    "b"
   ]
  },
  {
   "cell_type": "code",
   "execution_count": 134,
   "id": "62d8e5c6-f9f3-4227-9d31-2c4c0aea44b1",
   "metadata": {},
   "outputs": [
    {
     "data": {
      "text/plain": [
       "dtype('float64')"
      ]
     },
     "execution_count": 134,
     "metadata": {},
     "output_type": "execute_result"
    }
   ],
   "source": [
    "b.dtype"
   ]
  },
  {
   "cell_type": "markdown",
   "id": "869c0884-39c4-4cd8-86a1-f4f943144045",
   "metadata": {},
   "source": [
    "### numpy.cumsum(a,axis=None,dtype=None,out=None)"
   ]
  },
  {
   "cell_type": "markdown",
   "id": "89d6336b-0199-463b-ab51-5008ef6301d6",
   "metadata": {},
   "source": [
    "返回沿给定轴的元素的累积总和。"
   ]
  },
  {
   "cell_type": "markdown",
   "id": "63707c0c-978a-4d6d-9e8d-534c478b78f5",
   "metadata": {},
   "source": [
    "参数：\n",
    "\n",
    "     axis(int,可选):选择进行操作的轴"
   ]
  },
  {
   "cell_type": "code",
   "execution_count": 135,
   "id": "195775ad-923c-4556-aaa1-e05b3581bb5a",
   "metadata": {},
   "outputs": [
    {
     "data": {
      "text/plain": [
       "array([ 1,  3,  6, 10, 15, 21], dtype=int32)"
      ]
     },
     "execution_count": 135,
     "metadata": {},
     "output_type": "execute_result"
    }
   ],
   "source": [
    "import numpy as np\n",
    "\n",
    "a = np.array([[1,2,3],[4,5,6]])\n",
    "np.cumsum(a)       #注意结果保留的位置"
   ]
  },
  {
   "cell_type": "code",
   "execution_count": 136,
   "id": "353e3716-6000-4ae7-9039-a0825240e367",
   "metadata": {},
   "outputs": [
    {
     "data": {
      "text/plain": [
       "array([[1, 2, 3],\n",
       "       [5, 7, 9]], dtype=int32)"
      ]
     },
     "execution_count": 136,
     "metadata": {},
     "output_type": "execute_result"
    }
   ],
   "source": [
    "np.cumsum(a,axis=0)    #注意结果保留的位置"
   ]
  },
  {
   "cell_type": "code",
   "execution_count": 138,
   "id": "9d549961-48ad-4f7f-8c39-ad6b107183df",
   "metadata": {},
   "outputs": [
    {
     "data": {
      "text/plain": [
       "array([[ 1,  3,  6],\n",
       "       [ 4,  9, 15]], dtype=int32)"
      ]
     },
     "execution_count": 138,
     "metadata": {},
     "output_type": "execute_result"
    }
   ],
   "source": [
    "np.cumsum(a,axis=1)"
   ]
  },
  {
   "cell_type": "markdown",
   "id": "b94c49c0-0bcb-430a-8e94-e4d6d874aefd",
   "metadata": {},
   "source": [
    "       dtype(可选):返回数组的类型"
   ]
  },
  {
   "cell_type": "code",
   "execution_count": 139,
   "id": "e703866b-b141-4181-a879-1bd3b92f257f",
   "metadata": {},
   "outputs": [
    {
     "data": {
      "text/plain": [
       "array([ 1.,  3.,  6., 10., 15., 21.])"
      ]
     },
     "execution_count": 139,
     "metadata": {},
     "output_type": "execute_result"
    }
   ],
   "source": [
    "b = np.cumsum(a,dtype=float)\n",
    "b"
   ]
  },
  {
   "cell_type": "code",
   "execution_count": 140,
   "id": "4352d8a0-ba8c-4833-be5e-449ddddc4c07",
   "metadata": {},
   "outputs": [
    {
     "data": {
      "text/plain": [
       "dtype('float64')"
      ]
     },
     "execution_count": 140,
     "metadata": {},
     "output_type": "execute_result"
    }
   ],
   "source": [
    "b.dtype"
   ]
  },
  {
   "cell_type": "markdown",
   "id": "73d9196f-14f9-4c85-ba29-4a77fd9db955",
   "metadata": {},
   "source": [
    "comsum()[-1]和sum()不等(注意区别之间慎用)"
   ]
  },
  {
   "cell_type": "code",
   "execution_count": 143,
   "id": "6c4f85aa-48d8-47f3-ab4d-ef1ed748c57d",
   "metadata": {},
   "outputs": [
    {
     "data": {
      "text/plain": [
       "100000.00049969509"
      ]
     },
     "execution_count": 143,
     "metadata": {},
     "output_type": "execute_result"
    }
   ],
   "source": [
    "b = np.array([1, 2e-9, 3e-9]*100000)\n",
    "b.cumsum()[-1]"
   ]
  },
  {
   "cell_type": "code",
   "execution_count": 144,
   "id": "c3ece8f1-97d6-4d47-8561-91179b35c171",
   "metadata": {},
   "outputs": [
    {
     "data": {
      "text/plain": [
       "100000.00049999997"
      ]
     },
     "execution_count": 144,
     "metadata": {},
     "output_type": "execute_result"
    }
   ],
   "source": [
    "b.sum()"
   ]
  },
  {
   "cell_type": "markdown",
   "id": "f2429289-4915-43f4-b95d-e97485b10469",
   "metadata": {},
   "source": [
    "### numpy.nancumprod(a,axis=None,dtype=None,out=None) "
   ]
  },
  {
   "cell_type": "markdown",
   "id": "05c2da16-cbd2-4385-896a-5dab872b5c04",
   "metadata": {},
   "source": [
    "返回数组元素在给定轴上的累积乘积.对np.nan做1处理"
   ]
  },
  {
   "cell_type": "code",
   "execution_count": 145,
   "id": "e7da63aa-bd9d-4aaf-aa45-d2d5413b5a62",
   "metadata": {},
   "outputs": [
    {
     "data": {
      "text/plain": [
       "array([1., 1.])"
      ]
     },
     "execution_count": 145,
     "metadata": {},
     "output_type": "execute_result"
    }
   ],
   "source": [
    "import numpy as np\n",
    "\n",
    "np.nancumprod([1, np.nan])"
   ]
  },
  {
   "cell_type": "code",
   "execution_count": 146,
   "id": "1d15f79f-51db-4235-adb8-db45821687b1",
   "metadata": {},
   "outputs": [
    {
     "data": {
      "text/plain": [
       "array([1., 2., 6., 6.])"
      ]
     },
     "execution_count": 146,
     "metadata": {},
     "output_type": "execute_result"
    }
   ],
   "source": [
    "a = np.array([[1,2],[3,np.nan]])\n",
    "np.nancumprod(a)"
   ]
  },
  {
   "cell_type": "markdown",
   "id": "ebcf61ee-6805-44da-966a-8f65f4748a70",
   "metadata": {},
   "source": [
    "参数：\n",
    "     \n",
    "     axis(int,可选):选择执行操作的轴"
   ]
  },
  {
   "cell_type": "code",
   "execution_count": 147,
   "id": "a3fbf567-e0ca-4a9d-a28e-dcc7e5fe4aa7",
   "metadata": {},
   "outputs": [
    {
     "data": {
      "text/plain": [
       "array([[1., 2.],\n",
       "       [3., 2.]])"
      ]
     },
     "execution_count": 147,
     "metadata": {},
     "output_type": "execute_result"
    }
   ],
   "source": [
    "np.nancumprod(a,axis=0)"
   ]
  },
  {
   "cell_type": "code",
   "execution_count": 148,
   "id": "717b15e8-03dd-47ec-9e40-a6a906d67b39",
   "metadata": {},
   "outputs": [
    {
     "data": {
      "text/plain": [
       "array([[1., 2.],\n",
       "       [3., 3.]])"
      ]
     },
     "execution_count": 148,
     "metadata": {},
     "output_type": "execute_result"
    }
   ],
   "source": [
    "np.nancumprod(a,axis=1)"
   ]
  },
  {
   "cell_type": "markdown",
   "id": "f98515eb-9f3d-48e2-a2d6-a328ab6c2412",
   "metadata": {},
   "source": [
    "### numpy.nancumsum(a,axis=None,dtype=None,out=None)"
   ]
  },
  {
   "cell_type": "markdown",
   "id": "fdfb815c-150d-4b67-a240-12b5184dfb4c",
   "metadata": {},
   "source": [
    "返回给定轴上数组元素的累积总和，将非数字 (NaN) 视为零。"
   ]
  },
  {
   "cell_type": "code",
   "execution_count": 149,
   "id": "532abac0-db73-4c89-b13d-9901dbf0825f",
   "metadata": {},
   "outputs": [
    {
     "data": {
      "text/plain": [
       "array([1., 1.])"
      ]
     },
     "execution_count": 149,
     "metadata": {},
     "output_type": "execute_result"
    }
   ],
   "source": [
    "import numpy as np\n",
    "\n",
    "np.nancumsum([1,np.nan])"
   ]
  },
  {
   "cell_type": "code",
   "execution_count": 150,
   "id": "b16adcb3-99bf-4ae0-b718-629012ec9078",
   "metadata": {},
   "outputs": [
    {
     "data": {
      "text/plain": [
       "array([1., 3., 6., 6.])"
      ]
     },
     "execution_count": 150,
     "metadata": {},
     "output_type": "execute_result"
    }
   ],
   "source": [
    "a = np.array([[1,2],[3,np.nan]])\n",
    "np.nancumsum(a)"
   ]
  },
  {
   "cell_type": "markdown",
   "id": "6ad27c79-49d7-43c9-9993-504b902afac7",
   "metadata": {},
   "source": [
    "参数：\n",
    "        \n",
    "        axis(int,可选):选择执行操作的轴"
   ]
  },
  {
   "cell_type": "code",
   "execution_count": 151,
   "id": "af712ee3-7752-444a-bc43-cbb64a61f179",
   "metadata": {},
   "outputs": [
    {
     "data": {
      "text/plain": [
       "array([[1., 2.],\n",
       "       [4., 2.]])"
      ]
     },
     "execution_count": 151,
     "metadata": {},
     "output_type": "execute_result"
    }
   ],
   "source": [
    "np.nancumsum(a,axis=0)"
   ]
  },
  {
   "cell_type": "code",
   "execution_count": 152,
   "id": "d28b7848-4edd-4fdf-909c-604fc96d9175",
   "metadata": {},
   "outputs": [
    {
     "data": {
      "text/plain": [
       "array([[1., 3.],\n",
       "       [3., 3.]])"
      ]
     },
     "execution_count": 152,
     "metadata": {},
     "output_type": "execute_result"
    }
   ],
   "source": [
    "np.nancumsum(a,axis=1)"
   ]
  },
  {
   "cell_type": "markdown",
   "id": "94df52b0-f548-46a1-80df-53b7730bf1e6",
   "metadata": {},
   "source": [
    "### numpy.diff(a,n=1,axis=-1,prepend,append)"
   ]
  },
  {
   "cell_type": "markdown",
   "id": "6ec4484d-1c5b-4811-a7f1-a3ae523f6374",
   "metadata": {},
   "source": [
    "计算沿给定轴的第n个离散差。"
   ]
  },
  {
   "cell_type": "code",
   "execution_count": 155,
   "id": "450a55c1-66f2-4f02-a21f-5991d15b4973",
   "metadata": {},
   "outputs": [
    {
     "data": {
      "text/plain": [
       "array([ 1,  2,  3, -7])"
      ]
     },
     "execution_count": 155,
     "metadata": {},
     "output_type": "execute_result"
    }
   ],
   "source": [
    "import numpy as np\n",
    "\n",
    "x = np.array([1, 2, 4, 7, 0])\n",
    "np.diff(x)"
   ]
  },
  {
   "cell_type": "markdown",
   "id": "a9889d02-1e41-47e0-a930-f8147a599ded",
   "metadata": {},
   "source": [
    "参数：\n",
    "\n",
    "     n(int,可选):连续执行的次数。如果为零，则按原样返回输入。"
   ]
  },
  {
   "cell_type": "code",
   "execution_count": 154,
   "id": "247a8318-643b-4408-9dc2-d9779f170869",
   "metadata": {},
   "outputs": [
    {
     "data": {
      "text/plain": [
       "array([1, 2, 4, 7, 0])"
      ]
     },
     "execution_count": 154,
     "metadata": {},
     "output_type": "execute_result"
    }
   ],
   "source": [
    "np.diff(x,n=0)"
   ]
  },
  {
   "cell_type": "code",
   "execution_count": 157,
   "id": "32335560-3c43-4872-a9ec-4fc0d62fb49e",
   "metadata": {},
   "outputs": [
    {
     "data": {
      "text/plain": [
       "array([ 1,  2,  3, -7])"
      ]
     },
     "execution_count": 157,
     "metadata": {},
     "output_type": "execute_result"
    }
   ],
   "source": [
    "np.diff(x,n=1)"
   ]
  },
  {
   "cell_type": "code",
   "execution_count": 158,
   "id": "30f74ce2-c5a2-4018-8d94-25596645c53f",
   "metadata": {},
   "outputs": [
    {
     "data": {
      "text/plain": [
       "array([  1,   1, -10])"
      ]
     },
     "execution_count": 158,
     "metadata": {},
     "output_type": "execute_result"
    }
   ],
   "source": [
    "np.diff(x,n=2)"
   ]
  },
  {
   "cell_type": "markdown",
   "id": "875df21a-767c-49a4-a012-31d137983f67",
   "metadata": {},
   "source": [
    "    axis(int,可选):执行操作的轴"
   ]
  },
  {
   "cell_type": "code",
   "execution_count": 159,
   "id": "aa899a0e-28d1-4265-a4f1-63b6f3945b8d",
   "metadata": {},
   "outputs": [
    {
     "data": {
      "text/plain": [
       "array([[2, 3, 4],\n",
       "       [5, 1, 2]])"
      ]
     },
     "execution_count": 159,
     "metadata": {},
     "output_type": "execute_result"
    }
   ],
   "source": [
    "import numpy as np\n",
    "\n",
    "x = np.array([[1,3,6,10],[0,5,6,8]])\n",
    "np.diff(x)"
   ]
  },
  {
   "cell_type": "code",
   "execution_count": 160,
   "id": "13032737-c992-4a42-80d9-5fb4733d51d1",
   "metadata": {},
   "outputs": [
    {
     "data": {
      "text/plain": [
       "array([[-1,  2,  0, -2]])"
      ]
     },
     "execution_count": 160,
     "metadata": {},
     "output_type": "execute_result"
    }
   ],
   "source": [
    "np.diff(x,axis=0)"
   ]
  },
  {
   "cell_type": "markdown",
   "id": "5d9e8fb5-3258-4f5a-9179-7e66203ee535",
   "metadata": {},
   "source": [
    "### numpy.ediff1d(ary,to_end=None,to_begin=None)"
   ]
  },
  {
   "cell_type": "markdown",
   "id": "c546f488-e0e5-4c8a-a93e-f5b3f1b49942",
   "metadata": {},
   "source": [
    "数组的连续元素之间的差异。"
   ]
  },
  {
   "cell_type": "code",
   "execution_count": 164,
   "id": "253a9320-d2ff-4908-b100-8d34bae0c665",
   "metadata": {},
   "outputs": [
    {
     "data": {
      "text/plain": [
       "array([ 1,  2,  3, -7])"
      ]
     },
     "execution_count": 164,
     "metadata": {},
     "output_type": "execute_result"
    }
   ],
   "source": [
    "import numpy as np\n",
    "\n",
    "x = np.array([1,2,4,7,0])\n",
    "np.ediff1d(x)"
   ]
  },
  {
   "cell_type": "markdown",
   "id": "9af7f561-aa82-4b2d-90b6-6a6c07c2b618",
   "metadata": {},
   "source": [
    "和numpy.diff的区别在于返回值总是一维向量"
   ]
  },
  {
   "cell_type": "code",
   "execution_count": 165,
   "id": "db8e4fd6-cd5d-4db1-8e0d-0d39375597c6",
   "metadata": {},
   "outputs": [
    {
     "data": {
      "text/plain": [
       "array([ 1,  2, -3,  5, 18])"
      ]
     },
     "execution_count": 165,
     "metadata": {},
     "output_type": "execute_result"
    }
   ],
   "source": [
    "y = [[1,2,4],[1,6,24]]\n",
    "np.ediff1d(y)"
   ]
  },
  {
   "cell_type": "code",
   "execution_count": 166,
   "id": "28377bed-b2e0-4375-a1c8-632b43479aa7",
   "metadata": {},
   "outputs": [
    {
     "data": {
      "text/plain": [
       "array([[ 1,  2],\n",
       "       [ 5, 18]])"
      ]
     },
     "execution_count": 166,
     "metadata": {},
     "output_type": "execute_result"
    }
   ],
   "source": [
    "np.diff(y)"
   ]
  },
  {
   "cell_type": "markdown",
   "id": "f857ba97-ce8b-4a9c-b450-b42bec4350bb",
   "metadata": {},
   "source": [
    "参数：\n",
    "\n",
    "    to_end(数组,可选):结束值\n",
    "    to_begin(数组,可选):开始值\n",
    "    \n",
    "当应用于掩码数组时，如果使用 to_begin 和/或 to_end 参数，此函数将删除掩码信息。"
   ]
  },
  {
   "cell_type": "code",
   "execution_count": 167,
   "id": "31a4d4a2-63b3-4189-b81e-e63606267e22",
   "metadata": {},
   "outputs": [
    {
     "data": {
      "text/plain": [
       "array([-99,   1,   2,   3,  -7,  88,  99])"
      ]
     },
     "execution_count": 167,
     "metadata": {},
     "output_type": "execute_result"
    }
   ],
   "source": [
    "np.ediff1d(x,to_begin=-99,to_end=np.array([88,99]))"
   ]
  },
  {
   "cell_type": "code",
   "execution_count": 169,
   "id": "9344b79b-aa47-4e98-a4ce-1312f9561f1a",
   "metadata": {},
   "outputs": [
    {
     "data": {
      "text/plain": [
       "array([ 1,  2,  3, -7])"
      ]
     },
     "execution_count": 169,
     "metadata": {},
     "output_type": "execute_result"
    }
   ],
   "source": [
    "np.ediff1d(x)"
   ]
  },
  {
   "cell_type": "markdown",
   "id": "09f88a81-676e-4655-85d6-faeee5b12278",
   "metadata": {},
   "source": [
    "### numpy.gradient(f,varargs,axis=None,edge_order=1)"
   ]
  },
  {
   "cell_type": "markdown",
   "id": "d4aaa239-deef-4e4d-a60c-cacf9b05699a",
   "metadata": {},
   "source": [
    "返回N维数组的梯度。\n",
    "\n",
    "梯度是使用内部点的二阶精确中心差异和边界处的一阶或二阶精确一侧（向前或向后）差异来计算的。\n",
    "\n",
    "因此，返回的梯度与输入数组具有相同的形状。"
   ]
  },
  {
   "cell_type": "code",
   "execution_count": 176,
   "id": "af82deaa-60b2-4d74-b16d-194320c96979",
   "metadata": {},
   "outputs": [
    {
     "data": {
      "text/plain": [
       "array([1. , 1.5, 2.5, 3.5, 4.5, 5. ])"
      ]
     },
     "execution_count": 176,
     "metadata": {},
     "output_type": "execute_result"
    }
   ],
   "source": [
    "import numpy as np\n",
    "\n",
    "f = np.array([1,2,4,7,11,16],dtype=float)\n",
    "np.gradient(f)\n",
    "\n",
    "#  arrgrad[0]=(2-1)/1=1\n",
    "#  arrgrad[1]=(4-1)/2=1.5\n",
    "#  arrgrad[2]=(7-2)/2=2.5\n",
    "#  ...\n",
    "#  arrgrad[5]=(16-11)/1=5"
   ]
  },
  {
   "cell_type": "markdown",
   "id": "43277557-e06a-45fc-be9e-6d4edc3be98d",
   "metadata": {},
   "source": [
    "参数：\n",
    "\n",
    "     varargs()f 值之间的间距。所有尺寸的默认统一间距。"
   ]
  },
  {
   "cell_type": "code",
   "execution_count": 171,
   "id": "a6ee0756-2db5-4d3f-9321-843526d60d2c",
   "metadata": {},
   "outputs": [
    {
     "data": {
      "text/plain": [
       "array([0.5 , 0.75, 1.25, 1.75, 2.25, 2.5 ])"
      ]
     },
     "execution_count": 171,
     "metadata": {},
     "output_type": "execute_result"
    }
   ],
   "source": [
    "np.gradient(f,2)"
   ]
  },
  {
   "cell_type": "markdown",
   "id": "d5282f09-8d20-4420-80f3-a301fb9ed3a9",
   "metadata": {},
   "source": [
    "均匀距离"
   ]
  },
  {
   "cell_type": "code",
   "execution_count": 172,
   "id": "4cd0c259-d832-4d08-afc6-fff5ce4f454c",
   "metadata": {},
   "outputs": [
    {
     "data": {
      "text/plain": [
       "array([1. , 1.5, 2.5, 3.5, 4.5, 5. ])"
      ]
     },
     "execution_count": 172,
     "metadata": {},
     "output_type": "execute_result"
    }
   ],
   "source": [
    "x = np.arange(f.size)\n",
    "np.gradient(f,x)"
   ]
  },
  {
   "cell_type": "markdown",
   "id": "29491b47-112d-4df7-ad4b-987b562cc4e3",
   "metadata": {},
   "source": [
    "非均匀距离"
   ]
  },
  {
   "cell_type": "code",
   "execution_count": 174,
   "id": "5d7051c2-14c0-4b50-b19a-a7eef4e1ffa4",
   "metadata": {},
   "outputs": [
    {
     "data": {
      "text/plain": [
       "array([1. , 3. , 3.5, 6.7, 6.9, 2.5])"
      ]
     },
     "execution_count": 174,
     "metadata": {},
     "output_type": "execute_result"
    }
   ],
   "source": [
    "f = np.array([1,2,4,7,11,16],dtype=float)\n",
    "x = np.array([0.,1.,1.5,3.5,4.,6.],dtype=float)\n",
    "\n",
    "np.gradient(f,x)"
   ]
  },
  {
   "cell_type": "markdown",
   "id": "c65dcad7-b51f-45e6-b4c7-df2da26bacd6",
   "metadata": {},
   "source": [
    "对于二维数组，返回将是按轴排序的两个数组。\n",
    "\n",
    "在以下例子中，第一个数组代表行方向的梯度，第二个代表列方向的梯度："
   ]
  },
  {
   "cell_type": "code",
   "execution_count": 175,
   "id": "fd4370dc-3796-4ceb-bfb3-0aa4cc867477",
   "metadata": {},
   "outputs": [
    {
     "data": {
      "text/plain": [
       "[array([[ 2.,  2., -1.],\n",
       "        [ 2.,  2., -1.]]),\n",
       " array([[1. , 2.5, 4. ],\n",
       "        [1. , 1. , 1. ]])]"
      ]
     },
     "execution_count": 175,
     "metadata": {},
     "output_type": "execute_result"
    }
   ],
   "source": [
    "np.gradient(np.array([[1, 2, 6], [3, 4, 5]], dtype=float))\n",
    "\n",
    "# 2=(3-1)/1  2=(4-2)/1 -1=(5-6)/1\n",
    "# 2=(3-1)/1  2=(4-2)/1 -1=(5-6)/1\n",
    "\n",
    "# 1=(2-1)/1  2.5=(6-1)/2 4=(6-2)/1\n",
    "# 1=(4-3)/1  1=(5-3)/2  1=(5-4)/1"
   ]
  },
  {
   "cell_type": "markdown",
   "id": "73e8aa8d-82e1-47cb-90d7-917016c90004",
   "metadata": {},
   "source": [
    "     axis(int or trple of int,可选):选择执行操作的轴"
   ]
  },
  {
   "cell_type": "code",
   "execution_count": 178,
   "id": "ccd9266f-2b52-41a2-872c-ede11c11ae37",
   "metadata": {},
   "outputs": [
    {
     "data": {
      "text/plain": [
       "array([[ 2.,  2., -1.],\n",
       "       [ 2.,  2., -1.]])"
      ]
     },
     "execution_count": 178,
     "metadata": {},
     "output_type": "execute_result"
    }
   ],
   "source": [
    "np.gradient(np.array([[1, 2, 6], [3, 4, 5]], dtype=float), axis=0)"
   ]
  },
  {
   "cell_type": "markdown",
   "id": "3ae5963d-ed07-4f47-9789-db6506705128",
   "metadata": {},
   "source": [
    "    edge_order(1or2,可选):梯度是使用边界处的N阶精确差异计算的。"
   ]
  },
  {
   "cell_type": "code",
   "execution_count": 183,
   "id": "14179d53-7432-4f48-b9f4-73eb3b21d9c5",
   "metadata": {},
   "outputs": [
    {
     "data": {
      "text/plain": [
       "array([1., 2., 4., 6., 7.])"
      ]
     },
     "execution_count": 183,
     "metadata": {},
     "output_type": "execute_result"
    }
   ],
   "source": [
    "x = np.array([0, 1, 2, 3, 4])\n",
    "f = x**2\n",
    "np.gradient(f, edge_order=1)"
   ]
  },
  {
   "cell_type": "code",
   "execution_count": 184,
   "id": "740d2916-4b5a-46af-9eea-00b9d738006d",
   "metadata": {},
   "outputs": [
    {
     "data": {
      "text/plain": [
       "array([0., 2., 4., 6., 8.])"
      ]
     },
     "execution_count": 184,
     "metadata": {},
     "output_type": "execute_result"
    }
   ],
   "source": [
    "np.gradient(f, edge_order=2)"
   ]
  },
  {
   "cell_type": "markdown",
   "id": "78257e5e-41cf-483b-9979-e41032ed9e55",
   "metadata": {},
   "source": [
    "### numpy.cross(a,b,axisa=-1,axisb=-1,axisc=-1,axis=None)"
   ]
  },
  {
   "cell_type": "markdown",
   "id": "c7c053e5-8dfc-464a-987a-fe8b7e101bf8",
   "metadata": {},
   "source": [
    "返回两个（数组）向量的叉积。\n",
    "\n",
    "a x b =||a|| x ||b|| x sin(A)"
   ]
  },
  {
   "cell_type": "code",
   "execution_count": 185,
   "id": "3ec22897-5284-433a-979c-98aba539bf6f",
   "metadata": {},
   "outputs": [
    {
     "data": {
      "text/plain": [
       "array([-3,  6, -3])"
      ]
     },
     "execution_count": 185,
     "metadata": {},
     "output_type": "execute_result"
    }
   ],
   "source": [
    "import numpy as np\n",
    "\n",
    "x = [1,2,3]\n",
    "y = [4,5,6]\n",
    "np.cross(x,y)"
   ]
  },
  {
   "cell_type": "code",
   "execution_count": 186,
   "id": "933b5f6d-2220-487d-9491-08c049fe0e17",
   "metadata": {},
   "outputs": [
    {
     "data": {
      "text/plain": [
       "array([12, -6, -3])"
      ]
     },
     "execution_count": 186,
     "metadata": {},
     "output_type": "execute_result"
    }
   ],
   "source": [
    "x = [1, 2]  #  == [1,2,0]\n",
    "y = [4, 5, 6]\n",
    "np.cross(x, y)"
   ]
  },
  {
   "cell_type": "code",
   "execution_count": 187,
   "id": "00713335-b526-4785-b048-97e64b330d94",
   "metadata": {},
   "outputs": [
    {
     "data": {
      "text/plain": [
       "array(-3)"
      ]
     },
     "execution_count": 187,
     "metadata": {},
     "output_type": "execute_result"
    }
   ],
   "source": [
    "x = [1,2]\n",
    "y = [4,5]\n",
    "np.cross(x, y)"
   ]
  },
  {
   "cell_type": "markdown",
   "id": "0bd69325-addb-4d01-b694-da5a4fed7b35",
   "metadata": {},
   "source": [
    "多向量叉积。请注意，叉积向量的方向由右手法则定义。"
   ]
  },
  {
   "cell_type": "code",
   "execution_count": 188,
   "id": "5fdfc53c-b192-4d03-be61-b72acc72c217",
   "metadata": {},
   "outputs": [
    {
     "data": {
      "text/plain": [
       "array([[-3,  6, -3],\n",
       "       [ 3, -6,  3]])"
      ]
     },
     "execution_count": 188,
     "metadata": {},
     "output_type": "execute_result"
    }
   ],
   "source": [
    "x = np.array([[1,2,3], [4,5,6]])\n",
    "y = np.array([[4,5,6], [1,2,3]])\n",
    "np.cross(x, y)"
   ]
  },
  {
   "cell_type": "markdown",
   "id": "26e53c84-b0bc-4cac-b385-15959f431b40",
   "metadata": {},
   "source": [
    "    axisc(int 可选):更改c的方向。"
   ]
  },
  {
   "cell_type": "code",
   "execution_count": 190,
   "id": "68c86030-9ed2-4b87-af04-0b1ecc93d9b6",
   "metadata": {},
   "outputs": [
    {
     "data": {
      "text/plain": [
       "array([[-3,  3],\n",
       "       [ 6, -6],\n",
       "       [-3,  3]])"
      ]
     },
     "execution_count": 190,
     "metadata": {},
     "output_type": "execute_result"
    }
   ],
   "source": [
    "np.cross(x, y, axisc=0)"
   ]
  },
  {
   "cell_type": "markdown",
   "id": "10302332-e3ce-4dee-b93b-416b233e6b23",
   "metadata": {},
   "source": [
    "     axisa,axisb(int,可选):定义向量的轴"
   ]
  },
  {
   "cell_type": "code",
   "execution_count": 191,
   "id": "723cc18b-f6dd-443b-9126-e1594cdc7502",
   "metadata": {},
   "outputs": [
    {
     "data": {
      "text/plain": [
       "array([[ -6,  12,  -6],\n",
       "       [  0,   0,   0],\n",
       "       [  6, -12,   6]])"
      ]
     },
     "execution_count": 191,
     "metadata": {},
     "output_type": "execute_result"
    }
   ],
   "source": [
    "x = np.array([[1,2,3], [4,5,6], [7, 8, 9]])\n",
    "y = np.array([[7, 8, 9], [4,5,6], [1,2,3]])\n",
    "np.cross(x,y)"
   ]
  },
  {
   "cell_type": "code",
   "execution_count": 192,
   "id": "c55af396-e930-4960-b4b1-d0d7ba2cda8a",
   "metadata": {},
   "outputs": [
    {
     "data": {
      "text/plain": [
       "array([[-24,  48, -24],\n",
       "       [-30,  60, -30],\n",
       "       [-36,  72, -36]])"
      ]
     },
     "execution_count": 192,
     "metadata": {},
     "output_type": "execute_result"
    }
   ],
   "source": [
    "np.cross(x,y,axisa=0,axisb=0)"
   ]
  },
  {
   "cell_type": "markdown",
   "id": "90920383-a2e4-469a-bfe2-d31cc1399fb1",
   "metadata": {},
   "source": [
    "### numpy.trapz(y,x=None,dx=1.0,axis=-1)"
   ]
  },
  {
   "cell_type": "markdown",
   "id": "6d02cd93-84ab-4348-858f-9c216aa23585",
   "metadata": {},
   "source": [
    "使用复合梯形规则沿给定轴积分。"
   ]
  },
  {
   "cell_type": "code",
   "execution_count": 193,
   "id": "3a64c8b9-9e53-4d08-a3ae-7b6aeed9a653",
   "metadata": {},
   "outputs": [
    {
     "data": {
      "text/plain": [
       "4.0"
      ]
     },
     "execution_count": 193,
     "metadata": {},
     "output_type": "execute_result"
    }
   ],
   "source": [
    "import numpy as np\n",
    "\n",
    "np.trapz([1,2,3])"
   ]
  },
  {
   "cell_type": "markdown",
   "id": "466d1c89-5648-4dff-bd34-4eedfe2e06fa",
   "metadata": {},
   "source": [
    "参数：\n",
    "\n",
    "        x(可选)：y值对应的样本点。如果x为None,则假定样本点均匀间隔 dx"
   ]
  },
  {
   "cell_type": "code",
   "execution_count": 194,
   "id": "a6d40ece-50c1-45ba-9959-3002fe6b2bcc",
   "metadata": {},
   "outputs": [
    {
     "data": {
      "text/plain": [
       "8.0"
      ]
     },
     "execution_count": 194,
     "metadata": {},
     "output_type": "execute_result"
    }
   ],
   "source": [
    "np.trapz([1,2,3], x=[4,6,8])"
   ]
  },
  {
   "cell_type": "code",
   "execution_count": 195,
   "id": "7e2ed0a7-3836-49ef-a1b1-c537f6843964",
   "metadata": {},
   "outputs": [
    {
     "data": {
      "text/plain": [
       "-8.0"
      ]
     },
     "execution_count": 195,
     "metadata": {},
     "output_type": "execute_result"
    }
   ],
   "source": [
    "np.trapz([1,2,3], x=[8,6,4])            #使用递减的 x 对应于反向积分："
   ]
  },
  {
   "cell_type": "markdown",
   "id": "5abbebdd-7c78-4fa7-b6cb-f61a288b65d8",
   "metadata": {},
   "source": [
    "        dx(可选):x 为 None 时采样点之间的间距。"
   ]
  },
  {
   "cell_type": "code",
   "execution_count": 196,
   "id": "affe00d1-0383-457c-b564-790a7d9c84c0",
   "metadata": {},
   "outputs": [
    {
     "data": {
      "text/plain": [
       "8.0"
      ]
     },
     "execution_count": 196,
     "metadata": {},
     "output_type": "execute_result"
    }
   ],
   "source": [
    "np.trapz([1,2,3], dx=2)"
   ]
  },
  {
   "cell_type": "markdown",
   "id": "6c2daabb-a358-4055-b886-228b45e9b727",
   "metadata": {},
   "source": [
    "       axis(int,可选):执行操作的轴"
   ]
  },
  {
   "cell_type": "code",
   "execution_count": 197,
   "id": "34beac96-d2bd-44d5-a9ee-78218f773713",
   "metadata": {},
   "outputs": [
    {
     "data": {
      "text/plain": [
       "array([[0, 1, 2],\n",
       "       [3, 4, 5]])"
      ]
     },
     "execution_count": 197,
     "metadata": {},
     "output_type": "execute_result"
    }
   ],
   "source": [
    "a = np.arange(6).reshape(2,3)\n",
    "a"
   ]
  },
  {
   "cell_type": "code",
   "execution_count": 198,
   "id": "508cac3f-696e-403f-bce1-c4759c0ff8c8",
   "metadata": {},
   "outputs": [
    {
     "data": {
      "text/plain": [
       "array([1.5, 2.5, 3.5])"
      ]
     },
     "execution_count": 198,
     "metadata": {},
     "output_type": "execute_result"
    }
   ],
   "source": [
    "np.trapz(a,axis=0)"
   ]
  },
  {
   "cell_type": "code",
   "execution_count": 199,
   "id": "afba29c2-1d8c-41f3-8169-cbae212efc5b",
   "metadata": {},
   "outputs": [
    {
     "data": {
      "text/plain": [
       "array([2., 8.])"
      ]
     },
     "execution_count": 199,
     "metadata": {},
     "output_type": "execute_result"
    }
   ],
   "source": [
    "np.trapz(a,axis=1)"
   ]
  },
  {
   "cell_type": "markdown",
   "id": "633875d9-4d59-40b7-967f-c052727d14bc",
   "metadata": {},
   "source": [
    "### numpy.exp(x,out=None,where=True,casting='same_kind',order='K',dtype=None,subok=True.)"
   ]
  },
  {
   "cell_type": "markdown",
   "id": "ccabdb31-a7eb-4907-a83c-4e704b745f79",
   "metadata": {},
   "source": [
    "计算输入数组中所有元素的指数。"
   ]
  },
  {
   "cell_type": "code",
   "execution_count": 200,
   "id": "cdfafddf-d6d7-417c-9636-9e0bb5cbf6f9",
   "metadata": {},
   "outputs": [
    {
     "name": "stdout",
     "output_type": "stream",
     "text": [
      "Input array :  [1, 3, 5]\n",
      "Output array :  [  2.71828183  20.08553692 148.4131591 ]\n"
     ]
    }
   ],
   "source": [
    "import numpy as np\n",
    "  \n",
    "in_array = [1, 3, 5]\n",
    "print (\"Input array : \", in_array)\n",
    "  \n",
    "out_array = np.exp(in_array)\n",
    "print (\"Output array : \", out_array)"
   ]
  },
  {
   "cell_type": "code",
   "execution_count": 203,
   "id": "bb1747a0-2b91-4e06-90e8-3fcd95d57b27",
   "metadata": {},
   "outputs": [
    {
     "data": {
      "image/png": "[encoded data removed]",
      "text/plain": [
       "<Figure size 432x288 with 1 Axes>"
      ]
     },
     "metadata": {
      "needs_background": "light"
     },
     "output_type": "display_data"
    }
   ],
   "source": [
    "import numpy as np\n",
    "import matplotlib.pyplot as plt\n",
    "  \n",
    "in_array = [1, 1.2, 1.4, 1.6, 1.8, 2]\n",
    "out_array = np.exp(in_array)\n",
    "  \n",
    "# red for numpy.exp()\n",
    "plt.plot(out_array, y, color = 'red', marker = \"o\")\n",
    "plt.title(\"numpy.exp()\")\n",
    "plt.xlabel(\"X\")\n",
    "plt.show()  "
   ]
  },
  {
   "cell_type": "markdown",
   "id": "0f7c327c-59c9-4f1b-83a9-d269670a738e",
   "metadata": {},
   "source": [
    "### numpy.exm1(x,out=None,where=True,casting='same_kind',order='K',dtype=None,subok=True)"
   ]
  },
  {
   "cell_type": "markdown",
   "id": "473b1f54-0315-4238-a25f-1def2c9152d2",
   "metadata": {},
   "source": [
    "为数组中的所有元素计算 $e^x-1$,但实际运算得到的结果不同"
   ]
  },
  {
   "cell_type": "code",
   "execution_count": 204,
   "id": "71f537c3-be80-48b8-9e6a-12ea33b8d24c",
   "metadata": {},
   "outputs": [
    {
     "data": {
      "text/plain": [
       "1.00000000005e-10"
      ]
     },
     "execution_count": 204,
     "metadata": {},
     "output_type": "execute_result"
    }
   ],
   "source": [
    "import numpy as np\n",
    "\n",
    "np.expm1(1e-10)"
   ]
  },
  {
   "cell_type": "code",
   "execution_count": 205,
   "id": "52ea9351-60b3-4ccb-b14f-968bbfb21347",
   "metadata": {},
   "outputs": [
    {
     "data": {
      "text/plain": [
       "1.000000082740371e-10"
      ]
     },
     "execution_count": 205,
     "metadata": {},
     "output_type": "execute_result"
    }
   ],
   "source": [
    "np.exp(1e-10)-1"
   ]
  },
  {
   "cell_type": "markdown",
   "id": "2f78bbad-4911-41a5-91cc-9cf138187539",
   "metadata": {},
   "source": [
    "### numpy.exp2(x,out=None,where=True,casting='same_kind'order='K'.dtype=None,subok=True"
   ]
  },
  {
   "cell_type": "markdown",
   "id": "b0cc1b8b-221e-41b0-a7d4-692872b7ef2d",
   "metadata": {},
   "source": [
    "元素2的x次方"
   ]
  },
  {
   "cell_type": "code",
   "execution_count": 207,
   "id": "1c4a5d90-d324-48b4-be1c-7d0e43e3faaf",
   "metadata": {},
   "outputs": [
    {
     "data": {
      "text/plain": [
       "array([4., 8.])"
      ]
     },
     "execution_count": 207,
     "metadata": {},
     "output_type": "execute_result"
    }
   ],
   "source": [
    "import numpy as np\n",
    "np.exp2([2,3])"
   ]
  },
  {
   "cell_type": "markdown",
   "id": "c1e3c745-2f82-4be3-9794-8c030bec83b7",
   "metadata": {},
   "source": [
    "### numpy.log(x,out=None,where=True,casting='same_kind',order='K',dtype=None,subok=True)"
   ]
  },
  {
   "cell_type": "markdown",
   "id": "84efd45b-0ec3-4166-b08a-ad0af5bb5490",
   "metadata": {},
   "source": [
    "自然对数，自然对数 log 是指数函数的倒数，因此 log(exp(x)) = x。\n",
    "\n",
    "自然对数是以 e 为底的对数。"
   ]
  },
  {
   "cell_type": "code",
   "execution_count": 209,
   "id": "48a4bb18-c820-4d02-9c6a-d836ab7ed51a",
   "metadata": {},
   "outputs": [
    {
     "name": "stderr",
     "output_type": "stream",
     "text": [
      "D:\\Anaconda3\\envs\\xuexi\\lib\\site-packages\\ipykernel_launcher.py:3: RuntimeWarning: divide by zero encountered in log\n",
      "  This is separate from the ipykernel package so we can avoid doing imports until\n"
     ]
    },
    {
     "data": {
      "text/plain": [
       "array([  0.,   1.,   2., -inf])"
      ]
     },
     "execution_count": 209,
     "metadata": {},
     "output_type": "execute_result"
    }
   ],
   "source": [
    "import numpy as np\n",
    "\n",
    "np.log([1,np.e,np.e**2,0])"
   ]
  },
  {
   "cell_type": "markdown",
   "id": "87ba69bb-ab34-4db4-9fb0-753e8a54931d",
   "metadata": {},
   "source": [
    "### numpy.log10(x,out=None,where=True,casting='same_kind',order='K',dtype=None,subok=True"
   ]
  },
  {
   "cell_type": "markdown",
   "id": "a000d1d4-bf1c-4b89-9336-af5e4d28b451",
   "metadata": {},
   "source": [
    "按元素返回输入数组的以 10 为底的对数。"
   ]
  },
  {
   "cell_type": "code",
   "execution_count": 211,
   "id": "f777abc6-30b4-4245-922b-a65ac1323f47",
   "metadata": {},
   "outputs": [
    {
     "name": "stderr",
     "output_type": "stream",
     "text": [
      "D:\\Anaconda3\\envs\\xuexi\\lib\\site-packages\\ipykernel_launcher.py:3: RuntimeWarning: invalid value encountered in log10\n",
      "  This is separate from the ipykernel package so we can avoid doing imports until\n"
     ]
    },
    {
     "data": {
      "text/plain": [
       "array([-15.,  nan])"
      ]
     },
     "execution_count": 211,
     "metadata": {},
     "output_type": "execute_result"
    }
   ],
   "source": [
    "import numpy as np\n",
    "\n",
    "np.log10([1e-15,-3.])"
   ]
  },
  {
   "cell_type": "markdown",
   "id": "0ac1cab2-182e-4e46-bf69-3006192a3c61",
   "metadata": {},
   "source": [
    "### numpy.log2(x,out=None,where=True,casting='same_kind',order='K',dtype=None,subuk=True)"
   ]
  },
  {
   "cell_type": "markdown",
   "id": "9c0bc382-8e7e-4b30-8694-4489dd0d155f",
   "metadata": {},
   "source": [
    "按元素返回输入数组的以2为底的对数。"
   ]
  },
  {
   "cell_type": "code",
   "execution_count": 212,
   "id": "c2b75ee2-86e2-4b2a-b2e8-39c2c7b7ac75",
   "metadata": {},
   "outputs": [
    {
     "name": "stderr",
     "output_type": "stream",
     "text": [
      "D:\\Anaconda3\\envs\\xuexi\\lib\\site-packages\\ipykernel_launcher.py:4: RuntimeWarning: divide by zero encountered in log2\n",
      "  after removing the cwd from sys.path.\n"
     ]
    },
    {
     "data": {
      "text/plain": [
       "array([-inf,   0.,   1.,   4.])"
      ]
     },
     "execution_count": 212,
     "metadata": {},
     "output_type": "execute_result"
    }
   ],
   "source": [
    "import numpy as np \n",
    "\n",
    "x = np.array([0,1,2,2**4])\n",
    "np.log2(x)"
   ]
  },
  {
   "cell_type": "markdown",
   "id": "61e59c06-9bfa-403c-9adf-aef8012f4b2d",
   "metadata": {},
   "source": [
    "### numpy.log1p(x,out=None,where=True,casting='same_kind',order='K',dtype=None,subok=True)"
   ]
  },
  {
   "cell_type": "markdown",
   "id": "bc7d3c1d-7fc2-44bb-a205-bc6bca039c50",
   "metadata": {},
   "source": [
    "按元素返回一加输入数组的自然对数。计算：log(1+x),(但两者在特殊情况下不同)"
   ]
  },
  {
   "cell_type": "code",
   "execution_count": 214,
   "id": "95c2ecb9-dae1-4867-acf7-403f1f1e2cf3",
   "metadata": {},
   "outputs": [
    {
     "data": {
      "text/plain": [
       "1e-99"
      ]
     },
     "execution_count": 214,
     "metadata": {},
     "output_type": "execute_result"
    }
   ],
   "source": [
    "import numpy as np\n",
    "\n",
    "np.log1p(1e-99)"
   ]
  },
  {
   "cell_type": "code",
   "execution_count": 215,
   "id": "97153704-00db-40f1-941e-b89b9ed0ccd3",
   "metadata": {},
   "outputs": [
    {
     "data": {
      "text/plain": [
       "0.0"
      ]
     },
     "execution_count": 215,
     "metadata": {},
     "output_type": "execute_result"
    }
   ],
   "source": [
    "np.log(1+1e-99)"
   ]
  },
  {
   "cell_type": "markdown",
   "id": "6b7a4493-2e1f-4be5-bc9d-33b844439fad",
   "metadata": {},
   "source": [
    "### numpy.logaddexp(x1,x2,out=None,where=True,casting='same_kind',order='K',dtype=None,subok=True)"
   ]
  },
  {
   "cell_type": "markdown",
   "id": "c79ef89e-20d0-4493-be68-6ce87d2acb55",
   "metadata": {},
   "source": [
    "输入的指数总和的对数。计算：log(exp(x1) + exp(x2))\n",
    "\n",
    "特别注意x1和x2的形状最好一样，不然程序会进行启动广播机制。"
   ]
  },
  {
   "cell_type": "code",
   "execution_count": 216,
   "id": "fc468b94-6c35-48a8-abfd-43317b068ff4",
   "metadata": {},
   "outputs": [
    {
     "data": {
      "text/plain": [
       "-113.87649168120691"
      ]
     },
     "execution_count": 216,
     "metadata": {},
     "output_type": "execute_result"
    }
   ],
   "source": [
    "import numpy as np\n",
    "\n",
    "prob1 = np.log(1e-50)\n",
    "prob2 = np.log(2.5e-50)\n",
    "prob12 = np.logaddexp(prob1,prob2)\n",
    "prob12"
   ]
  },
  {
   "cell_type": "code",
   "execution_count": 217,
   "id": "1df76cf0-d0da-4816-9143-b0c8a059eddc",
   "metadata": {},
   "outputs": [
    {
     "data": {
      "text/plain": [
       "3.5000000000000057e-50"
      ]
     },
     "execution_count": 217,
     "metadata": {},
     "output_type": "execute_result"
    }
   ],
   "source": [
    "np.exp(prob12)"
   ]
  },
  {
   "cell_type": "markdown",
   "id": "f8026787-e6d1-4039-b5d5-392a9b069ad2",
   "metadata": {},
   "source": [
    "### numpy.logaddexp2(x1,x2,out=None,where=True,casting='same_kind',order='K',dtype=None,subok=True)"
   ]
  },
  {
   "cell_type": "markdown",
   "id": "3c9e12b3-1eb7-4b98-9181-b173e3b3b797",
   "metadata": {},
   "source": [
    "以2为底的输入的指数总和的对数。计算:$log_2(2^{x1} + 2^{x2})$\n",
    "\n",
    "特别注意x1和x2的形状最好一样，不然程序会进行启动广播机制。"
   ]
  },
  {
   "cell_type": "code",
   "execution_count": 222,
   "id": "dca64966-a562-4ea3-a17f-5e5d9e395097",
   "metadata": {},
   "outputs": [
    {
     "data": {
      "text/plain": [
       "-164.53812413314137"
      ]
     },
     "execution_count": 222,
     "metadata": {},
     "output_type": "execute_result"
    }
   ],
   "source": [
    "import numpy as np\n",
    "\n",
    "prob1 = np.log2(1e-50)\n",
    "prob2 = np.log2(2.5e-50)\n",
    "prob12 = np.logaddexp(prob1,prob2)\n",
    "\n",
    "prob12"
   ]
  },
  {
   "cell_type": "code",
   "execution_count": 223,
   "id": "b03b5ae2-8e98-49f0-b140-1ba4fdc99886",
   "metadata": {},
   "outputs": [
    {
     "data": {
      "text/plain": [
       "2.9450264906577227e-50"
      ]
     },
     "execution_count": 223,
     "metadata": {},
     "output_type": "execute_result"
    }
   ],
   "source": [
    "2**prob12"
   ]
  },
  {
   "cell_type": "markdown",
   "id": "056c61d8-c852-498d-bd58-e2c66fbfb674",
   "metadata": {},
   "source": [
    "### numpy i0(x)"
   ]
  },
  {
   "cell_type": "markdown",
   "id": "b54afa8a-756d-426e-8bd5-8f1395c51366",
   "metadata": {},
   "source": [
    "第一类修正贝塞尔函数，阶0。但是建议在此函数上使用 scipy 实现"
   ]
  },
  {
   "cell_type": "code",
   "execution_count": 224,
   "id": "c6f2cad4-ff1d-4abe-9d78-5867b8ed4e2c",
   "metadata": {},
   "outputs": [
    {
     "data": {
      "text/plain": [
       "array(1.)"
      ]
     },
     "execution_count": 224,
     "metadata": {},
     "output_type": "execute_result"
    }
   ],
   "source": [
    "import numpy as np\n",
    "\n",
    "np.i0(0.)"
   ]
  },
  {
   "cell_type": "code",
   "execution_count": 225,
   "id": "95abb063-d4a9-4739-a4db-08bb8fb0b01f",
   "metadata": {},
   "outputs": [
    {
     "data": {
      "text/plain": [
       "array([1.        , 1.26606588, 2.2795853 , 4.88079259])"
      ]
     },
     "execution_count": 225,
     "metadata": {},
     "output_type": "execute_result"
    }
   ],
   "source": [
    "np.i0([0,1,2,3])"
   ]
  },
  {
   "cell_type": "markdown",
   "id": "655ba90c-f058-4b52-9aaa-db6fedc3fe23",
   "metadata": {},
   "source": [
    "### numpy.sic(x)"
   ]
  },
  {
   "cell_type": "markdown",
   "id": "de7158f5-7972-476a-b37c-05b5d3d25f5d",
   "metadata": {},
   "source": [
    "返回归一化的 sinc 函数。\n",
    "\n",
    "$$sinc(x)=\\frac{sin(\\pi x)}{(\\pi x)}$$"
   ]
  },
  {
   "cell_type": "code",
   "execution_count": 226,
   "id": "4a9234a3-3ca6-4365-b23b-66fa2807a799",
   "metadata": {},
   "outputs": [
    {
     "data": {
      "text/plain": [
       "<function matplotlib.pyplot.show(close=None, block=None)>"
      ]
     },
     "execution_count": 226,
     "metadata": {},
     "output_type": "execute_result"
    },
    {
     "data": {
      "image/png": "[encoded data removed]",
      "text/plain": [
       "<Figure size 432x288 with 1 Axes>"
      ]
     },
     "metadata": {
      "needs_background": "light"
     },
     "output_type": "display_data"
    }
   ],
   "source": [
    "import matplotlib.pyplot as plt\n",
    "import numpy as np\n",
    "\n",
    "x = np.linspace(-4,4,41)\n",
    "np.sinc(x)\n",
    "\n",
    "plt.plot(x, np.sinc(x))\n",
    "plt.title(\"Sinc Function\")\n",
    "plt.ylabel(\"Amplitude\")\n",
    "plt.xlabel(\"X\")\n",
    "plt.show"
   ]
  },
  {
   "cell_type": "markdown",
   "id": "1b422972-9dd4-4ef0-9007-cb671e006935",
   "metadata": {},
   "source": [
    "### numpy.signbit(x,out=None,where=True,casting='same_kind',order='K',dtype=None,subok=True)"
   ]
  },
  {
   "cell_type": "markdown",
   "id": "b8ded42c-d525-4d31-bce2-18c757a57792",
   "metadata": {},
   "source": [
    "在设置了符号位（小于零）的情况下返回逐元素 True。"
   ]
  },
  {
   "cell_type": "code",
   "execution_count": 227,
   "id": "06ae50bb-a982-42f3-947d-f284029ecacd",
   "metadata": {},
   "outputs": [
    {
     "data": {
      "text/plain": [
       "True"
      ]
     },
     "execution_count": 227,
     "metadata": {},
     "output_type": "execute_result"
    }
   ],
   "source": [
    "import numpy as np\n",
    "\n",
    "np.signbit(-1.2)"
   ]
  },
  {
   "cell_type": "code",
   "execution_count": 228,
   "id": "670289f4-e95f-4fb3-a5b3-7f2bbaac06fc",
   "metadata": {},
   "outputs": [
    {
     "data": {
      "text/plain": [
       "array([False,  True, False])"
      ]
     },
     "execution_count": 228,
     "metadata": {},
     "output_type": "execute_result"
    }
   ],
   "source": [
    "np.signbit(np.array([1, -2.3, 2.1]))"
   ]
  },
  {
   "cell_type": "markdown",
   "id": "aa77981d-8531-49c4-a278-5fb3b8b90a43",
   "metadata": {},
   "source": [
    "### numpy.copysign(x1,x2,out=None,where=True,casting='same_kind',order='K',dtype=None,subok=True)"
   ]
  },
  {
   "cell_type": "markdown",
   "id": "a98c57e2-d7d2-476e-a3cc-835cebb8064d",
   "metadata": {},
   "source": [
    "按元素将x1的符号更改为x2的符号。"
   ]
  },
  {
   "cell_type": "code",
   "execution_count": 229,
   "id": "0f78e66c-a78d-494c-b3ba-ecc66b5ba1af",
   "metadata": {},
   "outputs": [
    {
     "data": {
      "text/plain": [
       "-1.3"
      ]
     },
     "execution_count": 229,
     "metadata": {},
     "output_type": "execute_result"
    }
   ],
   "source": [
    "import numpy as np\n",
    "\n",
    "np.copysign(1.3,-1)"
   ]
  },
  {
   "cell_type": "code",
   "execution_count": 230,
   "id": "150a5bce-3960-4087-9221-f8671efef454",
   "metadata": {},
   "outputs": [
    {
     "name": "stderr",
     "output_type": "stream",
     "text": [
      "D:\\Anaconda3\\envs\\xuexi\\lib\\site-packages\\ipykernel_launcher.py:1: RuntimeWarning: divide by zero encountered in double_scalars\n",
      "  \"\"\"Entry point for launching an IPython kernel.\n"
     ]
    },
    {
     "data": {
      "text/plain": [
       "inf"
      ]
     },
     "execution_count": 230,
     "metadata": {},
     "output_type": "execute_result"
    }
   ],
   "source": [
    "1/np.copysign(0,1)"
   ]
  },
  {
   "cell_type": "code",
   "execution_count": 231,
   "id": "6b7934b1-6b03-4267-b89c-6261ffd5e083",
   "metadata": {},
   "outputs": [
    {
     "data": {
      "text/plain": [
       "array([-1., -0., -1.])"
      ]
     },
     "execution_count": 231,
     "metadata": {},
     "output_type": "execute_result"
    }
   ],
   "source": [
    "np.copysign([-1,0,1],-1.1)"
   ]
  },
  {
   "cell_type": "code",
   "execution_count": 232,
   "id": "73fbc2f1-01dc-46be-8f19-b6a61f132780",
   "metadata": {},
   "outputs": [
    {
     "data": {
      "text/plain": [
       "array([-1.,  0.,  1.])"
      ]
     },
     "execution_count": 232,
     "metadata": {},
     "output_type": "execute_result"
    }
   ],
   "source": [
    "np.copysign([1,0,-1],np.arange(3)-1)"
   ]
  },
  {
   "cell_type": "markdown",
   "id": "6e317b34-8056-437e-b518-d8fd6c58dcc8",
   "metadata": {},
   "source": [
    "### numpy.frexp(x,out1,out2,out=(None,None),where=True,casting='same_kind',order='K',dtype=None,subok=True)"
   ]
  },
  {
   "cell_type": "markdown",
   "id": "8ebdf794-45e1-4f3e-9236-0cb4ed96c098",
   "metadata": {},
   "source": [
    "将x的元素分解为尾数和二进制指数。\n",
    "\n",
    "$$ x = out1 * 2^{out2}$$"
   ]
  },
  {
   "cell_type": "code",
   "execution_count": 233,
   "id": "41dd2b9a-cb20-4db2-bb9f-2457372a012b",
   "metadata": {},
   "outputs": [
    {
     "data": {
      "text/plain": [
       "array([0.   , 0.5  , 0.5  , 0.75 , 0.5  , 0.625, 0.75 , 0.875, 0.5  ])"
      ]
     },
     "execution_count": 233,
     "metadata": {},
     "output_type": "execute_result"
    }
   ],
   "source": [
    "import numpy as np\n",
    "\n",
    "x = np.arange(9)\n",
    "y1,y2 = np.frexp(x)\n",
    "y1"
   ]
  },
  {
   "cell_type": "code",
   "execution_count": 234,
   "id": "77155a34-6049-4587-8368-e560238a7e6e",
   "metadata": {},
   "outputs": [
    {
     "data": {
      "text/plain": [
       "array([0, 1, 2, 2, 3, 3, 3, 3, 4], dtype=int32)"
      ]
     },
     "execution_count": 234,
     "metadata": {},
     "output_type": "execute_result"
    }
   ],
   "source": [
    "y2"
   ]
  },
  {
   "cell_type": "code",
   "execution_count": 235,
   "id": "40e06146-f203-4a28-9415-83a53e2aa01e",
   "metadata": {},
   "outputs": [
    {
     "data": {
      "text/plain": [
       "array([0., 1., 2., 3., 4., 5., 6., 7., 8.])"
      ]
     },
     "execution_count": 235,
     "metadata": {},
     "output_type": "execute_result"
    }
   ],
   "source": [
    "y1 * 2 **y2"
   ]
  },
  {
   "cell_type": "markdown",
   "id": "2791aa66-5b43-4724-b64f-ef45d8f60233",
   "metadata": {},
   "source": [
    "### numpy.nextafter(x1,x2,out=None,where=True,casting='same_kind',order='K',dtype=None,subok=True)"
   ]
  },
  {
   "cell_type": "markdown",
   "id": "3916c9a5-5071-44ab-8c57-fe44fdf40d33",
   "metadata": {},
   "source": [
    "按元素返回x1之后朝向x2的下一个浮点值"
   ]
  },
  {
   "cell_type": "code",
   "execution_count": 237,
   "id": "07e86346-00c0-41d6-9ae5-6dc48e8ac1c5",
   "metadata": {},
   "outputs": [
    {
     "data": {
      "text/plain": [
       "3.0000000000000004"
      ]
     },
     "execution_count": 237,
     "metadata": {},
     "output_type": "execute_result"
    }
   ],
   "source": [
    "import numpy as np\n",
    "\n",
    "arr1 = 3\n",
    "arr2 = 4\n",
    "\n",
    "np.nextafter(arr1,arr2)"
   ]
  },
  {
   "cell_type": "code",
   "execution_count": 239,
   "id": "0fcae391-0eb4-4e0d-80cd-3bee5d806233",
   "metadata": {},
   "outputs": [
    {
     "data": {
      "text/plain": [
       "9.999999999999998"
      ]
     },
     "execution_count": 239,
     "metadata": {},
     "output_type": "execute_result"
    }
   ],
   "source": [
    "np.nextafter(10  , +1)"
   ]
  },
  {
   "cell_type": "code",
   "execution_count": 240,
   "id": "219c04ef-2ff5-4743-8741-783fd1f705dd",
   "metadata": {},
   "outputs": [
    {
     "data": {
      "text/plain": [
       "True"
      ]
     },
     "execution_count": 240,
     "metadata": {},
     "output_type": "execute_result"
    }
   ],
   "source": [
    "eps = np.finfo(np.float64).eps\n",
    "np.nextafter(1,2) == eps + 1"
   ]
  },
  {
   "cell_type": "markdown",
   "id": "d8eb5434-a925-43e4-a812-05ebfd89e161",
   "metadata": {},
   "source": [
    "### numpy.spacing(x,out=None,where=True,casting='same_kind',order='K',dtype=None,subok=True)"
   ]
  },
  {
   "cell_type": "markdown",
   "id": "038ebdb3-b15e-4b37-be5e-51251475b20b",
   "metadata": {},
   "source": [
    "返回 x 和最近的相邻数字之间的距离。"
   ]
  },
  {
   "cell_type": "code",
   "execution_count": 241,
   "id": "bc57da3a-a162-4aa5-a983-db0b8f8ac5b6",
   "metadata": {},
   "outputs": [
    {
     "data": {
      "text/plain": [
       "2.220446049250313e-16"
      ]
     },
     "execution_count": 241,
     "metadata": {},
     "output_type": "execute_result"
    }
   ],
   "source": [
    "import numpy as np\n",
    "\n",
    "np.spacing(1.2)"
   ]
  },
  {
   "cell_type": "code",
   "execution_count": 242,
   "id": "8bc771a3-e064-43fc-b72f-9804f51422ab",
   "metadata": {},
   "outputs": [
    {
     "data": {
      "text/plain": [
       "2.220446049250313e-16"
      ]
     },
     "execution_count": 242,
     "metadata": {},
     "output_type": "execute_result"
    }
   ],
   "source": [
    "np.spacing(1)"
   ]
  },
  {
   "cell_type": "code",
   "execution_count": 243,
   "id": "2d9fbedf-9517-45ac-9547-002404d1a080",
   "metadata": {},
   "outputs": [
    {
     "data": {
      "text/plain": [
       "True"
      ]
     },
     "execution_count": 243,
     "metadata": {},
     "output_type": "execute_result"
    }
   ],
   "source": [
    "np.spacing(1) == np.finfo(np.float64).eps"
   ]
  },
  {
   "cell_type": "markdown",
   "id": "3efbbc88-0322-4da0-87f8-bd060c91ce72",
   "metadata": {},
   "source": [
    "### numpy.lcm(x1,x2,out=None,where=True,casting='same_kind',order='K',dtype=None,subok=True)"
   ]
  },
  {
   "cell_type": "markdown",
   "id": "19658cbc-3047-4987-8939-1c7862bc83e4",
   "metadata": {},
   "source": [
    "返回|x1|和|x2|的最小公倍数"
   ]
  },
  {
   "cell_type": "code",
   "execution_count": 247,
   "id": "75819619-55d3-48eb-b8d9-1ec4fa2c2811",
   "metadata": {},
   "outputs": [
    {
     "data": {
      "text/plain": [
       "array([ 0, 20, 20, 60, 20, 20])"
      ]
     },
     "execution_count": 247,
     "metadata": {},
     "output_type": "execute_result"
    }
   ],
   "source": [
    "import numpy as np\n",
    "\n",
    "np.lcm(np.arange(6), 20)      #(0,1,2,3,4,5)与 20的最小公倍数"
   ]
  },
  {
   "cell_type": "code",
   "execution_count": 246,
   "id": "26dc2e3a-feb7-424b-b364-80ed37caf939",
   "metadata": {},
   "outputs": [
    {
     "data": {
      "text/plain": [
       "60"
      ]
     },
     "execution_count": 246,
     "metadata": {},
     "output_type": "execute_result"
    }
   ],
   "source": [
    "np.lcm.reduce([3,12,20])"
   ]
  },
  {
   "cell_type": "markdown",
   "id": "7259d8c1-a91b-4b7a-a04e-217a794add05",
   "metadata": {},
   "source": [
    "### numpy.gcd(x1,x2,out=None,where=True,casting='same_kind',order='K',dtype=None,subok=True)"
   ]
  },
  {
   "cell_type": "markdown",
   "id": "bb0bfe7f-2448-4d93-b0bf-9a6692efec29",
   "metadata": {},
   "source": [
    "返回|x1|和|x2|的最大公约数"
   ]
  },
  {
   "cell_type": "code",
   "execution_count": 248,
   "id": "da753da2-f5f1-44c2-9aae-6da58a97d2de",
   "metadata": {},
   "outputs": [
    {
     "data": {
      "text/plain": [
       "array([20,  1,  2,  1,  4,  5])"
      ]
     },
     "execution_count": 248,
     "metadata": {},
     "output_type": "execute_result"
    }
   ],
   "source": [
    "import numpy as np\n",
    "\n",
    "np.gcd(np.arange(6),20)"
   ]
  },
  {
   "cell_type": "code",
   "execution_count": 249,
   "id": "699a22e1-fcd2-4abf-94a3-14844ee9a40f",
   "metadata": {},
   "outputs": [
    {
     "data": {
      "text/plain": [
       "5"
      ]
     },
     "execution_count": 249,
     "metadata": {},
     "output_type": "execute_result"
    }
   ],
   "source": [
    "np.gcd.reduce([15,25,35])"
   ]
  },
  {
   "cell_type": "markdown",
   "id": "6a1f1f0a-1acb-4abb-bd7c-e8ca0fc7ffae",
   "metadata": {},
   "source": [
    "### numpy.add(x1,x2,out=None,where=True,casting='same_kind',order='K',dtype=None,subok=True)"
   ]
  },
  {
   "cell_type": "markdown",
   "id": "e67a6dff-0a81-4b85-8696-d065aed7777d",
   "metadata": {},
   "source": [
    "x1 和 x2 的总和，按元素计算。"
   ]
  },
  {
   "cell_type": "code",
   "execution_count": 250,
   "id": "c077c0ab-8a1a-44a4-8c6f-61bc5e315936",
   "metadata": {},
   "outputs": [
    {
     "data": {
      "text/plain": [
       "array([[ 0.,  2.,  4.],\n",
       "       [ 3.,  5.,  7.],\n",
       "       [ 6.,  8., 10.]])"
      ]
     },
     "execution_count": 250,
     "metadata": {},
     "output_type": "execute_result"
    }
   ],
   "source": [
    "import numpy as np\n",
    "\n",
    "x1 = np.arange(9.0).reshape((3,3))\n",
    "x2 = np.arange(3.0)\n",
    "\n",
    "np.add(x1,x2)"
   ]
  },
  {
   "cell_type": "code",
   "execution_count": 251,
   "id": "9123df3b-7aa3-4199-9b75-771b17f0cb4b",
   "metadata": {},
   "outputs": [
    {
     "data": {
      "text/plain": [
       "array([[ 0.,  2.,  4.],\n",
       "       [ 3.,  5.,  7.],\n",
       "       [ 6.,  8., 10.]])"
      ]
     },
     "execution_count": 251,
     "metadata": {},
     "output_type": "execute_result"
    }
   ],
   "source": [
    "x1+x2"
   ]
  },
  {
   "cell_type": "markdown",
   "id": "7443b4b7-04fb-4953-99d4-bfa8dc95e2c3",
   "metadata": {},
   "source": [
    "### numpy.reciprocal(x,out=None,where=True,casting='same_kind',order='K',dtype=None,subok=True)"
   ]
  },
  {
   "cell_type": "markdown",
   "id": "979fc1a1-0a26-40c4-879c-a50fdd12418f",
   "metadata": {},
   "source": [
    "按元素返回参数的倒数。"
   ]
  },
  {
   "cell_type": "code",
   "execution_count": 252,
   "id": "a1e09b88-cdea-461a-98db-8ac658a0ceba",
   "metadata": {},
   "outputs": [
    {
     "data": {
      "text/plain": [
       "0.5"
      ]
     },
     "execution_count": 252,
     "metadata": {},
     "output_type": "execute_result"
    }
   ],
   "source": [
    "import numpy as np\n",
    "\n",
    "np.reciprocal(2.)"
   ]
  },
  {
   "cell_type": "code",
   "execution_count": 253,
   "id": "edc96962-a366-45cb-9984-66680d08e6e2",
   "metadata": {},
   "outputs": [
    {
     "data": {
      "text/plain": [
       "array([1.       , 0.5      , 0.3003003])"
      ]
     },
     "execution_count": 253,
     "metadata": {},
     "output_type": "execute_result"
    }
   ],
   "source": [
    "np.reciprocal([1,2,3.33])"
   ]
  },
  {
   "cell_type": "markdown",
   "id": "11f42ea2-be3a-4696-909b-38d480defdf5",
   "metadata": {},
   "source": [
    "### numpy.positive(x,out=None,where=True,casting='same_kind',order='K',dtype=None,subok=True)"
   ]
  },
  {
   "cell_type": "markdown",
   "id": "f86c0a8c-e903-4130-84ac-df4830caa376",
   "metadata": {},
   "source": [
    "对数组中的每个元素取本身"
   ]
  },
  {
   "cell_type": "code",
   "execution_count": 254,
   "id": "7a23c56c-5615-44f6-a4b0-22b6e8dbd37c",
   "metadata": {},
   "outputs": [
    {
     "data": {
      "text/plain": [
       "array([ 1., -2.])"
      ]
     },
     "execution_count": 254,
     "metadata": {},
     "output_type": "execute_result"
    }
   ],
   "source": [
    "import numpy as np\n",
    "\n",
    "x1 = np.array([1.,-2.])\n",
    "np.positive(x1)"
   ]
  },
  {
   "cell_type": "code",
   "execution_count": 255,
   "id": "7802e7bf-a1d3-411d-bdc2-b31951af11fe",
   "metadata": {},
   "outputs": [
    {
     "data": {
      "text/plain": [
       "array([ 1., -2.])"
      ]
     },
     "execution_count": 255,
     "metadata": {},
     "output_type": "execute_result"
    }
   ],
   "source": [
    "+x1"
   ]
  },
  {
   "cell_type": "markdown",
   "id": "df87195d-06d9-4ddf-a967-247a98ada590",
   "metadata": {},
   "source": [
    "### numpy.negative(x,out=None,where=True,casting='same_kind',order='K',dtype=None,subok=True)"
   ]
  },
  {
   "cell_type": "markdown",
   "id": "f6367323-cf27-4dc7-bd56-0d9bd772c36c",
   "metadata": {},
   "source": [
    "对数组中的每个元素取相反数"
   ]
  },
  {
   "cell_type": "code",
   "execution_count": 262,
   "id": "84b50ee5-747f-4e22-8260-0be4cd587ca5",
   "metadata": {},
   "outputs": [
    {
     "data": {
      "text/plain": [
       "array([-1,  1])"
      ]
     },
     "execution_count": 262,
     "metadata": {},
     "output_type": "execute_result"
    }
   ],
   "source": [
    "import numpy as np\n",
    "\n",
    "x2 = np.array([1,-1])\n",
    "np.negative(x2)"
   ]
  },
  {
   "cell_type": "code",
   "execution_count": 263,
   "id": "3cb17f45-022f-4132-a15f-ddb0b98910b6",
   "metadata": {},
   "outputs": [
    {
     "data": {
      "text/plain": [
       "array([-1,  1])"
      ]
     },
     "execution_count": 263,
     "metadata": {},
     "output_type": "execute_result"
    }
   ],
   "source": [
    "-x2"
   ]
  },
  {
   "cell_type": "markdown",
   "id": "f0942e87-1ca1-403b-b4e2-c1fff3436446",
   "metadata": {},
   "source": [
    "### numpy.multiply(x1,x1,out=None,where=True,castig='same_kind',order='K',dtype=None,subok=True)"
   ]
  },
  {
   "cell_type": "markdown",
   "id": "5c3b076f-5d01-4cd4-8f14-d25e49cb8189",
   "metadata": {},
   "source": [
    "按元素做乘法"
   ]
  },
  {
   "cell_type": "code",
   "execution_count": 265,
   "id": "5a1bba06-bbb9-4566-bbc3-90e3e3c58ceb",
   "metadata": {},
   "outputs": [
    {
     "name": "stdout",
     "output_type": "stream",
     "text": [
      "[[0. 1. 2.]\n",
      " [3. 4. 5.]\n",
      " [6. 7. 8.]]\n"
     ]
    }
   ],
   "source": [
    "import numpy as np\n",
    "\n",
    "x1 = np.arange(9.0).reshape((3,3))\n",
    "print(x1)"
   ]
  },
  {
   "cell_type": "code",
   "execution_count": 267,
   "id": "4db63a5c-038a-4410-829f-e40580acad13",
   "metadata": {},
   "outputs": [
    {
     "name": "stdout",
     "output_type": "stream",
     "text": [
      "[0. 1. 2.]\n"
     ]
    }
   ],
   "source": [
    "x2 = np.arange(3.0)\n",
    "print(x2)"
   ]
  },
  {
   "cell_type": "code",
   "execution_count": 268,
   "id": "405042c1-378a-4ad1-a078-c8addb8269c4",
   "metadata": {},
   "outputs": [
    {
     "data": {
      "text/plain": [
       "array([[ 0.,  1.,  4.],\n",
       "       [ 0.,  4., 10.],\n",
       "       [ 0.,  7., 16.]])"
      ]
     },
     "execution_count": 268,
     "metadata": {},
     "output_type": "execute_result"
    }
   ],
   "source": [
    "np.multiply(x1,x2)"
   ]
  },
  {
   "cell_type": "markdown",
   "id": "c9f6e1c2-7bbf-4fad-8636-fe3af64e5b20",
   "metadata": {},
   "source": [
    "### numpy.divide(x1,x2,out=None,where=True,casting='same_kind',order='K',dtype=None,subok=True)"
   ]
  },
  {
   "cell_type": "markdown",
   "id": "c3c40231-d19e-4f0b-8541-63cdc045bc63",
   "metadata": {},
   "source": [
    "按元素做除法"
   ]
  },
  {
   "cell_type": "code",
   "execution_count": 269,
   "id": "a27a8947-eff4-4b9c-b1a5-3ec5a7efb749",
   "metadata": {},
   "outputs": [
    {
     "data": {
      "text/plain": [
       "array([0.  , 0.25, 0.5 , 0.75, 1.  ])"
      ]
     },
     "execution_count": 269,
     "metadata": {},
     "output_type": "execute_result"
    }
   ],
   "source": [
    "import numpy as np\n",
    "\n",
    "x = np.arange(5)\n",
    "np.divide(x,4)"
   ]
  },
  {
   "cell_type": "code",
   "execution_count": 270,
   "id": "b24798af-294b-47d3-9e1a-2dd2996085a8",
   "metadata": {},
   "outputs": [
    {
     "data": {
      "text/plain": [
       "array([0.  , 0.25, 0.5 , 0.75, 1.  ])"
      ]
     },
     "execution_count": 270,
     "metadata": {},
     "output_type": "execute_result"
    }
   ],
   "source": [
    "np.true_divide(x,4)"
   ]
  },
  {
   "cell_type": "code",
   "execution_count": 271,
   "id": "eebeabba-7713-4613-ba89-030172e070f4",
   "metadata": {},
   "outputs": [
    {
     "data": {
      "text/plain": [
       "array([0.  , 0.25, 0.5 , 0.75, 1.  ])"
      ]
     },
     "execution_count": 271,
     "metadata": {},
     "output_type": "execute_result"
    }
   ],
   "source": [
    "x/4"
   ]
  },
  {
   "cell_type": "markdown",
   "id": "5663ea83-87c3-4009-9ddf-c7cec3af154e",
   "metadata": {},
   "source": [
    "### numpy.power(x1,x2,out=None,where=True,casting='same_kind',order='K',dtype=None,subok=True)"
   ]
  },
  {
   "cell_type": "markdown",
   "id": "bb34222b-fb0d-4090-a27b-b797775c0fb7",
   "metadata": {},
   "source": [
    "x1 中的底数上升到 x2 中的指数。$${x_1}^{x_2}$$"
   ]
  },
  {
   "cell_type": "code",
   "execution_count": 272,
   "id": "ead0205b-ddb3-4984-952f-3d645e12d525",
   "metadata": {},
   "outputs": [
    {
     "data": {
      "text/plain": [
       "array([ 0.,  1.,  8., 27., 16.,  5.])"
      ]
     },
     "execution_count": 272,
     "metadata": {},
     "output_type": "execute_result"
    }
   ],
   "source": [
    "import numpy as np\n",
    "\n",
    "x1 = np.arange(6)\n",
    "x2 = [1.0,2.0,3.0,3.0,2.0,1.0]\n",
    "np.power(x1,x2)"
   ]
  },
  {
   "cell_type": "markdown",
   "id": "3ed568ce-b550-40ba-859b-797680e389f3",
   "metadata": {},
   "source": [
    "### numpy.subtract(x1,x2,out=None,where=True,casting='same_kind',order='K',dtype=None,subok=True)"
   ]
  },
  {
   "cell_type": "markdown",
   "id": "fa0ce290-4c24-4cab-a58b-43f42ca15430",
   "metadata": {},
   "source": [
    "按x1减去x2"
   ]
  },
  {
   "cell_type": "code",
   "execution_count": 273,
   "id": "377392cb-154b-4d30-a9cf-a2a0cb51f5f4",
   "metadata": {},
   "outputs": [
    {
     "name": "stdout",
     "output_type": "stream",
     "text": [
      "[[0. 1. 2.]\n",
      " [3. 4. 5.]\n",
      " [6. 7. 8.]]\n"
     ]
    }
   ],
   "source": [
    "import numpy as np\n",
    "\n",
    "x1 = np.arange(9.0).reshape((3,3))\n",
    "print(x1)"
   ]
  },
  {
   "cell_type": "code",
   "execution_count": 274,
   "id": "1243bc47-83a8-457b-9af1-8f2d45306015",
   "metadata": {},
   "outputs": [
    {
     "name": "stdout",
     "output_type": "stream",
     "text": [
      "[0. 1. 2.]\n"
     ]
    }
   ],
   "source": [
    "x2 = np.arange(3.0)\n",
    "print(x2)"
   ]
  },
  {
   "cell_type": "code",
   "execution_count": 275,
   "id": "a3a611f2-70b0-4c62-aeee-f3b0ece64ba4",
   "metadata": {},
   "outputs": [
    {
     "data": {
      "text/plain": [
       "array([[0., 0., 0.],\n",
       "       [3., 3., 3.],\n",
       "       [6., 6., 6.]])"
      ]
     },
     "execution_count": 275,
     "metadata": {},
     "output_type": "execute_result"
    }
   ],
   "source": [
    "np.subtract(x1,x2)"
   ]
  },
  {
   "cell_type": "code",
   "execution_count": 276,
   "id": "fc760c51-afac-47e5-a042-d715eeed071d",
   "metadata": {},
   "outputs": [
    {
     "data": {
      "text/plain": [
       "array([[0., 0., 0.],\n",
       "       [3., 3., 3.],\n",
       "       [6., 6., 6.]])"
      ]
     },
     "execution_count": 276,
     "metadata": {},
     "output_type": "execute_result"
    }
   ],
   "source": [
    "x1 - x2"
   ]
  },
  {
   "cell_type": "markdown",
   "id": "8c8fa071-8347-478e-a58f-36c14fa204fa",
   "metadata": {},
   "source": [
    "### numpy.true_divide(x1,x2,out=None,where=True,casting='same_kind',order='K',dtype=None,subok=True)"
   ]
  },
  {
   "cell_type": "markdown",
   "id": "65d6927a-dfec-4a66-9ba8-4b296c22dad9",
   "metadata": {},
   "source": [
    "按元素返回输入值除法的真正数值。(以下的函数与上述某些函数实现的功能一样，主要区别在于输出的数据格式不同)"
   ]
  },
  {
   "cell_type": "code",
   "execution_count": 277,
   "id": "123adf23-82a4-4116-9879-9cb5f5f33e4d",
   "metadata": {},
   "outputs": [
    {
     "data": {
      "text/plain": [
       "array([0.  , 0.25, 0.5 , 0.75, 1.  ])"
      ]
     },
     "execution_count": 277,
     "metadata": {},
     "output_type": "execute_result"
    }
   ],
   "source": [
    "import numpy as np\n",
    "\n",
    "x = np.arange(5)\n",
    "np.true_divide(x,4)"
   ]
  },
  {
   "cell_type": "code",
   "execution_count": 278,
   "id": "fb99ada6-6297-4e00-9996-d4d830a15cfb",
   "metadata": {},
   "outputs": [
    {
     "data": {
      "text/plain": [
       "array([0.  , 0.25, 0.5 , 0.75, 1.  ])"
      ]
     },
     "execution_count": 278,
     "metadata": {},
     "output_type": "execute_result"
    }
   ],
   "source": [
    "x/4"
   ]
  },
  {
   "cell_type": "markdown",
   "id": "ebd9fdfd-49d8-4610-a296-fee60a461d2d",
   "metadata": {},
   "source": [
    "### numpy.floor_divide(x1,x2,out=None,where=True,casting='same_kind',order='K',dtype=None,subok=True)"
   ]
  },
  {
   "cell_type": "markdown",
   "id": "39f242a9-d627-4d74-a60a-79cf363ada21",
   "metadata": {},
   "source": [
    "按元素做除法后，返回小于或等于输入除法的最大整数。"
   ]
  },
  {
   "cell_type": "code",
   "execution_count": 280,
   "id": "bc5247c5-000f-45a6-a544-df86d6d7b9fb",
   "metadata": {},
   "outputs": [
    {
     "data": {
      "text/plain": [
       "array([0., 0., 1., 1.])"
      ]
     },
     "execution_count": 280,
     "metadata": {},
     "output_type": "execute_result"
    }
   ],
   "source": [
    "import numpy as np\n",
    "\n",
    "np.floor_divide([1.,2.,3.,4.],2.5)"
   ]
  },
  {
   "cell_type": "code",
   "execution_count": 281,
   "id": "35d92c47-89c6-421f-a492-78723f1222a3",
   "metadata": {},
   "outputs": [
    {
     "data": {
      "text/plain": [
       "array([0., 0., 1., 1.])"
      ]
     },
     "execution_count": 281,
     "metadata": {},
     "output_type": "execute_result"
    }
   ],
   "source": [
    "x1 = np.array([1.,2.,3.,4])\n",
    "x1//2.5"
   ]
  },
  {
   "cell_type": "markdown",
   "id": "b2c95649-fc7f-416d-b9a2-0e3957226c19",
   "metadata": {},
   "source": [
    "### numpy.float_power(x1,x2,out=None,where=True,casting='same_kind',order='K',dtype=None,subok=True)"
   ]
  },
  {
   "cell_type": "markdown",
   "id": "5120ea89-3b5d-4ec8-93ed-60e79dc8e18d",
   "metadata": {},
   "source": [
    "x1 中的底数上升到 x2 中的指数。$${x_1}^{x_2}$$"
   ]
  },
  {
   "cell_type": "code",
   "execution_count": 282,
   "id": "f9f80813-e3b2-4885-9c5e-b06650f90285",
   "metadata": {},
   "outputs": [
    {
     "data": {
      "text/plain": [
       "array([[ 0.,  1.,  8., 27., 16.,  5.],\n",
       "       [ 0.,  1.,  8., 27., 16.,  5.]])"
      ]
     },
     "execution_count": 282,
     "metadata": {},
     "output_type": "execute_result"
    }
   ],
   "source": [
    "import numpy as np\n",
    "\n",
    "x1 = range(6)\n",
    "x2 = np.array([[1,2,3,3,2,1],[1,2,3,3,2,1]])\n",
    "\n",
    "np.float_power(x1,x2)"
   ]
  },
  {
   "cell_type": "markdown",
   "id": "c18e1d6c-5eb1-4ee7-8b4c-2bfaa066df19",
   "metadata": {},
   "source": [
    "### numpy.fmod(x1,x2,out=None,where=True,casting='same_kind',order='K',dtype=None,subok=True)"
   ]
  },
  {
   "cell_type": "markdown",
   "id": "28e8b72f-66a7-48d3-90a9-47eb9873675e",
   "metadata": {},
   "source": [
    "x1 除以 x2 的余数"
   ]
  },
  {
   "cell_type": "code",
   "execution_count": 283,
   "id": "9726de50-fd1e-476d-8495-7df93ab751f6",
   "metadata": {},
   "outputs": [
    {
     "data": {
      "text/plain": [
       "array([-1,  0, -1,  1,  0,  1], dtype=int32)"
      ]
     },
     "execution_count": 283,
     "metadata": {},
     "output_type": "execute_result"
    }
   ],
   "source": [
    "import numpy as np\n",
    "\n",
    "np.fmod([-3,-2,-1,1,2,3],2)"
   ]
  },
  {
   "cell_type": "code",
   "execution_count": 284,
   "id": "1973d16d-7b51-4c22-9d69-f7a22e7fdad7",
   "metadata": {},
   "outputs": [
    {
     "data": {
      "text/plain": [
       "array([1, 1], dtype=int32)"
      ]
     },
     "execution_count": 284,
     "metadata": {},
     "output_type": "execute_result"
    }
   ],
   "source": [
    "np.fmod([5,3],[2,2])"
   ]
  },
  {
   "cell_type": "markdown",
   "id": "d30b284a-68e1-4e07-ab9a-a21c8fdffd63",
   "metadata": {},
   "source": [
    "### numpy.mod(x1,x2,out=None,where=True,casting='same_kind',order='K',dtype=None,subok=True)"
   ]
  },
  {
   "cell_type": "markdown",
   "id": "20239a18-5c46-4c30-bf7a-46f97e761c4c",
   "metadata": {},
   "source": [
    "返回除法的逐元素余数。"
   ]
  },
  {
   "cell_type": "code",
   "execution_count": 285,
   "id": "db6149df-29e0-4e06-a09b-83553dadc3b8",
   "metadata": {},
   "outputs": [
    {
     "data": {
      "text/plain": [
       "array([0, 1], dtype=int32)"
      ]
     },
     "execution_count": 285,
     "metadata": {},
     "output_type": "execute_result"
    }
   ],
   "source": [
    "import numpy as np\n",
    "\n",
    "np.remainder([4,7],[2,3])"
   ]
  },
  {
   "cell_type": "code",
   "execution_count": 286,
   "id": "70d1df3a-d8bc-49cc-8d3c-39c0c96cdd6c",
   "metadata": {},
   "outputs": [
    {
     "data": {
      "text/plain": [
       "array([0, 1, 2, 3, 4, 0, 1], dtype=int32)"
      ]
     },
     "execution_count": 286,
     "metadata": {},
     "output_type": "execute_result"
    }
   ],
   "source": [
    "np.remainder(np.arange(7),5)"
   ]
  },
  {
   "cell_type": "code",
   "execution_count": 287,
   "id": "13a53fc9-a048-4462-b17b-f7062fb54afa",
   "metadata": {},
   "outputs": [
    {
     "data": {
      "text/plain": [
       "array([0, 1, 2, 3, 4, 0, 1], dtype=int32)"
      ]
     },
     "execution_count": 287,
     "metadata": {},
     "output_type": "execute_result"
    }
   ],
   "source": [
    "x1 = np.arange(7)\n",
    "x1%5"
   ]
  },
  {
   "cell_type": "markdown",
   "id": "2742e34c-1dbb-4350-b0cc-01045f5363d9",
   "metadata": {},
   "source": [
    "### numpy.modf(x,y1,y2,out=(None,None),where=True,casting='same_kind',order='K',dtype=None,subok=True)"
   ]
  },
  {
   "cell_type": "markdown",
   "id": "0d3a3fd7-3d8c-4e36-bd70-228ad246c589",
   "metadata": {},
   "source": [
    "按元素返回数组的小数部分和整数部分。"
   ]
  },
  {
   "cell_type": "code",
   "execution_count": 288,
   "id": "36d5458d-7aa8-46a1-ac6a-43dd6a21d220",
   "metadata": {},
   "outputs": [
    {
     "data": {
      "text/plain": [
       "(array([0. , 0.5]), array([0., 3.]))"
      ]
     },
     "execution_count": 288,
     "metadata": {},
     "output_type": "execute_result"
    }
   ],
   "source": [
    "import numpy as np\n",
    "\n",
    "np.modf([0,3.5])"
   ]
  },
  {
   "cell_type": "code",
   "execution_count": 289,
   "id": "0660914d-45ec-4b30-b22a-07f4e8bb0c00",
   "metadata": {},
   "outputs": [
    {
     "data": {
      "text/plain": [
       "(-0.5, -0.0)"
      ]
     },
     "execution_count": 289,
     "metadata": {},
     "output_type": "execute_result"
    }
   ],
   "source": [
    "np.modf(-0.5)"
   ]
  },
  {
   "cell_type": "markdown",
   "id": "1b8c2fe5-5782-43c7-98db-936925a83f89",
   "metadata": {},
   "source": [
    "### numpy.remainder(x1,x2,out=None,where=True,casting='same_kind',order='K',dtype=None,subok=True)"
   ]
  },
  {
   "cell_type": "markdown",
   "id": "ab7c81a4-2e03-4975-a816-4845c7151fe8",
   "metadata": {},
   "source": [
    "返回除法的逐元素余数。"
   ]
  },
  {
   "cell_type": "code",
   "execution_count": 290,
   "id": "0b9e8eb9-71ec-402a-a07b-591c58693598",
   "metadata": {},
   "outputs": [
    {
     "data": {
      "text/plain": [
       "array([0, 1], dtype=int32)"
      ]
     },
     "execution_count": 290,
     "metadata": {},
     "output_type": "execute_result"
    }
   ],
   "source": [
    "import numpy as np\n",
    "\n",
    "np.remainder([4, 7],[2, 3])"
   ]
  },
  {
   "cell_type": "code",
   "execution_count": 291,
   "id": "3d2b06fa-9967-4c34-a0b7-ce9b4bef2efd",
   "metadata": {},
   "outputs": [
    {
     "data": {
      "text/plain": [
       "array([0, 1, 2, 3, 4, 0, 1], dtype=int32)"
      ]
     },
     "execution_count": 291,
     "metadata": {},
     "output_type": "execute_result"
    }
   ],
   "source": [
    "np.remainder(np.arange(7),5)"
   ]
  },
  {
   "cell_type": "code",
   "execution_count": 292,
   "id": "fd34c991-f695-43dd-a810-bdaf3c384ab0",
   "metadata": {},
   "outputs": [
    {
     "data": {
      "text/plain": [
       "array([0, 1, 2, 3, 4, 0, 1], dtype=int32)"
      ]
     },
     "execution_count": 292,
     "metadata": {},
     "output_type": "execute_result"
    }
   ],
   "source": [
    "x1 = np.arange(7)\n",
    "x1 % 5"
   ]
  },
  {
   "cell_type": "markdown",
   "id": "64c761a5-5443-46db-bd99-3524a8b38114",
   "metadata": {},
   "source": [
    "### numpy.divmod(x1,x2,out1,out2,where=True,casting='same_kind',order='K',dtype=None,subok=True)"
   ]
  },
  {
   "cell_type": "markdown",
   "id": "aac3760d-c066-46f8-8a5f-d47533d45f0a",
   "metadata": {},
   "source": [
    "同时返回逐元素商和余数。"
   ]
  },
  {
   "cell_type": "code",
   "execution_count": 293,
   "id": "1b33aec3-e0b4-4283-980b-36d84e00567c",
   "metadata": {},
   "outputs": [
    {
     "data": {
      "text/plain": [
       "(array([0, 0, 0, 1, 1], dtype=int32), array([0, 1, 2, 0, 1], dtype=int32))"
      ]
     },
     "execution_count": 293,
     "metadata": {},
     "output_type": "execute_result"
    }
   ],
   "source": [
    "import numpy as np\n",
    "\n",
    "np.divmod(np.arange(5),3)"
   ]
  },
  {
   "cell_type": "code",
   "execution_count": 297,
   "id": "6b87f916-b3bd-40cb-b42f-bde6009fa76a",
   "metadata": {},
   "outputs": [
    {
     "data": {
      "text/plain": [
       "(array([0, 0, 0, 1, 1], dtype=int32), array([0, 1, 2, 0, 1], dtype=int32))"
      ]
     },
     "execution_count": 297,
     "metadata": {},
     "output_type": "execute_result"
    }
   ],
   "source": [
    "x = np.arange(5)\n",
    "divmod(x,3)"
   ]
  },
  {
   "cell_type": "markdown",
   "id": "d196372d-90f5-4df5-9922-ff4694de22b7",
   "metadata": {},
   "source": [
    "### numpy.angle(z,deg=False)"
   ]
  },
  {
   "cell_type": "markdown",
   "id": "b01a449f-5bfa-4f1f-a530-083489e76d10",
   "metadata": {},
   "source": [
    "返回复数参数的角度。"
   ]
  },
  {
   "cell_type": "code",
   "execution_count": 301,
   "id": "455f416f-74d9-4480-b5d3-57fe5fbf747b",
   "metadata": {},
   "outputs": [
    {
     "data": {
      "text/plain": [
       "array([0.        , 1.57079633, 0.78539816])"
      ]
     },
     "execution_count": 301,
     "metadata": {},
     "output_type": "execute_result"
    }
   ],
   "source": [
    "import numpy as np\n",
    "\n",
    "np.angle([1.0,1.0j,1+1j])"
   ]
  },
  {
   "cell_type": "markdown",
   "id": "ec230548-b3a1-4a3a-8259-0ee555bffae0",
   "metadata": {},
   "source": [
    "参数： \n",
    "\n",
    "        deg(布尔，可选):"
   ]
  },
  {
   "cell_type": "code",
   "execution_count": 300,
   "id": "acf4e88d-6e55-462c-a62b-2109bf8cec9d",
   "metadata": {},
   "outputs": [
    {
     "data": {
      "text/plain": [
       "45.0"
      ]
     },
     "execution_count": 300,
     "metadata": {},
     "output_type": "execute_result"
    }
   ],
   "source": [
    "np.angle(1+1j,deg=True)"
   ]
  },
  {
   "cell_type": "markdown",
   "id": "87a1ccdc-b4e5-48e2-b4c8-94af15f99a8d",
   "metadata": {},
   "source": [
    "### numpy.real(val)"
   ]
  },
  {
   "cell_type": "markdown",
   "id": "b7a2be85-028c-4f70-a17d-9476e7ce929b",
   "metadata": {},
   "source": [
    "返回复数参数的实部。"
   ]
  },
  {
   "cell_type": "code",
   "execution_count": 1,
   "id": "b7b53645-8708-43cd-80b7-8947ac1929cd",
   "metadata": {},
   "outputs": [
    {
     "data": {
      "text/plain": [
       "array([1., 3., 5.])"
      ]
     },
     "execution_count": 1,
     "metadata": {},
     "output_type": "execute_result"
    }
   ],
   "source": [
    "import numpy as np\n",
    "\n",
    "a = np.array([1+2j, 3+4j, 5+6j])\n",
    "a.real"
   ]
  },
  {
   "cell_type": "code",
   "execution_count": 2,
   "id": "ea4cb5a3-3bfc-4871-a635-44c76bcc78be",
   "metadata": {},
   "outputs": [
    {
     "data": {
      "text/plain": [
       "array([9.+2.j, 9.+4.j, 9.+6.j])"
      ]
     },
     "execution_count": 2,
     "metadata": {},
     "output_type": "execute_result"
    }
   ],
   "source": [
    "a.real = 9\n",
    "a"
   ]
  },
  {
   "cell_type": "code",
   "execution_count": 3,
   "id": "b817c02c-c084-40c9-9f95-14087ba40888",
   "metadata": {},
   "outputs": [
    {
     "data": {
      "text/plain": [
       "array([9.+2.j, 8.+4.j, 7.+6.j])"
      ]
     },
     "execution_count": 3,
     "metadata": {},
     "output_type": "execute_result"
    }
   ],
   "source": [
    "a.real = np.array([9,8,7])\n",
    "a"
   ]
  },
  {
   "cell_type": "markdown",
   "id": "9d3c6150-6da2-4874-b47a-4249f8906c22",
   "metadata": {},
   "source": [
    "### numpy.imag(val)"
   ]
  },
  {
   "cell_type": "markdown",
   "id": "3d0bcf78-653c-476c-8269-70ba26cc2d15",
   "metadata": {},
   "source": [
    "返回复数参数的虚部"
   ]
  },
  {
   "cell_type": "code",
   "execution_count": 5,
   "id": "63681b1a-bbdc-4cba-9dc2-8045ce4fb119",
   "metadata": {},
   "outputs": [
    {
     "data": {
      "text/plain": [
       "array([2., 4., 6.])"
      ]
     },
     "execution_count": 5,
     "metadata": {},
     "output_type": "execute_result"
    }
   ],
   "source": [
    "import numpy as np\n",
    "\n",
    "a = np.array([1+2j, 3+4j, 5+6j])\n",
    "a.imag"
   ]
  },
  {
   "cell_type": "code",
   "execution_count": 6,
   "id": "9f95a653-b23c-4597-b7f3-c1e4da942563",
   "metadata": {},
   "outputs": [
    {
     "data": {
      "text/plain": [
       "array([1. +8.j, 3.+10.j, 5.+12.j])"
      ]
     },
     "execution_count": 6,
     "metadata": {},
     "output_type": "execute_result"
    }
   ],
   "source": [
    "a.imag = np.array([8, 10, 12])\n",
    "a"
   ]
  },
  {
   "cell_type": "markdown",
   "id": "9505d18d-7e4a-4214-a817-6b6a8168d52b",
   "metadata": {},
   "source": [
    "### numpy.conj(x,out=None,where=True,casting='same_kind',order='K',dtype=None,subok=True)"
   ]
  },
  {
   "cell_type": "markdown",
   "id": "e24747e3-dacf-4c08-8b15-9aabfbfae536",
   "metadata": {},
   "source": [
    "### numpy.conjugate(x,out=None,where=True,casting='same_kind',order='K',dtype=None,subok=True)"
   ]
  },
  {
   "cell_type": "markdown",
   "id": "4bfa3436-dae7-4903-972c-922239d380ba",
   "metadata": {},
   "source": [
    "按元素返回复共轭。(等价于numpy.conjugate)"
   ]
  },
  {
   "cell_type": "code",
   "execution_count": 7,
   "id": "dd585fec-5ee7-42bc-89ab-4484d22790c9",
   "metadata": {},
   "outputs": [
    {
     "data": {
      "text/plain": [
       "True"
      ]
     },
     "execution_count": 7,
     "metadata": {},
     "output_type": "execute_result"
    }
   ],
   "source": [
    "import numpy as np\n",
    "\n",
    "np.conj is np.conjugate"
   ]
  },
  {
   "cell_type": "code",
   "execution_count": 9,
   "id": "264b66c3-f429-407c-8f53-7060cd418db5",
   "metadata": {},
   "outputs": [
    {
     "data": {
      "text/plain": [
       "(3-9j)"
      ]
     },
     "execution_count": 9,
     "metadata": {},
     "output_type": "execute_result"
    }
   ],
   "source": [
    "np.conj(3+9j)"
   ]
  },
  {
   "cell_type": "code",
   "execution_count": 10,
   "id": "4536c621-e5f9-4f3d-b483-672495d924d9",
   "metadata": {},
   "outputs": [
    {
     "data": {
      "text/plain": [
       "(1-2j)"
      ]
     },
     "execution_count": 10,
     "metadata": {},
     "output_type": "execute_result"
    }
   ],
   "source": [
    "np.conjugate(1+2j)"
   ]
  },
  {
   "cell_type": "markdown",
   "id": "4bde70a9-09c0-4c9c-b07c-07d818dbfeb6",
   "metadata": {},
   "source": [
    "### numpy.convolve(a,v,mode='full')"
   ]
  },
  {
   "cell_type": "markdown",
   "id": "21483aa5-ab64-4ec3-b7da-127182afb186",
   "metadata": {},
   "source": [
    "返回两个一维序列的离散线性卷积。"
   ]
  },
  {
   "cell_type": "code",
   "execution_count": 11,
   "id": "518ed97d-19cd-4545-b3b4-dd45904c6704",
   "metadata": {},
   "outputs": [
    {
     "data": {
      "text/plain": [
       "array([0. , 1. , 2.5, 4. , 1.5])"
      ]
     },
     "execution_count": 11,
     "metadata": {},
     "output_type": "execute_result"
    }
   ],
   "source": [
    "import numpy as np \n",
    "\n",
    "np.convolve([1,2,3],[0,1,0.5])"
   ]
  },
  {
   "cell_type": "markdown",
   "id": "288848d5-7f7c-4be2-bcfa-bb877d7cff06",
   "metadata": {},
   "source": [
    "参数:mode('full','valid','same',可选)\n",
    "\n",
    "     'full':这将返回每个重叠点的卷积，输出形状为 (N+M-1,)。\n",
    "     'same':输出的长度为max(M,N)\n",
    "     'valid':输出的长度为max(M,N)-min(M,N)+1"
   ]
  },
  {
   "cell_type": "code",
   "execution_count": 12,
   "id": "25c03afe-aeea-45f1-a136-bf24a25320d8",
   "metadata": {},
   "outputs": [
    {
     "data": {
      "text/plain": [
       "array([1. , 2.5, 4. ])"
      ]
     },
     "execution_count": 12,
     "metadata": {},
     "output_type": "execute_result"
    }
   ],
   "source": [
    "np.convolve([1,2,3],[0,1,0.5],'same')"
   ]
  },
  {
   "cell_type": "code",
   "execution_count": 13,
   "id": "1e857469-9ffb-4060-b3f3-0944947ede04",
   "metadata": {},
   "outputs": [
    {
     "data": {
      "text/plain": [
       "array([2.5])"
      ]
     },
     "execution_count": 13,
     "metadata": {},
     "output_type": "execute_result"
    }
   ],
   "source": [
    "np.convolve([1,2,3],[0,1,0.5],'valid')"
   ]
  },
  {
   "cell_type": "markdown",
   "id": "113cefe4-567a-486d-8564-bc86ee588954",
   "metadata": {},
   "source": [
    "### numpy.clip(a,a_min,a_max,out=None) "
   ]
  },
  {
   "cell_type": "markdown",
   "id": "b703c9cf-4935-4470-a421-3b582360af0b",
   "metadata": {},
   "source": [
    "剪辑（限制）数组中的值。给定一个区间，区间外的值被剪裁到区间边缘。"
   ]
  },
  {
   "cell_type": "code",
   "execution_count": 16,
   "id": "4407abbe-849b-43da-b0ec-b2534f80fdb9",
   "metadata": {},
   "outputs": [
    {
     "data": {
      "text/plain": [
       "array([1, 1, 2, 3, 4, 5, 6, 7, 8, 8])"
      ]
     },
     "execution_count": 16,
     "metadata": {},
     "output_type": "execute_result"
    }
   ],
   "source": [
    "import numpy as np\n",
    "\n",
    "a = np.arange(10)\n",
    "np.clip(a,1,8)"
   ]
  },
  {
   "cell_type": "code",
   "execution_count": 17,
   "id": "a15ff1aa-e8e1-4a93-8450-5ba7475adcc2",
   "metadata": {},
   "outputs": [
    {
     "data": {
      "text/plain": [
       "array([1, 1, 1, 1, 1, 1, 1, 1, 1, 1])"
      ]
     },
     "execution_count": 17,
     "metadata": {},
     "output_type": "execute_result"
    }
   ],
   "source": [
    "np.clip(a,8,1)"
   ]
  },
  {
   "cell_type": "code",
   "execution_count": 18,
   "id": "c52c9a9c-1349-4fbb-9792-09f3726d5edb",
   "metadata": {},
   "outputs": [
    {
     "data": {
      "text/plain": [
       "array([3, 3, 3, 3, 4, 5, 6, 6, 6, 6])"
      ]
     },
     "execution_count": 18,
     "metadata": {},
     "output_type": "execute_result"
    }
   ],
   "source": [
    "np.clip(a,3,6,out=a)\n",
    "a"
   ]
  },
  {
   "cell_type": "code",
   "execution_count": 19,
   "id": "21483851-3ee5-4633-ab37-4676b9897eee",
   "metadata": {},
   "outputs": [
    {
     "data": {
      "text/plain": [
       "array([3, 4, 2, 3, 4, 5, 6, 7, 8, 8])"
      ]
     },
     "execution_count": 19,
     "metadata": {},
     "output_type": "execute_result"
    }
   ],
   "source": [
    "b = np.arange(10)\n",
    "np.clip(b,[3,4,1,1,1,4,4,4,4,4], 8)"
   ]
  },
  {
   "cell_type": "markdown",
   "id": "37ebacdd-133d-4e98-ad29-dde5fe4502bb",
   "metadata": {},
   "source": [
    "### numpy.sqrt(x,out=None,where=True,casting='same_kind',order='K',dtype=None,subok=True)"
   ]
  },
  {
   "cell_type": "markdown",
   "id": "638c27e3-be08-48f1-836e-a03d2cfff1b5",
   "metadata": {},
   "source": [
    "按元素返回数组的非负平方根。"
   ]
  },
  {
   "cell_type": "code",
   "execution_count": 20,
   "id": "32c55ec7-8447-40f6-8b7b-c3083270aaf5",
   "metadata": {},
   "outputs": [
    {
     "data": {
      "text/plain": [
       "array([1., 2., 3.])"
      ]
     },
     "execution_count": 20,
     "metadata": {},
     "output_type": "execute_result"
    }
   ],
   "source": [
    "import numpy as np\n",
    "\n",
    "np.sqrt([1,4,9])"
   ]
  },
  {
   "cell_type": "code",
   "execution_count": 21,
   "id": "1fa4c039-81d9-4c5a-bbfa-548e590f2d92",
   "metadata": {},
   "outputs": [
    {
     "data": {
      "text/plain": [
       "array([ 0.+1.j, inf+0.j,  1.+2.j])"
      ]
     },
     "execution_count": 21,
     "metadata": {},
     "output_type": "execute_result"
    }
   ],
   "source": [
    "np.sqrt([-1,np.inf,-3+4j])    #形式统一"
   ]
  },
  {
   "cell_type": "code",
   "execution_count": 22,
   "id": "f469dc9c-c369-40ca-b69c-c7af425a5a0f",
   "metadata": {},
   "outputs": [
    {
     "data": {
      "text/plain": [
       "inf"
      ]
     },
     "execution_count": 22,
     "metadata": {},
     "output_type": "execute_result"
    }
   ],
   "source": [
    "np.sqrt(np.inf)"
   ]
  },
  {
   "cell_type": "markdown",
   "id": "e6f46bdb-6c39-4dfa-a8f8-6b45aa3dee38",
   "metadata": {},
   "source": [
    "### numpy.cbrt(a,out=None,where=True,casting='same_kind',order='K',dtype=None,subok=True)"
   ]
  },
  {
   "cell_type": "markdown",
   "id": "f510315c-a5c2-4261-8db5-a2ec131a2085",
   "metadata": {},
   "source": [
    "按元素返回数组的立方根。"
   ]
  },
  {
   "cell_type": "code",
   "execution_count": 23,
   "id": "0d9aaa80-c300-49f4-9fa2-52107f42338d",
   "metadata": {},
   "outputs": [
    {
     "data": {
      "text/plain": [
       "array([1., 2., 3.])"
      ]
     },
     "execution_count": 23,
     "metadata": {},
     "output_type": "execute_result"
    }
   ],
   "source": [
    "import numpy as np\n",
    "\n",
    "np.cbrt([1,8,27])"
   ]
  },
  {
   "cell_type": "markdown",
   "id": "54a3f2ca-e99f-4774-a7b3-3281826b0c80",
   "metadata": {},
   "source": [
    "### numpy.square(x,out=None,where=True,casting='same_kind',order='K',dtype=None,subok=True)"
   ]
  },
  {
   "cell_type": "markdown",
   "id": "39a7cbe8-0da8-449f-9801-1ffc45ea28bd",
   "metadata": {},
   "source": [
    "返回输入的元素平方。"
   ]
  },
  {
   "cell_type": "code",
   "execution_count": 24,
   "id": "72ce13ae-0d9a-4b8a-b9cc-c08b8bb4bc47",
   "metadata": {},
   "outputs": [
    {
     "data": {
      "text/plain": [
       "array([-1.+0.j,  1.+0.j])"
      ]
     },
     "execution_count": 24,
     "metadata": {},
     "output_type": "execute_result"
    }
   ],
   "source": [
    "import numpy as np\n",
    "\n",
    "np.square([-1j,1])"
   ]
  },
  {
   "cell_type": "markdown",
   "id": "b17c31a4-d35f-4349-bfaf-6db45c643ea5",
   "metadata": {},
   "source": [
    "### numpy.absolute(x,out=None,where=True,casting='same_kind',order='K',dtype=None,subok=True)"
   ]
  },
  {
   "cell_type": "markdown",
   "id": "86660d0c-fd42-4348-9ef0-bb793199e857",
   "metadata": {},
   "source": [
    "按元素绝对值运算"
   ]
  },
  {
   "cell_type": "code",
   "execution_count": 26,
   "id": "19841dbb-7809-4ca5-9550-970155dbce1f",
   "metadata": {},
   "outputs": [
    {
     "data": {
      "image/png": "[encoded data removed]",
      "text/plain": [
       "<Figure size 432x288 with 1 Axes>"
      ]
     },
     "metadata": {
      "needs_background": "light"
     },
     "output_type": "display_data"
    }
   ],
   "source": [
    "import numpy as np\n",
    "import matplotlib.pyplot as plt\n",
    "\n",
    "x = np.linspace(start=-10,stop=10,num=101)\n",
    "plt.plot(x,np.absolute(x))\n",
    "plt.show()"
   ]
  },
  {
   "cell_type": "code",
   "execution_count": 27,
   "id": "8f6edaae-d480-46d9-8e17-9edef273c5fd",
   "metadata": {},
   "outputs": [
    {
     "data": {
      "text/plain": [
       "1.5620499351813308"
      ]
     },
     "execution_count": 27,
     "metadata": {},
     "output_type": "execute_result"
    }
   ],
   "source": [
    "np.absolute(1.2 + 1j)"
   ]
  },
  {
   "cell_type": "code",
   "execution_count": 28,
   "id": "293e0d4b-bd16-418c-b76b-bd91c4028419",
   "metadata": {},
   "outputs": [
    {
     "data": {
      "text/plain": [
       "array([1.2, 1.2])"
      ]
     },
     "execution_count": 28,
     "metadata": {},
     "output_type": "execute_result"
    }
   ],
   "source": [
    "x = np.array([-1.2,1.2])\n",
    "abs(x)"
   ]
  },
  {
   "cell_type": "markdown",
   "id": "8a9137eb-1678-46a8-a87b-e28a7029e059",
   "metadata": {},
   "source": [
    "### numpy.fabs(x,out=None,where=True,casting='same_kind',order='K',dtype=None,subok=True)"
   ]
  },
  {
   "cell_type": "markdown",
   "id": "0d8017f3-f95f-4125-a06f-3c172d8b942b",
   "metadata": {},
   "source": [
    "按元素计算绝对值。此函数返回 x 中数据的绝对值（正值）。\n",
    "\n",
    "不处理复数，使用numpy.absolute来求复数的绝对值。"
   ]
  },
  {
   "cell_type": "code",
   "execution_count": 29,
   "id": "7fca7c27-db1b-446d-8768-5b83cdc67240",
   "metadata": {},
   "outputs": [
    {
     "data": {
      "text/plain": [
       "array([1.2, 1.2])"
      ]
     },
     "execution_count": 29,
     "metadata": {},
     "output_type": "execute_result"
    }
   ],
   "source": [
    "import numpy as np\n",
    "\n",
    "np.fabs([-1.2,1.2])"
   ]
  },
  {
   "cell_type": "markdown",
   "id": "0f1ef3d9-5094-4358-a9b3-72d7bec294d9",
   "metadata": {},
   "source": [
    "### numpy.sign(x,out=None,where=True,casting='same_kind',order='K',dtype=None,subok=True)"
   ]
  },
  {
   "cell_type": "markdown",
   "id": "b8ef23d7-a62e-4991-94d2-ce0bbc436b6a",
   "metadata": {},
   "source": [
    "返回数字符号的元素指示。"
   ]
  },
  {
   "cell_type": "code",
   "execution_count": 30,
   "id": "79409a65-989d-4e52-9dbc-737b112fe8c2",
   "metadata": {
    "tags": [],
    "toc-hr-collapsed": true
   },
   "outputs": [
    {
     "data": {
      "text/plain": [
       "array([-1.,  0.,  1.])"
      ]
     },
     "execution_count": 30,
     "metadata": {},
     "output_type": "execute_result"
    }
   ],
   "source": [
    "#实数\n",
    "import numpy as np\n",
    "\n",
    "np.sign([-5,0,4.5])"
   ]
  },
  {
   "cell_type": "code",
   "execution_count": 32,
   "id": "1e659b88-134e-43ad-ae36-9263a5b63d08",
   "metadata": {},
   "outputs": [
    {
     "data": {
      "text/plain": [
       "array([ 1.+0.j, -1.+0.j])"
      ]
     },
     "execution_count": 32,
     "metadata": {},
     "output_type": "execute_result"
    }
   ],
   "source": [
    "#复数(实部不为0，返回实部符号 + 0.j)\n",
    "\n",
    "np.sign([5-2j,-4+8j])"
   ]
  },
  {
   "cell_type": "code",
   "execution_count": 35,
   "id": "8e72b271-de0e-4823-bae4-02cee62f7ede",
   "metadata": {},
   "outputs": [
    {
     "data": {
      "text/plain": [
       "array([-1.+0.j,  1.+0.j])"
      ]
     },
     "execution_count": 35,
     "metadata": {},
     "output_type": "execute_result"
    }
   ],
   "source": [
    "#     (实部为0，返回虚部符号 + 0.j)\n",
    "\n",
    "np.sign([0-2j,0+8j])"
   ]
  },
  {
   "cell_type": "markdown",
   "id": "5a6b1fc8-6102-424b-b267-70add7a45bdd",
   "metadata": {},
   "source": [
    "### numy.heaviside(x1,x2,out=None,where=True,casting='same_kind',order='K',dtype=None,subok=True)"
   ]
  },
  {
   "cell_type": "markdown",
   "id": "9f40aa8f-bcb6-4539-a276-c785ddf3d7ac",
   "metadata": {},
   "source": [
    "$$ heaviside(x_1,x_2)=\\left\\{\\begin{matrix}\n",
    "0 & if \\quad x_1 <0\\\\ \n",
    "x_2&if \\quad x_1==0 \\\\ \n",
    "1 & if \\quad x_1>0\n",
    "\\end{matrix}\\right.$$"
   ]
  },
  {
   "cell_type": "code",
   "execution_count": 36,
   "id": "a59da794-c158-4de8-b79b-09dd253ed81b",
   "metadata": {},
   "outputs": [
    {
     "data": {
      "text/plain": [
       "array([0. , 0.5, 1. ])"
      ]
     },
     "execution_count": 36,
     "metadata": {},
     "output_type": "execute_result"
    }
   ],
   "source": [
    "import numpy as np\n",
    "\n",
    "np.heaviside([-1.5,0,2.0],0.5)"
   ]
  },
  {
   "cell_type": "code",
   "execution_count": 37,
   "id": "fc220054-65fc-42d7-acde-0cb08ee7e041",
   "metadata": {},
   "outputs": [
    {
     "data": {
      "text/plain": [
       "array([0., 1., 1.])"
      ]
     },
     "execution_count": 37,
     "metadata": {},
     "output_type": "execute_result"
    }
   ],
   "source": [
    "np.heaviside([-1.5,0,2.0],1)"
   ]
  },
  {
   "cell_type": "markdown",
   "id": "60c049a2-d716-468a-8d57-97926a6b9e51",
   "metadata": {},
   "source": [
    "### numpy.maximum(x1,x2,out=None,where=True,casting='same_kind',order='K',dtype=None,subok=True)"
   ]
  },
  {
   "cell_type": "markdown",
   "id": "723d3f5e-a2ce-49e4-bf92-34521937eb5c",
   "metadata": {},
   "source": [
    "### numpy.fmax(x1,x2,out=None,where=True,casting='same_kind',order='K',dtype=None,subok=True)"
   ]
  },
  {
   "cell_type": "markdown",
   "id": "e31bd302-0cd8-4a8e-b8e8-21c6e19fa853",
   "metadata": {},
   "source": [
    "数组元素的逐元素最大值。两者区别在于对numpy.nan"
   ]
  },
  {
   "cell_type": "code",
   "execution_count": 38,
   "id": "1fcb1c2e-b743-491e-9174-f3e97298c416",
   "metadata": {},
   "outputs": [
    {
     "data": {
      "text/plain": [
       "array([2, 5, 4])"
      ]
     },
     "execution_count": 38,
     "metadata": {},
     "output_type": "execute_result"
    }
   ],
   "source": [
    "import numpy as np\n",
    "\n",
    "np.maximum([2,3,4],[1,5,2])"
   ]
  },
  {
   "cell_type": "code",
   "execution_count": 39,
   "id": "0bae102c-d736-474c-baab-491b01c902d1",
   "metadata": {},
   "outputs": [
    {
     "data": {
      "text/plain": [
       "array([[1., 0.],\n",
       "       [0., 1.]])"
      ]
     },
     "execution_count": 39,
     "metadata": {},
     "output_type": "execute_result"
    }
   ],
   "source": [
    "np.eye(2)"
   ]
  },
  {
   "cell_type": "code",
   "execution_count": 43,
   "id": "c8bda393-aeb2-4241-b88d-e0dbe104d9e9",
   "metadata": {},
   "outputs": [
    {
     "data": {
      "text/plain": [
       "array([[1. , 2. ],\n",
       "       [0.5, 2. ]])"
      ]
     },
     "execution_count": 43,
     "metadata": {},
     "output_type": "execute_result"
    }
   ],
   "source": [
    "np.maximum(np.eye(2),[0.5,2])  #broadcasting"
   ]
  },
  {
   "cell_type": "code",
   "execution_count": 46,
   "id": "4a7fabd1-b6a6-4f28-81eb-fb24b517ffe8",
   "metadata": {},
   "outputs": [
    {
     "data": {
      "text/plain": [
       "array([nan, nan, nan])"
      ]
     },
     "execution_count": 46,
     "metadata": {},
     "output_type": "execute_result"
    }
   ],
   "source": [
    "np.maximum([np.nan, 0, np.nan],[0, np.nan, np.nan])"
   ]
  },
  {
   "cell_type": "code",
   "execution_count": 47,
   "id": "55d243cc-da79-45e6-b492-63f38c171950",
   "metadata": {},
   "outputs": [
    {
     "data": {
      "text/plain": [
       "array([ 0.,  0., nan])"
      ]
     },
     "execution_count": 47,
     "metadata": {},
     "output_type": "execute_result"
    }
   ],
   "source": [
    "np.fmax([np.nan, 0, np.nan],[0, np.nan, np.nan])"
   ]
  },
  {
   "cell_type": "markdown",
   "id": "c90fe03a-c3bd-499d-b54f-55312f70747c",
   "metadata": {},
   "source": [
    "### numpy.minimum(x1,x2,out=None,where=True,casting='same_kind',order='K',dtype=None,subok=True)"
   ]
  },
  {
   "cell_type": "markdown",
   "id": "a81474ba-7a6d-4dbb-b82c-7c182a26363c",
   "metadata": {},
   "source": [
    "### numpy.fmin(x1,x2,out=None,where=True,casting='same_kind',order='K',dtype=None,subok=True)"
   ]
  },
  {
   "cell_type": "markdown",
   "id": "b080db40-cb5d-4ca4-be7e-ec9c12642511",
   "metadata": {},
   "source": [
    "数组元素的逐元素最小值。两者区别在于对numpy.nan"
   ]
  },
  {
   "cell_type": "code",
   "execution_count": 41,
   "id": "4477aad6-91ff-42f6-95eb-fbebb91d675b",
   "metadata": {},
   "outputs": [
    {
     "data": {
      "text/plain": [
       "array([1, 3, 2])"
      ]
     },
     "execution_count": 41,
     "metadata": {},
     "output_type": "execute_result"
    }
   ],
   "source": [
    "import numpy as np\n",
    "\n",
    "np.minimum([2,3,4],[1,5,2])"
   ]
  },
  {
   "cell_type": "code",
   "execution_count": 42,
   "id": "21839b1b-5c8b-446f-acc0-5698da6e45fb",
   "metadata": {},
   "outputs": [
    {
     "data": {
      "text/plain": [
       "array([[0.5, 0. ],\n",
       "       [0. , 1. ]])"
      ]
     },
     "execution_count": 42,
     "metadata": {},
     "output_type": "execute_result"
    }
   ],
   "source": [
    "np.minimum(np.eye(2),[0.5,2])  #broadcasting"
   ]
  },
  {
   "cell_type": "code",
   "execution_count": 45,
   "id": "19f660e8-a135-41cc-a057-0f860b580ba2",
   "metadata": {},
   "outputs": [
    {
     "data": {
      "text/plain": [
       "array([nan, nan, nan])"
      ]
     },
     "execution_count": 45,
     "metadata": {},
     "output_type": "execute_result"
    }
   ],
   "source": [
    "np.minimum([np.nan, 0, np.nan],[0, np.nan, np.nan])"
   ]
  },
  {
   "cell_type": "code",
   "execution_count": 48,
   "id": "38523393-bdf5-454d-b2ec-883fe9ea0b3c",
   "metadata": {},
   "outputs": [
    {
     "data": {
      "text/plain": [
       "array([ 0.,  0., nan])"
      ]
     },
     "execution_count": 48,
     "metadata": {},
     "output_type": "execute_result"
    }
   ],
   "source": [
    "np.fmin([np.nan,0,np.nan],[0,np.nan,np.nan])"
   ]
  },
  {
   "cell_type": "markdown",
   "id": "04471611-c3cf-4d89-b3e9-58580700b46e",
   "metadata": {},
   "source": [
    "### numpy.nan_to_num(x,copy=True,nan=0.0,posinf=None,neginf=None)"
   ]
  },
  {
   "cell_type": "markdown",
   "id": "4e1694ef-8cb1-4e4e-9b94-db2c5d8f5e23",
   "metadata": {},
   "source": [
    "用零和无穷大的有限数字（默认行为）或用户使用 nan、posinf或 neginf 关键字定义的数字替换 NaN。"
   ]
  },
  {
   "cell_type": "code",
   "execution_count": 49,
   "id": "c62737e8-825f-486a-ba41-9deb1f527eb8",
   "metadata": {},
   "outputs": [
    {
     "data": {
      "text/plain": [
       "1.7976931348623157e+308"
      ]
     },
     "execution_count": 49,
     "metadata": {},
     "output_type": "execute_result"
    }
   ],
   "source": [
    "import numpy as np\n",
    "\n",
    "np.nan_to_num(np.inf)"
   ]
  },
  {
   "cell_type": "code",
   "execution_count": 50,
   "id": "52c861e4-8e93-4f47-98ad-f9cb3e6ee783",
   "metadata": {},
   "outputs": [
    {
     "data": {
      "text/plain": [
       "0.0"
      ]
     },
     "execution_count": 50,
     "metadata": {},
     "output_type": "execute_result"
    }
   ],
   "source": [
    "np.nan_to_num(np.nan)"
   ]
  },
  {
   "cell_type": "code",
   "execution_count": 52,
   "id": "921ab813-38a8-43a2-81ea-06bdff8aef4a",
   "metadata": {},
   "outputs": [
    {
     "data": {
      "text/plain": [
       "array([ 3333.,  6666., -9999.,  -128.,   128.])"
      ]
     },
     "execution_count": 52,
     "metadata": {},
     "output_type": "execute_result"
    }
   ],
   "source": [
    "x = np.array([np.inf,-np.inf,np.nan,-128,128])\n",
    "np.nan_to_num(x,nan=-9999,posinf=3333,neginf=6666)"
   ]
  },
  {
   "cell_type": "markdown",
   "id": "87f1647c-b97b-4969-a38c-003c3ae721a9",
   "metadata": {},
   "source": [
    "### numpy.real_if_close(a,tol=100)"
   ]
  },
  {
   "cell_type": "markdown",
   "id": "a242fb45-597d-456c-a129-b07e893306b3",
   "metadata": {},
   "source": [
    "如果输入是复数且所有虚部都接近于零，则返回实部。"
   ]
  },
  {
   "cell_type": "code",
   "execution_count": 57,
   "id": "bacf7ed0-b059-4046-b76e-2f39c3868752",
   "metadata": {},
   "outputs": [
    {
     "data": {
      "text/plain": [
       "array([2.1+4.e-14j, 5.2+3.e-15j])"
      ]
     },
     "execution_count": 57,
     "metadata": {},
     "output_type": "execute_result"
    }
   ],
   "source": [
    "import numpy as np\n",
    "\n",
    "np.real_if_close([2.1 + 4e-14j,5.2 + 3e-15j])"
   ]
  },
  {
   "cell_type": "markdown",
   "id": "d6464719-3861-4eb8-9c70-c755c092decf",
   "metadata": {},
   "source": [
    "参数：\n",
    "    tol:数组中元素的复杂部分的机器 epsilon 容差。"
   ]
  },
  {
   "cell_type": "code",
   "execution_count": 55,
   "id": "cccdbc44-8530-4b6d-9d4e-3ae9b8b3faed",
   "metadata": {},
   "outputs": [
    {
     "data": {
      "text/plain": [
       "array([2.1, 5.2])"
      ]
     },
     "execution_count": 55,
     "metadata": {},
     "output_type": "execute_result"
    }
   ],
   "source": [
    "np.real_if_close([2.1 + 4e-14j,5.2 + 3e-15j],tol=1000)"
   ]
  },
  {
   "cell_type": "markdown",
   "id": "2b4edca4-7a7b-43f6-beb2-540d311ab86c",
   "metadata": {},
   "source": [
    "### numpy.interp(x,xp,fp,left=None,right=None,period=None)"
   ]
  },
  {
   "cell_type": "markdown",
   "id": "c5ee751e-67b4-4b06-a50f-a841638af8e1",
   "metadata": {},
   "source": [
    "用于单调增加采样点的一维线性插值。"
   ]
  },
  {
   "cell_type": "markdown",
   "id": "8829f66c-e368-4cf4-adc5-caab7e509bc6",
   "metadata": {},
   "source": [
    "参数：\n",
    "\n",
    "      xp:如果未指定参数周期，则数据点的 x 坐标必须增加。否则，在使用 xp = xp % period 对周期性边界进行归一化后，xp 将在内部进行排序\n",
    "      fp:数据点的 y 坐标，长度与 xp 相同。"
   ]
  },
  {
   "attachments": {
    "951e80b9-5b83-4a5e-b0bd-54e0e84e9891.png": {
     "image/png": "[encoded data removed]"
    }
   },
   "cell_type": "markdown",
   "id": "c446f77e-d9d6-48f6-b37b-91a5feeaed9e",
   "metadata": {},
   "source": [
    "![1209802-20191113170037209-129800832.png](attachment:951e80b9-5b83-4a5e-b0bd-54e0e84e9891.png)"
   ]
  },
  {
   "cell_type": "code",
   "execution_count": 61,
   "id": "4dab2854-004a-4cc3-8edd-cfc01c5a99bb",
   "metadata": {},
   "outputs": [
    {
     "data": {
      "text/plain": [
       "array([3.  , 3.  , 2.5 , 0.56, 0.  ])"
      ]
     },
     "execution_count": 61,
     "metadata": {},
     "output_type": "execute_result"
    }
   ],
   "source": [
    "import numpy as np\n",
    "\n",
    "xp = [1,2,3]\n",
    "fp = [3,2,0]\n",
    "np.interp([0, 1, 1.5, 2.72, 3.14],xp,fp)"
   ]
  },
  {
   "cell_type": "markdown",
   "id": "4dd1c807-f48d-4975-b8fa-e4ecb27f55cc",
   "metadata": {},
   "source": [
    "        left:x < xp[0] 的返回值，默认为 fp[0]\n",
    "        right:x > xp[-1] 的返回值，默认为 fp[-1]"
   ]
  },
  {
   "cell_type": "code",
   "execution_count": 66,
   "id": "6ba4b194-72b7-4b49-986b-3d2c1e7b84d2",
   "metadata": {},
   "outputs": [
    {
     "data": {
      "text/plain": [
       "array([-99.,  99.])"
      ]
     },
     "execution_count": 66,
     "metadata": {},
     "output_type": "execute_result"
    }
   ],
   "source": [
    "np.interp([3.14,0] ,xp, fp,left=99,right=-99)"
   ]
  },
  {
   "cell_type": "markdown",
   "id": "303455ce-e340-4aed-974a-e345e1a4b9ee",
   "metadata": {},
   "source": [
    "        period(None or float,可选):如果指定了值，则参数 left 和 right 将被忽略。"
   ]
  },
  {
   "cell_type": "code",
   "execution_count": 67,
   "id": "8b6d412d-df04-45a8-afc2-c5eda80e5596",
   "metadata": {},
   "outputs": [
    {
     "data": {
      "text/plain": [
       "array([7.5 , 5.  , 8.75, 6.25, 3.  , 3.25, 3.5 , 3.75])"
      ]
     },
     "execution_count": 67,
     "metadata": {},
     "output_type": "execute_result"
    }
   ],
   "source": [
    "x = [-180, -170, -185, 185, -10, -5, 0, 365]\n",
    "xp = [190, -190, 350, -350]\n",
    "fp = [5, 10, 3, 4]\n",
    "np.interp(x, xp, fp, period=360)"
   ]
  },
  {
   "cell_type": "markdown",
   "id": "725c4c58-b5ad-48ea-b3ed-1f6b91703673",
   "metadata": {},
   "source": [
    "绘制正弦函数的插值："
   ]
  },
  {
   "cell_type": "code",
   "execution_count": 68,
   "id": "a275f4a0-2b9f-4013-b8de-46603451430e",
   "metadata": {},
   "outputs": [
    {
     "data": {
      "image/png": "[encoded data removed]",
      "text/plain": [
       "<Figure size 432x288 with 1 Axes>"
      ]
     },
     "metadata": {
      "needs_background": "light"
     },
     "output_type": "display_data"
    }
   ],
   "source": [
    "import matplotlib.pyplot as plt\n",
    "import numpy as np\n",
    "\n",
    "x = np.linspace(0, 2*np.pi, 10)\n",
    "y = np.sin(x)\n",
    "xvals = np.linspace(0, 2*np.pi, 50)\n",
    "yinterp = np.interp(xvals, x, y)\n",
    "\n",
    "plt.plot(x, y, 'o')\n",
    "plt.plot(xvals, yinterp, '-x')\n",
    "plt.show()"
   ]
  },
  {
   "cell_type": "code",
   "execution_count": null,
   "id": "2a496810-7fd4-485f-bd92-d703b4fd503d",
   "metadata": {},
   "outputs": [],
   "source": []
  },
  {
   "cell_type": "markdown",
   "id": "a68093da-d564-4211-9606-a6e6c3c99b36",
   "metadata": {},
   "source": [
    "# 基本操作"
   ]
  },
  {
   "cell_type": "markdown",
   "id": "0801b9cc-fb4b-418a-8194-44eabffcee86",
   "metadata": {},
   "source": [
    "### numpy.copyto(dst, src, casting='same_kind', where=True)"
   ]
  },
  {
   "cell_type": "markdown",
   "id": "825b639f-2450-45f4-a893-ac782ea581bd",
   "metadata": {},
   "source": [
    "将值从一个数组复制到另一个数组，根据需要进行广播。\n",
    "\n",
    "参数：\n",
    "det:将值复制到其中的数组\n",
    "src:源数组"
   ]
  },
  {
   "cell_type": "code",
   "execution_count": 8,
   "id": "cf7aa94b-8923-44c1-824b-523c016fdf1d",
   "metadata": {},
   "outputs": [
    {
     "name": "stdout",
     "output_type": "stream",
     "text": [
      "[4 5 6]\n",
      "[4 5 6]\n"
     ]
    }
   ],
   "source": [
    "import numpy as np\n",
    "\n",
    "a = np.array([1, 2, 3])\n",
    "b = np.array([4, 5, 6])\n",
    "\n",
    "np.copyto(a, b)\n",
    "print(a)\n",
    "print(b)"
   ]
  },
  {
   "cell_type": "markdown",
   "id": "bd05316c-4772-4ab8-b00c-c27eec88f239",
   "metadata": {},
   "source": [
    "casting:{'no','equiv','safe','same_kind','unsafe'},可选\n",
    "    控制复制时可能发生的数据类型转换。\n",
    "    'no':表示不强制转换数据类型\n",
    "    'equiv' 意味着只允许字节顺序更改\n",
    "    “safe”意味着只允许可以保留值的强制转换\n",
    "    'same_kind' 意味着只允许安全转换或类型内的转换，例如 float64 到 float32\n",
    "    “unsafe”意味着可以进行任何数据转换"
   ]
  },
  {
   "cell_type": "code",
   "execution_count": 26,
   "id": "ea6c46d4-8dd9-4fba-9159-3eb07e9f5e93",
   "metadata": {},
   "outputs": [
    {
     "name": "stdout",
     "output_type": "stream",
     "text": [
      "[1 2 5]\n",
      "[0 0 0]\n"
     ]
    }
   ],
   "source": [
    "c = np.array([1.0, 2.3, 5.2])\n",
    "\n",
    "np.copyto(b, c, casting='unsafe')\n",
    "print(b)\n",
    "np.copyto(b, 0,casting='unsafe')\n",
    "print(b)"
   ]
  },
  {
   "cell_type": "markdown",
   "id": "3d421d20-69c9-4862-9730-9f457623ef58",
   "metadata": {},
   "source": [
    "where:{True,False},可选\n",
    "被广播以匹配dst的维度，并选择要从src复制到dst 的元素"
   ]
  },
  {
   "cell_type": "markdown",
   "id": "5f2e91e3-1e5c-4ad9-9fb2-591cd91eb381",
   "metadata": {},
   "source": [
    "### numpy.shape(a)"
   ]
  },
  {
   "cell_type": "markdown",
   "id": "75359ff5-abee-4768-8615-63bdbb2a686f",
   "metadata": {},
   "source": [
    "返回数组的形状。\n",
    "\n",
    "参数：\n",
    "a:输入的数组\n",
    "\n",
    "返回：\n",
    "shape:形状元组的元素给出了相应数组维度的长度"
   ]
  },
  {
   "cell_type": "code",
   "execution_count": 24,
   "id": "787b8680-63fd-4aff-a805-923f1d4f12b5",
   "metadata": {},
   "outputs": [
    {
     "data": {
      "text/plain": [
       "(3, 3)"
      ]
     },
     "execution_count": 24,
     "metadata": {},
     "output_type": "execute_result"
    }
   ],
   "source": [
    "import numpy as np\n",
    "\n",
    "np.shape(np.eye(3))"
   ]
  },
  {
   "cell_type": "code",
   "execution_count": 27,
   "id": "e5152cd2-cbcc-414a-87b9-114ba523a1a2",
   "metadata": {},
   "outputs": [
    {
     "data": {
      "text/plain": [
       "(1, 2)"
      ]
     },
     "execution_count": 27,
     "metadata": {},
     "output_type": "execute_result"
    }
   ],
   "source": [
    "np.shape([[1, 2]])"
   ]
  },
  {
   "cell_type": "code",
   "execution_count": 28,
   "id": "ab16fe2d-a58f-4a7c-9748-bd797a804259",
   "metadata": {},
   "outputs": [
    {
     "data": {
      "text/plain": [
       "(1,)"
      ]
     },
     "execution_count": 28,
     "metadata": {},
     "output_type": "execute_result"
    }
   ],
   "source": [
    "np.shape([0])"
   ]
  },
  {
   "cell_type": "code",
   "execution_count": 241,
   "id": "0af2d81f-e82d-49c1-99a4-1173f6e75461",
   "metadata": {},
   "outputs": [
    {
     "data": {
      "text/plain": [
       "()"
      ]
     },
     "execution_count": 241,
     "metadata": {},
     "output_type": "execute_result"
    }
   ],
   "source": [
    "np.shape(0)"
   ]
  },
  {
   "cell_type": "markdown",
   "id": "06277b81-9dbf-4bad-992a-5411004b2485",
   "metadata": {
    "toc-hr-collapsed": true
   },
   "source": [
    "# 注意点 "
   ]
  },
  {
   "cell_type": "markdown",
   "id": "8ee6215c-025e-4b37-83f7-e77213e7c160",
   "metadata": {},
   "source": [
    "## 广播机制(broadcasting mechanism)\n",
    "\n",
    "数组之间的形状不同，我们仍然可以调用广播机制来执行按元素操作。(这个特殊机制需要特别注意，对后续的操作有影响)"
   ]
  },
  {
   "cell_type": "code",
   "execution_count": 243,
   "id": "317d72ca-5ef9-4e72-b52f-018fcba81a17",
   "metadata": {},
   "outputs": [
    {
     "data": {
      "text/plain": [
       "(array([[0],\n",
       "        [1],\n",
       "        [2]]),\n",
       " array([[0, 1]]))"
      ]
     },
     "execution_count": 243,
     "metadata": {},
     "output_type": "execute_result"
    }
   ],
   "source": [
    "import numpy as np\n",
    "\n",
    "a = np.arange(3).reshape((3, 1))\n",
    "b = np.arange(2).reshape((1, 2))\n",
    "a,b"
   ]
  },
  {
   "cell_type": "code",
   "execution_count": 244,
   "id": "0f589ffa-a8d2-47e0-9be8-fd09df50b8ea",
   "metadata": {},
   "outputs": [
    {
     "data": {
      "text/plain": [
       "array([[0, 1],\n",
       "       [1, 2],\n",
       "       [2, 3]])"
      ]
     },
     "execution_count": 244,
     "metadata": {},
     "output_type": "execute_result"
    }
   ],
   "source": [
    "a + b"
   ]
  },
  {
   "cell_type": "markdown",
   "id": "bd85442a-2ed9-4c2f-88a8-f44a9194f17d",
   "metadata": {},
   "source": [
    "## 浅复制和深复制"
   ]
  },
  {
   "cell_type": "code",
   "execution_count": 240,
   "id": "f56ea866-fd04-4876-84c8-db16f2d15154",
   "metadata": {},
   "outputs": [
    {
     "data": {
      "text/plain": [
       "array([2, 2, 2, 2, 2, 2, 2, 2, 2, 2, 2, 2])"
      ]
     },
     "execution_count": 240,
     "metadata": {},
     "output_type": "execute_result"
    }
   ],
   "source": [
    "import numpy as np\n",
    "\n",
    "a = np.arange(12)\n",
    "b = a.reshape((3,4))\n",
    "b[:] = 2\n",
    "a"
   ]
  },
  {
   "cell_type": "code",
   "execution_count": 1,
   "id": "bfb8f9a4-34d9-456d-b6dc-053b781cdce6",
   "metadata": {},
   "outputs": [
    {
     "name": "stdout",
     "output_type": "stream",
     "text": [
      "default\n",
      "1\n",
      "192.168.1.1\n"
     ]
    }
   ],
   "source": []
  },
  {
   "cell_type": "code",
   "execution_count": 2,
   "id": "96982f53-0c19-4622-a065-659e6bf65f11",
   "metadata": {},
   "outputs": [
    {
     "name": "stdout",
     "output_type": "stream",
     "text": [
      "喜\n",
      "------------------------\n",
      "喜\n",
      "哥\n",
      "P\n",
      "Y\n",
      "T\n",
      "H\n",
      "O\n",
      "N\n"
     ]
    }
   ],
   "source": []
  },
  {
   "cell_type": "code",
   "execution_count": null,
   "id": "492b0cd9-105b-42f6-bc85-bdd8403715df",
   "metadata": {},
   "outputs": [],
   "source": []
  }
 ],
 "metadata": {
  "kernelspec": {
   "display_name": "Python (learn>",
   "language": "python",
   "name": "ancillary"
  },
  "language_info": {
   "codemirror_mode": {
    "name": "ipython",
    "version": 3
   },
   "file_extension": ".py",
   "mimetype": "text/x-python",
   "name": "python",
   "nbconvert_exporter": "python",
   "pygments_lexer": "ipython3",
   "version": "3.7.10"
  }
 },
 "nbformat": 4,
 "nbformat_minor": 5
}
